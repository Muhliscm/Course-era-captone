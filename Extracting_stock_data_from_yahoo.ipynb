{
  "nbformat": 4,
  "nbformat_minor": 0,
  "metadata": {
    "colab": {
      "name": "Extracting_stock_data_from_yahoo.ipynb",
      "provenance": [],
      "authorship_tag": "ABX9TyPdoDip7rmHyZNLwP4L6EQy",
      "include_colab_link": true
    },
    "kernelspec": {
      "name": "python3",
      "display_name": "Python 3"
    },
    "language_info": {
      "name": "python"
    }
  },
  "cells": [
    {
      "cell_type": "markdown",
      "metadata": {
        "id": "view-in-github",
        "colab_type": "text"
      },
      "source": [
        "<a href=\"https://colab.research.google.com/github/Muhliscm/Course-era-captone/blob/master/Extracting_stock_data_from_yahoo.ipynb\" target=\"_parent\"><img src=\"https://colab.research.google.com/assets/colab-badge.svg\" alt=\"Open In Colab\"/></a>"
      ]
    },
    {
      "cell_type": "markdown",
      "metadata": {
        "id": "cnDjrIn7DGwy"
      },
      "source": [
        "#<B>Using the yfinance library to extract stock data"
      ]
    },
    {
      "cell_type": "code",
      "metadata": {
        "colab": {
          "base_uri": "https://localhost:8080/"
        },
        "id": "Ejjh0p5JB2og",
        "outputId": "cb4e374f-7fe3-4afd-df2b-cd42ba92298f"
      },
      "source": [
        "!pip install yfinance"
      ],
      "execution_count": 1,
      "outputs": [
        {
          "output_type": "stream",
          "text": [
            "Collecting yfinance\n",
            "  Downloading https://files.pythonhosted.org/packages/a7/ee/315752b9ef281ba83c62aa7ec2e2074f85223da6e7e74efb4d3e11c0f510/yfinance-0.1.59.tar.gz\n",
            "Requirement already satisfied: pandas>=0.24 in /usr/local/lib/python3.7/dist-packages (from yfinance) (1.1.5)\n",
            "Requirement already satisfied: numpy>=1.15 in /usr/local/lib/python3.7/dist-packages (from yfinance) (1.19.5)\n",
            "Requirement already satisfied: requests>=2.20 in /usr/local/lib/python3.7/dist-packages (from yfinance) (2.23.0)\n",
            "Requirement already satisfied: multitasking>=0.0.7 in /usr/local/lib/python3.7/dist-packages (from yfinance) (0.0.9)\n",
            "Collecting lxml>=4.5.1\n",
            "\u001b[?25l  Downloading https://files.pythonhosted.org/packages/cf/4d/6537313bf58fe22b508f08cf3eb86b29b6f9edf68e00454224539421073b/lxml-4.6.3-cp37-cp37m-manylinux1_x86_64.whl (5.5MB)\n",
            "\u001b[K     |████████████████████████████████| 5.5MB 16.8MB/s \n",
            "\u001b[?25hRequirement already satisfied: python-dateutil>=2.7.3 in /usr/local/lib/python3.7/dist-packages (from pandas>=0.24->yfinance) (2.8.1)\n",
            "Requirement already satisfied: pytz>=2017.2 in /usr/local/lib/python3.7/dist-packages (from pandas>=0.24->yfinance) (2018.9)\n",
            "Requirement already satisfied: certifi>=2017.4.17 in /usr/local/lib/python3.7/dist-packages (from requests>=2.20->yfinance) (2020.12.5)\n",
            "Requirement already satisfied: urllib3!=1.25.0,!=1.25.1,<1.26,>=1.21.1 in /usr/local/lib/python3.7/dist-packages (from requests>=2.20->yfinance) (1.24.3)\n",
            "Requirement already satisfied: chardet<4,>=3.0.2 in /usr/local/lib/python3.7/dist-packages (from requests>=2.20->yfinance) (3.0.4)\n",
            "Requirement already satisfied: idna<3,>=2.5 in /usr/local/lib/python3.7/dist-packages (from requests>=2.20->yfinance) (2.10)\n",
            "Requirement already satisfied: six>=1.5 in /usr/local/lib/python3.7/dist-packages (from python-dateutil>=2.7.3->pandas>=0.24->yfinance) (1.15.0)\n",
            "Building wheels for collected packages: yfinance\n",
            "  Building wheel for yfinance (setup.py) ... \u001b[?25l\u001b[?25hdone\n",
            "  Created wheel for yfinance: filename=yfinance-0.1.59-py2.py3-none-any.whl size=23442 sha256=65b5f0c5720909ff4a157a70a923c5ee370dc8aa8a00346783106aa604da4bad\n",
            "  Stored in directory: /root/.cache/pip/wheels/f8/2a/0f/4b5a86e1d52e451757eb6bc17fd899629f0925c777741b6d04\n",
            "Successfully built yfinance\n",
            "Installing collected packages: lxml, yfinance\n",
            "  Found existing installation: lxml 4.2.6\n",
            "    Uninstalling lxml-4.2.6:\n",
            "      Successfully uninstalled lxml-4.2.6\n",
            "Successfully installed lxml-4.6.3 yfinance-0.1.59\n"
          ],
          "name": "stdout"
        }
      ]
    },
    {
      "cell_type": "code",
      "metadata": {
        "id": "UypErhAdCk_R"
      },
      "source": [
        "import yfinance as yf\n",
        "import pandas as pd\n"
      ],
      "execution_count": 2,
      "outputs": []
    },
    {
      "cell_type": "markdown",
      "metadata": {
        "id": "eAFRGdwTE6aV"
      },
      "source": [
        "#Apple Stock Data"
      ]
    },
    {
      "cell_type": "code",
      "metadata": {
        "id": "jdcGhvIHCsJ-"
      },
      "source": [
        "apple = yf.Ticker(\"AAPL\")"
      ],
      "execution_count": 3,
      "outputs": []
    },
    {
      "cell_type": "code",
      "metadata": {
        "colab": {
          "base_uri": "https://localhost:8080/"
        },
        "id": "TDJJwgzqDfZn",
        "outputId": "ae292cd6-40c7-43a3-df81-3122648eb51d"
      },
      "source": [
        "apple_info = apple.info\n",
        "apple_info"
      ],
      "execution_count": 4,
      "outputs": [
        {
          "output_type": "execute_result",
          "data": {
            "text/plain": [
              "{'52WeekChange': 0.82881033,\n",
              " 'SandP52WeekChange': 0.45042264,\n",
              " 'address1': 'One Apple Park Way',\n",
              " 'algorithm': None,\n",
              " 'annualHoldingsTurnover': None,\n",
              " 'annualReportExpenseRatio': None,\n",
              " 'ask': 133.3,\n",
              " 'askSize': 1100,\n",
              " 'averageDailyVolume10Day': 89822366,\n",
              " 'averageVolume': 107040886,\n",
              " 'averageVolume10days': 89822366,\n",
              " 'beta': 1.219525,\n",
              " 'beta3Year': None,\n",
              " 'bid': 133.29,\n",
              " 'bidSize': 1100,\n",
              " 'bookValue': 3.936,\n",
              " 'category': None,\n",
              " 'circulatingSupply': None,\n",
              " 'city': 'Cupertino',\n",
              " 'companyOfficers': [],\n",
              " 'country': 'United States',\n",
              " 'currency': 'USD',\n",
              " 'dateShortInterest': 1617148800,\n",
              " 'dayHigh': 133.69,\n",
              " 'dayLow': 131.94,\n",
              " 'dividendRate': 0.82,\n",
              " 'dividendYield': 0.0062,\n",
              " 'earningsQuarterlyGrowth': 0.293,\n",
              " 'enterpriseToEbitda': 26.632,\n",
              " 'enterpriseToRevenue': 7.711,\n",
              " 'enterpriseValue': 2267949826048,\n",
              " 'exDividendDate': 1612483200,\n",
              " 'exchange': 'NMS',\n",
              " 'exchangeTimezoneName': 'America/New_York',\n",
              " 'exchangeTimezoneShortName': 'EDT',\n",
              " 'expireDate': None,\n",
              " 'fiftyDayAverage': 123.43172,\n",
              " 'fiftyTwoWeekHigh': 145.09,\n",
              " 'fiftyTwoWeekLow': 66.3575,\n",
              " 'fiveYearAverageReturn': None,\n",
              " 'fiveYearAvgDividendYield': 1.39,\n",
              " 'floatShares': 16770636380,\n",
              " 'forwardEps': 4.7,\n",
              " 'forwardPE': 28.325535,\n",
              " 'fromCurrency': None,\n",
              " 'fullTimeEmployees': 147000,\n",
              " 'fundFamily': None,\n",
              " 'fundInceptionDate': None,\n",
              " 'gmtOffSetMilliseconds': '-14400000',\n",
              " 'heldPercentInsiders': 0.00075999997,\n",
              " 'heldPercentInstitutions': 0.59790003,\n",
              " 'impliedSharesOutstanding': None,\n",
              " 'industry': 'Consumer Electronics',\n",
              " 'isEsgPopulated': False,\n",
              " 'lastCapGain': None,\n",
              " 'lastDividendDate': 1612483200,\n",
              " 'lastDividendValue': 0.205,\n",
              " 'lastFiscalYearEnd': 1601078400,\n",
              " 'lastMarket': None,\n",
              " 'lastSplitDate': 1598832000,\n",
              " 'lastSplitFactor': '4:1',\n",
              " 'legalType': None,\n",
              " 'logo_url': 'https://logo.clearbit.com/apple.com',\n",
              " 'longBusinessSummary': 'Apple Inc. designs, manufactures, and markets smartphones, personal computers, tablets, wearables, and accessories worldwide. It also sells various related services. The company offers iPhone, a line of smartphones; Mac, a line of personal computers; iPad, a line of multi-purpose tablets; and wearables, home, and accessories comprising AirPods, Apple TV, Apple Watch, Beats products, HomePod, iPod touch, and other Apple-branded and third-party accessories. It also provides AppleCare support services; cloud services store services; and operates various platforms, including the App Store, that allow customers to discover and download applications and digital content, such as books, music, video, games, and podcasts. In addition, the company offers various services, such as Apple Arcade, a game subscription service; Apple Music, which offers users a curated listening experience with on-demand radio stations; Apple News+, a subscription news and magazine service; Apple TV+, which offers exclusive original content; Apple Card, a co-branded credit card; and Apple Pay, a cashless payment service, as well as licenses its intellectual property. The company serves consumers, and small and mid-sized businesses; and the education, enterprise, and government markets. It sells and delivers third-party applications for its products through the App Store. The company also sells its products through its retail and online stores, and direct sales force; and third-party cellular network carriers, wholesalers, retailers, and resellers. Apple Inc. was founded in 1977 and is headquartered in Cupertino, California.',\n",
              " 'longName': 'Apple Inc.',\n",
              " 'market': 'us_market',\n",
              " 'marketCap': 2234999898112,\n",
              " 'maxAge': 1,\n",
              " 'maxSupply': None,\n",
              " 'messageBoardId': 'finmb_24937',\n",
              " 'morningStarOverallRating': None,\n",
              " 'morningStarRiskRating': None,\n",
              " 'mostRecentQuarter': 1608940800,\n",
              " 'navPrice': None,\n",
              " 'netIncomeToCommon': 63929999360,\n",
              " 'nextFiscalYearEnd': 1664150400,\n",
              " 'open': 132.44,\n",
              " 'openInterest': None,\n",
              " 'payoutRatio': 0.2177,\n",
              " 'pegRatio': 1.84,\n",
              " 'phone': '408-996-1010',\n",
              " 'previousClose': 131.24,\n",
              " 'priceHint': 2,\n",
              " 'priceToBook': 33.82368,\n",
              " 'priceToSalesTrailing12Months': 7.5985513,\n",
              " 'profitMargins': 0.21735,\n",
              " 'quoteType': 'EQUITY',\n",
              " 'regularMarketDayHigh': 133.69,\n",
              " 'regularMarketDayLow': 131.94,\n",
              " 'regularMarketOpen': 132.44,\n",
              " 'regularMarketPreviousClose': 131.24,\n",
              " 'regularMarketPrice': 133.13,\n",
              " 'regularMarketVolume': 19291371,\n",
              " 'revenueQuarterlyGrowth': None,\n",
              " 'sector': 'Technology',\n",
              " 'sharesOutstanding': 16788100096,\n",
              " 'sharesPercentSharesOut': 0.006,\n",
              " 'sharesShort': 101484668,\n",
              " 'sharesShortPreviousMonthDate': 1614297600,\n",
              " 'sharesShortPriorMonth': 100799312,\n",
              " 'shortName': 'Apple Inc.',\n",
              " 'shortPercentOfFloat': 0.006,\n",
              " 'shortRatio': 0.88,\n",
              " 'startDate': None,\n",
              " 'state': 'CA',\n",
              " 'strikePrice': None,\n",
              " 'symbol': 'AAPL',\n",
              " 'threeYearAverageReturn': None,\n",
              " 'toCurrency': None,\n",
              " 'totalAssets': None,\n",
              " 'tradeable': False,\n",
              " 'trailingAnnualDividendRate': 0.807,\n",
              " 'trailingAnnualDividendYield': 0.0061490396,\n",
              " 'trailingEps': 3.687,\n",
              " 'trailingPE': 36.10795,\n",
              " 'twoHundredDayAverage': 124.13669,\n",
              " 'volume': 19291371,\n",
              " 'volume24Hr': None,\n",
              " 'volumeAllCurrencies': None,\n",
              " 'website': 'http://www.apple.com',\n",
              " 'yield': None,\n",
              " 'ytdReturn': None,\n",
              " 'zip': '95014'}"
            ]
          },
          "metadata": {
            "tags": []
          },
          "execution_count": 4
        }
      ]
    },
    {
      "cell_type": "code",
      "metadata": {
        "colab": {
          "base_uri": "https://localhost:8080/",
          "height": 35
        },
        "id": "uWOGC75QDjxw",
        "outputId": "92468976-9163-4083-d0b8-9d458558f3ae"
      },
      "source": [
        "apple_info['country']"
      ],
      "execution_count": 5,
      "outputs": [
        {
          "output_type": "execute_result",
          "data": {
            "application/vnd.google.colaboratory.intrinsic+json": {
              "type": "string"
            },
            "text/plain": [
              "'United States'"
            ]
          },
          "metadata": {
            "tags": []
          },
          "execution_count": 5
        }
      ]
    },
    {
      "cell_type": "code",
      "metadata": {
        "id": "YZUkx8xKDs9r"
      },
      "source": [
        "apple_share_price_data = apple.history(period = \"max\")"
      ],
      "execution_count": 6,
      "outputs": []
    },
    {
      "cell_type": "code",
      "metadata": {
        "colab": {
          "base_uri": "https://localhost:8080/",
          "height": 225
        },
        "id": "CnkMynGQEFeC",
        "outputId": "c40d911d-a398-4714-9858-f7eab0d9a006"
      },
      "source": [
        "apple_share_price_data.head()"
      ],
      "execution_count": 7,
      "outputs": [
        {
          "output_type": "execute_result",
          "data": {
            "text/html": [
              "<div>\n",
              "<style scoped>\n",
              "    .dataframe tbody tr th:only-of-type {\n",
              "        vertical-align: middle;\n",
              "    }\n",
              "\n",
              "    .dataframe tbody tr th {\n",
              "        vertical-align: top;\n",
              "    }\n",
              "\n",
              "    .dataframe thead th {\n",
              "        text-align: right;\n",
              "    }\n",
              "</style>\n",
              "<table border=\"1\" class=\"dataframe\">\n",
              "  <thead>\n",
              "    <tr style=\"text-align: right;\">\n",
              "      <th></th>\n",
              "      <th>Open</th>\n",
              "      <th>High</th>\n",
              "      <th>Low</th>\n",
              "      <th>Close</th>\n",
              "      <th>Volume</th>\n",
              "      <th>Dividends</th>\n",
              "      <th>Stock Splits</th>\n",
              "    </tr>\n",
              "    <tr>\n",
              "      <th>Date</th>\n",
              "      <th></th>\n",
              "      <th></th>\n",
              "      <th></th>\n",
              "      <th></th>\n",
              "      <th></th>\n",
              "      <th></th>\n",
              "      <th></th>\n",
              "    </tr>\n",
              "  </thead>\n",
              "  <tbody>\n",
              "    <tr>\n",
              "      <th>1980-12-12</th>\n",
              "      <td>0.100922</td>\n",
              "      <td>0.101361</td>\n",
              "      <td>0.100922</td>\n",
              "      <td>0.100922</td>\n",
              "      <td>469033600</td>\n",
              "      <td>0.0</td>\n",
              "      <td>0.0</td>\n",
              "    </tr>\n",
              "    <tr>\n",
              "      <th>1980-12-15</th>\n",
              "      <td>0.096096</td>\n",
              "      <td>0.096096</td>\n",
              "      <td>0.095657</td>\n",
              "      <td>0.095657</td>\n",
              "      <td>175884800</td>\n",
              "      <td>0.0</td>\n",
              "      <td>0.0</td>\n",
              "    </tr>\n",
              "    <tr>\n",
              "      <th>1980-12-16</th>\n",
              "      <td>0.089075</td>\n",
              "      <td>0.089075</td>\n",
              "      <td>0.088636</td>\n",
              "      <td>0.088636</td>\n",
              "      <td>105728000</td>\n",
              "      <td>0.0</td>\n",
              "      <td>0.0</td>\n",
              "    </tr>\n",
              "    <tr>\n",
              "      <th>1980-12-17</th>\n",
              "      <td>0.090830</td>\n",
              "      <td>0.091268</td>\n",
              "      <td>0.090830</td>\n",
              "      <td>0.090830</td>\n",
              "      <td>86441600</td>\n",
              "      <td>0.0</td>\n",
              "      <td>0.0</td>\n",
              "    </tr>\n",
              "    <tr>\n",
              "      <th>1980-12-18</th>\n",
              "      <td>0.093463</td>\n",
              "      <td>0.093902</td>\n",
              "      <td>0.093463</td>\n",
              "      <td>0.093463</td>\n",
              "      <td>73449600</td>\n",
              "      <td>0.0</td>\n",
              "      <td>0.0</td>\n",
              "    </tr>\n",
              "  </tbody>\n",
              "</table>\n",
              "</div>"
            ],
            "text/plain": [
              "                Open      High       Low  ...     Volume  Dividends  Stock Splits\n",
              "Date                                      ...                                    \n",
              "1980-12-12  0.100922  0.101361  0.100922  ...  469033600        0.0           0.0\n",
              "1980-12-15  0.096096  0.096096  0.095657  ...  175884800        0.0           0.0\n",
              "1980-12-16  0.089075  0.089075  0.088636  ...  105728000        0.0           0.0\n",
              "1980-12-17  0.090830  0.091268  0.090830  ...   86441600        0.0           0.0\n",
              "1980-12-18  0.093463  0.093902  0.093463  ...   73449600        0.0           0.0\n",
              "\n",
              "[5 rows x 7 columns]"
            ]
          },
          "metadata": {
            "tags": []
          },
          "execution_count": 7
        }
      ]
    },
    {
      "cell_type": "code",
      "metadata": {
        "id": "K0YE044AEH3L"
      },
      "source": [
        "apple_share_price_data.reset_index(inplace = True)"
      ],
      "execution_count": 8,
      "outputs": []
    },
    {
      "cell_type": "code",
      "metadata": {
        "colab": {
          "base_uri": "https://localhost:8080/",
          "height": 286
        },
        "id": "X-zkdTIdEQ-I",
        "outputId": "99d264f8-1ab3-42b8-d2d4-5fb3f4b63a79"
      },
      "source": [
        "apple_share_price_data.plot(x=\"Date\", y = \"Open\")"
      ],
      "execution_count": 9,
      "outputs": [
        {
          "output_type": "execute_result",
          "data": {
            "text/plain": [
              "<matplotlib.axes._subplots.AxesSubplot at 0x7f08e887f490>"
            ]
          },
          "metadata": {
            "tags": []
          },
          "execution_count": 9
        },
        {
          "output_type": "display_data",
          "data": {
            "image/png": "[encoded data removed]",
            "text/plain": [
              "<Figure size 432x288 with 1 Axes>"
            ]
          },
          "metadata": {
            "tags": [],
            "needs_background": "light"
          }
        }
      ]
    },
    {
      "cell_type": "markdown",
      "metadata": {
        "id": "EzsKYYjpEbBs"
      },
      "source": [
        "##Extracting Dividents"
      ]
    },
    {
      "cell_type": "code",
      "metadata": {
        "colab": {
          "base_uri": "https://localhost:8080/"
        },
        "id": "0BUjyyBUEq61",
        "outputId": "6451c1ff-fa20-4cb9-be2b-22984e9eeb97"
      },
      "source": [
        "apple.dividends"
      ],
      "execution_count": 10,
      "outputs": [
        {
          "output_type": "execute_result",
          "data": {
            "text/plain": [
              "Date\n",
              "1987-05-11    0.000536\n",
              "1987-08-10    0.000536\n",
              "1987-11-17    0.000714\n",
              "1988-02-12    0.000714\n",
              "1988-05-16    0.000714\n",
              "                ...   \n",
              "2020-02-07    0.192500\n",
              "2020-05-08    0.205000\n",
              "2020-08-07    0.205000\n",
              "2020-11-06    0.205000\n",
              "2021-02-05    0.205000\n",
              "Name: Dividends, Length: 70, dtype: float64"
            ]
          },
          "metadata": {
            "tags": []
          },
          "execution_count": 10
        }
      ]
    },
    {
      "cell_type": "code",
      "metadata": {
        "colab": {
          "base_uri": "https://localhost:8080/",
          "height": 286
        },
        "id": "RJUoKXWBEuH_",
        "outputId": "e6fdbbe1-4d5a-4dfc-e862-52812620adb6"
      },
      "source": [
        "apple.dividends.plot()"
      ],
      "execution_count": 11,
      "outputs": [
        {
          "output_type": "execute_result",
          "data": {
            "text/plain": [
              "<matplotlib.axes._subplots.AxesSubplot at 0x7f08e87ed690>"
            ]
          },
          "metadata": {
            "tags": []
          },
          "execution_count": 11
        },
        {
          "output_type": "display_data",
          "data": {
            "image/png": "[encoded data removed]",
            "text/plain": [
              "<Figure size 432x288 with 1 Axes>"
            ]
          },
          "metadata": {
            "tags": [],
            "needs_background": "light"
          }
        }
      ]
    },
    {
      "cell_type": "markdown",
      "metadata": {
        "id": "58RDV1B8EyOJ"
      },
      "source": [
        "#AMD Stock Data"
      ]
    },
    {
      "cell_type": "code",
      "metadata": {
        "id": "zpArerQ7FKCr"
      },
      "source": [
        "amd = yf.Ticker(\"AMD\")"
      ],
      "execution_count": 12,
      "outputs": []
    },
    {
      "cell_type": "code",
      "metadata": {
        "colab": {
          "base_uri": "https://localhost:8080/"
        },
        "id": "Ljyefn8NFR40",
        "outputId": "4472ef15-32c9-4d31-ae62-82bb3f25125e"
      },
      "source": [
        "amd_info = amd.info\n",
        "amd_info"
      ],
      "execution_count": 13,
      "outputs": [
        {
          "output_type": "execute_result",
          "data": {
            "text/plain": [
              "{'52WeekChange': 0.43054795,\n",
              " 'SandP52WeekChange': 0.45042264,\n",
              " 'address1': '2485 Augustine Drive',\n",
              " 'algorithm': None,\n",
              " 'annualHoldingsTurnover': None,\n",
              " 'annualReportExpenseRatio': None,\n",
              " 'ask': 80.38,\n",
              " 'askSize': 800,\n",
              " 'averageDailyVolume10Day': 39022383,\n",
              " 'averageVolume': 43883311,\n",
              " 'averageVolume10days': 39022383,\n",
              " 'beta': 2.055708,\n",
              " 'beta3Year': None,\n",
              " 'bid': 80.4,\n",
              " 'bidSize': 1200,\n",
              " 'bookValue': 4.82,\n",
              " 'category': None,\n",
              " 'circulatingSupply': None,\n",
              " 'city': 'Santa Clara',\n",
              " 'companyOfficers': [],\n",
              " 'country': 'United States',\n",
              " 'currency': 'USD',\n",
              " 'dateShortInterest': 1617148800,\n",
              " 'dayHigh': 80.72,\n",
              " 'dayLow': 79.27,\n",
              " 'dividendRate': None,\n",
              " 'dividendYield': None,\n",
              " 'earningsQuarterlyGrowth': 9.476,\n",
              " 'enterpriseToEbitda': 58.612,\n",
              " 'enterpriseToRevenue': 10.092,\n",
              " 'enterpriseValue': 98527535104,\n",
              " 'exDividendDate': 798940800,\n",
              " 'exchange': 'NMS',\n",
              " 'exchangeTimezoneName': 'America/New_York',\n",
              " 'exchangeTimezoneShortName': 'EDT',\n",
              " 'expireDate': None,\n",
              " 'fiftyDayAverage': 80.57886,\n",
              " 'fiftyTwoWeekHigh': 99.23,\n",
              " 'fiftyTwoWeekLow': 48.42,\n",
              " 'fiveYearAverageReturn': None,\n",
              " 'fiveYearAvgDividendYield': None,\n",
              " 'floatShares': 1204545292,\n",
              " 'forwardEps': 2.52,\n",
              " 'forwardPE': 31.547619,\n",
              " 'fromCurrency': None,\n",
              " 'fullTimeEmployees': 12600,\n",
              " 'fundFamily': None,\n",
              " 'fundInceptionDate': None,\n",
              " 'gmtOffSetMilliseconds': '-14400000',\n",
              " 'heldPercentInsiders': 0.0057599996,\n",
              " 'heldPercentInstitutions': 0.77331,\n",
              " 'impliedSharesOutstanding': None,\n",
              " 'industry': 'Semiconductors',\n",
              " 'isEsgPopulated': False,\n",
              " 'lastCapGain': None,\n",
              " 'lastDividendDate': None,\n",
              " 'lastDividendValue': None,\n",
              " 'lastFiscalYearEnd': 1608940800,\n",
              " 'lastMarket': None,\n",
              " 'lastSplitDate': 966902400,\n",
              " 'lastSplitFactor': '2:1',\n",
              " 'legalType': None,\n",
              " 'logo_url': 'https://logo.clearbit.com/amd.com',\n",
              " 'longBusinessSummary': 'Advanced Micro Devices, Inc. operates as a semiconductor company worldwide. The company operates in two segments, Computing and Graphics; and Enterprise, Embedded and Semi-Custom. Its products include x86 microprocessors as an accelerated processing unit, chipsets, discrete and integrated graphics processing units (GPUs), data center and professional GPUs, and development services; and server and embedded processors, and semi-custom System-on-Chip (SoC) products, development services, and technology for game consoles. The company provides x86 microprocessors for desktop PCs under the AMD Ryzen, AMD Ryzen PRO, Ryzen, Threadripper, AMD A-Series, AMD FX, AMD Athlon, AMD Athlon PRO, and AMD Pro A-Series processors brands; microprocessors for notebook and 2-in-1s under the AMD Ryzen, AMD A-Series, AMD Athlon, AMD Ryzen PRO, AMD Athlon PRO, and AMD Pro A-Series processors brands; microprocessors for servers under the AMD EPYC and AMD Opteron brands; and chipsets under the AMD trademark. It also offers discrete GPUs for desktop and notebook PCs under the AMD Radeon graphics and AMD Embedded Radeon brands; professional graphics products under the AMD Radeon Pro and AMD FirePro graphics brands; and Radeon Instinct and AMD Instinct accelerators for servers. In addition, the company provides embedded processor solutions under the AMD Opteron, AMD Athlon, AMD Geode, AMD Ryzen, AMD EPYC, AMD R-Series, and G-Series processors brands; and customer-specific solutions based on AMD CPU, GPU, and multi-media technologies, as well as semi-custom SoC products. It serves original equipment manufacturers, public cloud service providers, original design manufacturers, system integrators, independent distributors, online retailers, and add-in-board manufacturers through its direct sales force, independent distributors, and sales representatives. Advanced Micro Devices, Inc. was founded in 1969 and is headquartered in Santa Clara, California.',\n",
              " 'longName': 'Advanced Micro Devices, Inc.',\n",
              " 'market': 'us_market',\n",
              " 'marketCap': 96561496064,\n",
              " 'maxAge': 1,\n",
              " 'maxSupply': None,\n",
              " 'messageBoardId': 'finmb_168864',\n",
              " 'morningStarOverallRating': None,\n",
              " 'morningStarRiskRating': None,\n",
              " 'mostRecentQuarter': 1608940800,\n",
              " 'navPrice': None,\n",
              " 'netIncomeToCommon': 2489999872,\n",
              " 'nextFiscalYearEnd': 1672012800,\n",
              " 'open': 79.67,\n",
              " 'openInterest': None,\n",
              " 'payoutRatio': 0,\n",
              " 'pegRatio': 1.51,\n",
              " 'phone': '408 749 4000',\n",
              " 'previousClose': 78.58,\n",
              " 'priceHint': 2,\n",
              " 'priceToBook': 16.493774,\n",
              " 'priceToSalesTrailing12Months': 9.890555,\n",
              " 'profitMargins': 0.25504,\n",
              " 'quoteType': 'EQUITY',\n",
              " 'regularMarketDayHigh': 80.72,\n",
              " 'regularMarketDayLow': 79.27,\n",
              " 'regularMarketOpen': 79.67,\n",
              " 'regularMarketPreviousClose': 78.58,\n",
              " 'regularMarketPrice': 79.5,\n",
              " 'regularMarketVolume': 10978459,\n",
              " 'revenueQuarterlyGrowth': None,\n",
              " 'sector': 'Technology',\n",
              " 'sharesOutstanding': 1211320064,\n",
              " 'sharesPercentSharesOut': 0.0672,\n",
              " 'sharesShort': 81563521,\n",
              " 'sharesShortPreviousMonthDate': 1614297600,\n",
              " 'sharesShortPriorMonth': 79247010,\n",
              " 'shortName': 'Advanced Micro Devices, Inc.',\n",
              " 'shortPercentOfFloat': 0.0675,\n",
              " 'shortRatio': 1.86,\n",
              " 'startDate': None,\n",
              " 'state': 'CA',\n",
              " 'strikePrice': None,\n",
              " 'symbol': 'AMD',\n",
              " 'threeYearAverageReturn': None,\n",
              " 'toCurrency': None,\n",
              " 'totalAssets': None,\n",
              " 'tradeable': False,\n",
              " 'trailingAnnualDividendRate': None,\n",
              " 'trailingAnnualDividendYield': None,\n",
              " 'trailingEps': 2.064,\n",
              " 'trailingPE': 38.517445,\n",
              " 'twoHundredDayAverage': 85.78867,\n",
              " 'volume': 10978459,\n",
              " 'volume24Hr': None,\n",
              " 'volumeAllCurrencies': None,\n",
              " 'website': 'http://www.amd.com',\n",
              " 'yield': None,\n",
              " 'ytdReturn': None,\n",
              " 'zip': '95054'}"
            ]
          },
          "metadata": {
            "tags": []
          },
          "execution_count": 13
        }
      ]
    },
    {
      "cell_type": "code",
      "metadata": {
        "colab": {
          "base_uri": "https://localhost:8080/",
          "height": 35
        },
        "id": "vXijrfLJFaLv",
        "outputId": "b7393485-7bd9-4e0d-877b-d06cf0c4d580"
      },
      "source": [
        "amd_info['country']"
      ],
      "execution_count": 14,
      "outputs": [
        {
          "output_type": "execute_result",
          "data": {
            "application/vnd.google.colaboratory.intrinsic+json": {
              "type": "string"
            },
            "text/plain": [
              "'United States'"
            ]
          },
          "metadata": {
            "tags": []
          },
          "execution_count": 14
        }
      ]
    },
    {
      "cell_type": "code",
      "metadata": {
        "colab": {
          "base_uri": "https://localhost:8080/",
          "height": 35
        },
        "id": "kaJ_dAF_GAj3",
        "outputId": "e90a652f-a572-4f26-d82d-e5547177ac8f"
      },
      "source": [
        "amd_info['sector']"
      ],
      "execution_count": 15,
      "outputs": [
        {
          "output_type": "execute_result",
          "data": {
            "application/vnd.google.colaboratory.intrinsic+json": {
              "type": "string"
            },
            "text/plain": [
              "'Technology'"
            ]
          },
          "metadata": {
            "tags": []
          },
          "execution_count": 15
        }
      ]
    },
    {
      "cell_type": "code",
      "metadata": {
        "id": "JAY5ouX2GEMd"
      },
      "source": [
        "amd_share_price_data = amd.history(period = 'max')"
      ],
      "execution_count": 16,
      "outputs": []
    },
    {
      "cell_type": "code",
      "metadata": {
        "colab": {
          "base_uri": "https://localhost:8080/",
          "height": 225
        },
        "id": "PB855dNEGj-E",
        "outputId": "3d9fbeb7-1e88-43bf-874b-bc11b429a80f"
      },
      "source": [
        "amd_share_price_data.head()"
      ],
      "execution_count": 17,
      "outputs": [
        {
          "output_type": "execute_result",
          "data": {
            "text/html": [
              "<div>\n",
              "<style scoped>\n",
              "    .dataframe tbody tr th:only-of-type {\n",
              "        vertical-align: middle;\n",
              "    }\n",
              "\n",
              "    .dataframe tbody tr th {\n",
              "        vertical-align: top;\n",
              "    }\n",
              "\n",
              "    .dataframe thead th {\n",
              "        text-align: right;\n",
              "    }\n",
              "</style>\n",
              "<table border=\"1\" class=\"dataframe\">\n",
              "  <thead>\n",
              "    <tr style=\"text-align: right;\">\n",
              "      <th></th>\n",
              "      <th>Open</th>\n",
              "      <th>High</th>\n",
              "      <th>Low</th>\n",
              "      <th>Close</th>\n",
              "      <th>Volume</th>\n",
              "      <th>Dividends</th>\n",
              "      <th>Stock Splits</th>\n",
              "    </tr>\n",
              "    <tr>\n",
              "      <th>Date</th>\n",
              "      <th></th>\n",
              "      <th></th>\n",
              "      <th></th>\n",
              "      <th></th>\n",
              "      <th></th>\n",
              "      <th></th>\n",
              "      <th></th>\n",
              "    </tr>\n",
              "  </thead>\n",
              "  <tbody>\n",
              "    <tr>\n",
              "      <th>1980-03-17</th>\n",
              "      <td>0.0</td>\n",
              "      <td>3.302083</td>\n",
              "      <td>3.125000</td>\n",
              "      <td>3.145833</td>\n",
              "      <td>219600</td>\n",
              "      <td>0</td>\n",
              "      <td>0.0</td>\n",
              "    </tr>\n",
              "    <tr>\n",
              "      <th>1980-03-18</th>\n",
              "      <td>0.0</td>\n",
              "      <td>3.125000</td>\n",
              "      <td>2.937500</td>\n",
              "      <td>3.031250</td>\n",
              "      <td>727200</td>\n",
              "      <td>0</td>\n",
              "      <td>0.0</td>\n",
              "    </tr>\n",
              "    <tr>\n",
              "      <th>1980-03-19</th>\n",
              "      <td>0.0</td>\n",
              "      <td>3.083333</td>\n",
              "      <td>3.020833</td>\n",
              "      <td>3.041667</td>\n",
              "      <td>295200</td>\n",
              "      <td>0</td>\n",
              "      <td>0.0</td>\n",
              "    </tr>\n",
              "    <tr>\n",
              "      <th>1980-03-20</th>\n",
              "      <td>0.0</td>\n",
              "      <td>3.062500</td>\n",
              "      <td>3.010417</td>\n",
              "      <td>3.010417</td>\n",
              "      <td>159600</td>\n",
              "      <td>0</td>\n",
              "      <td>0.0</td>\n",
              "    </tr>\n",
              "    <tr>\n",
              "      <th>1980-03-21</th>\n",
              "      <td>0.0</td>\n",
              "      <td>3.020833</td>\n",
              "      <td>2.906250</td>\n",
              "      <td>2.916667</td>\n",
              "      <td>130800</td>\n",
              "      <td>0</td>\n",
              "      <td>0.0</td>\n",
              "    </tr>\n",
              "  </tbody>\n",
              "</table>\n",
              "</div>"
            ],
            "text/plain": [
              "            Open      High       Low     Close  Volume  Dividends  Stock Splits\n",
              "Date                                                                           \n",
              "1980-03-17   0.0  3.302083  3.125000  3.145833  219600          0           0.0\n",
              "1980-03-18   0.0  3.125000  2.937500  3.031250  727200          0           0.0\n",
              "1980-03-19   0.0  3.083333  3.020833  3.041667  295200          0           0.0\n",
              "1980-03-20   0.0  3.062500  3.010417  3.010417  159600          0           0.0\n",
              "1980-03-21   0.0  3.020833  2.906250  2.916667  130800          0           0.0"
            ]
          },
          "metadata": {
            "tags": []
          },
          "execution_count": 17
        }
      ]
    },
    {
      "cell_type": "code",
      "metadata": {
        "id": "wSNUf45rHkoD"
      },
      "source": [
        "amd_share_price_data.reset_index(inplace= True)"
      ],
      "execution_count": 18,
      "outputs": []
    },
    {
      "cell_type": "code",
      "metadata": {
        "colab": {
          "base_uri": "https://localhost:8080/",
          "height": 402
        },
        "id": "ilHqpiN2HrAt",
        "outputId": "c56f7832-0810-443c-a52d-6ace9a8486d6"
      },
      "source": [
        "amd_share_price_data"
      ],
      "execution_count": 19,
      "outputs": [
        {
          "output_type": "execute_result",
          "data": {
            "text/html": [
              "<div>\n",
              "<style scoped>\n",
              "    .dataframe tbody tr th:only-of-type {\n",
              "        vertical-align: middle;\n",
              "    }\n",
              "\n",
              "    .dataframe tbody tr th {\n",
              "        vertical-align: top;\n",
              "    }\n",
              "\n",
              "    .dataframe thead th {\n",
              "        text-align: right;\n",
              "    }\n",
              "</style>\n",
              "<table border=\"1\" class=\"dataframe\">\n",
              "  <thead>\n",
              "    <tr style=\"text-align: right;\">\n",
              "      <th></th>\n",
              "      <th>Date</th>\n",
              "      <th>Open</th>\n",
              "      <th>High</th>\n",
              "      <th>Low</th>\n",
              "      <th>Close</th>\n",
              "      <th>Volume</th>\n",
              "      <th>Dividends</th>\n",
              "      <th>Stock Splits</th>\n",
              "    </tr>\n",
              "  </thead>\n",
              "  <tbody>\n",
              "    <tr>\n",
              "      <th>0</th>\n",
              "      <td>1980-03-17</td>\n",
              "      <td>0.000000</td>\n",
              "      <td>3.302083</td>\n",
              "      <td>3.125000</td>\n",
              "      <td>3.145833</td>\n",
              "      <td>219600</td>\n",
              "      <td>0</td>\n",
              "      <td>0.0</td>\n",
              "    </tr>\n",
              "    <tr>\n",
              "      <th>1</th>\n",
              "      <td>1980-03-18</td>\n",
              "      <td>0.000000</td>\n",
              "      <td>3.125000</td>\n",
              "      <td>2.937500</td>\n",
              "      <td>3.031250</td>\n",
              "      <td>727200</td>\n",
              "      <td>0</td>\n",
              "      <td>0.0</td>\n",
              "    </tr>\n",
              "    <tr>\n",
              "      <th>2</th>\n",
              "      <td>1980-03-19</td>\n",
              "      <td>0.000000</td>\n",
              "      <td>3.083333</td>\n",
              "      <td>3.020833</td>\n",
              "      <td>3.041667</td>\n",
              "      <td>295200</td>\n",
              "      <td>0</td>\n",
              "      <td>0.0</td>\n",
              "    </tr>\n",
              "    <tr>\n",
              "      <th>3</th>\n",
              "      <td>1980-03-20</td>\n",
              "      <td>0.000000</td>\n",
              "      <td>3.062500</td>\n",
              "      <td>3.010417</td>\n",
              "      <td>3.010417</td>\n",
              "      <td>159600</td>\n",
              "      <td>0</td>\n",
              "      <td>0.0</td>\n",
              "    </tr>\n",
              "    <tr>\n",
              "      <th>4</th>\n",
              "      <td>1980-03-21</td>\n",
              "      <td>0.000000</td>\n",
              "      <td>3.020833</td>\n",
              "      <td>2.906250</td>\n",
              "      <td>2.916667</td>\n",
              "      <td>130800</td>\n",
              "      <td>0</td>\n",
              "      <td>0.0</td>\n",
              "    </tr>\n",
              "    <tr>\n",
              "      <th>...</th>\n",
              "      <td>...</td>\n",
              "      <td>...</td>\n",
              "      <td>...</td>\n",
              "      <td>...</td>\n",
              "      <td>...</td>\n",
              "      <td>...</td>\n",
              "      <td>...</td>\n",
              "      <td>...</td>\n",
              "    </tr>\n",
              "    <tr>\n",
              "      <th>10352</th>\n",
              "      <td>2021-04-07</td>\n",
              "      <td>81.320000</td>\n",
              "      <td>83.099998</td>\n",
              "      <td>80.349998</td>\n",
              "      <td>82.199997</td>\n",
              "      <td>35590900</td>\n",
              "      <td>0</td>\n",
              "      <td>0.0</td>\n",
              "    </tr>\n",
              "    <tr>\n",
              "      <th>10353</th>\n",
              "      <td>2021-04-08</td>\n",
              "      <td>83.320000</td>\n",
              "      <td>83.790001</td>\n",
              "      <td>82.440002</td>\n",
              "      <td>83.349998</td>\n",
              "      <td>41925300</td>\n",
              "      <td>0</td>\n",
              "      <td>0.0</td>\n",
              "    </tr>\n",
              "    <tr>\n",
              "      <th>10354</th>\n",
              "      <td>2021-04-09</td>\n",
              "      <td>82.800003</td>\n",
              "      <td>83.589996</td>\n",
              "      <td>82.160004</td>\n",
              "      <td>82.760002</td>\n",
              "      <td>32730300</td>\n",
              "      <td>0</td>\n",
              "      <td>0.0</td>\n",
              "    </tr>\n",
              "    <tr>\n",
              "      <th>10355</th>\n",
              "      <td>2021-04-12</td>\n",
              "      <td>82.059998</td>\n",
              "      <td>82.180000</td>\n",
              "      <td>78.029999</td>\n",
              "      <td>78.580002</td>\n",
              "      <td>61949300</td>\n",
              "      <td>0</td>\n",
              "      <td>0.0</td>\n",
              "    </tr>\n",
              "    <tr>\n",
              "      <th>10356</th>\n",
              "      <td>2021-04-13</td>\n",
              "      <td>79.669998</td>\n",
              "      <td>80.720001</td>\n",
              "      <td>79.269997</td>\n",
              "      <td>79.509903</td>\n",
              "      <td>10981707</td>\n",
              "      <td>0</td>\n",
              "      <td>0.0</td>\n",
              "    </tr>\n",
              "  </tbody>\n",
              "</table>\n",
              "<p>10357 rows × 8 columns</p>\n",
              "</div>"
            ],
            "text/plain": [
              "            Date       Open       High  ...    Volume  Dividends  Stock Splits\n",
              "0     1980-03-17   0.000000   3.302083  ...    219600          0           0.0\n",
              "1     1980-03-18   0.000000   3.125000  ...    727200          0           0.0\n",
              "2     1980-03-19   0.000000   3.083333  ...    295200          0           0.0\n",
              "3     1980-03-20   0.000000   3.062500  ...    159600          0           0.0\n",
              "4     1980-03-21   0.000000   3.020833  ...    130800          0           0.0\n",
              "...          ...        ...        ...  ...       ...        ...           ...\n",
              "10352 2021-04-07  81.320000  83.099998  ...  35590900          0           0.0\n",
              "10353 2021-04-08  83.320000  83.790001  ...  41925300          0           0.0\n",
              "10354 2021-04-09  82.800003  83.589996  ...  32730300          0           0.0\n",
              "10355 2021-04-12  82.059998  82.180000  ...  61949300          0           0.0\n",
              "10356 2021-04-13  79.669998  80.720001  ...  10981707          0           0.0\n",
              "\n",
              "[10357 rows x 8 columns]"
            ]
          },
          "metadata": {
            "tags": []
          },
          "execution_count": 19
        }
      ]
    },
    {
      "cell_type": "code",
      "metadata": {
        "id": "nOkTUmRdGopc"
      },
      "source": [
        "max_volume = max(amd_share_price_data[\"Volume\"])"
      ],
      "execution_count": 20,
      "outputs": []
    },
    {
      "cell_type": "code",
      "metadata": {
        "colab": {
          "base_uri": "https://localhost:8080/"
        },
        "id": "iRuHTJVxHD1R",
        "outputId": "6ed839b9-97fd-4255-ca1d-871e0c657421"
      },
      "source": [
        "max_volume"
      ],
      "execution_count": 21,
      "outputs": [
        {
          "output_type": "execute_result",
          "data": {
            "text/plain": [
              "325058400"
            ]
          },
          "metadata": {
            "tags": []
          },
          "execution_count": 21
        }
      ]
    },
    {
      "cell_type": "markdown",
      "metadata": {
        "id": "g1TlCS6nI_X_"
      },
      "source": [
        "#INTEL STOCK DATA"
      ]
    },
    {
      "cell_type": "code",
      "metadata": {
        "id": "HAn6vDFQI7sw"
      },
      "source": [
        "intel = yf.Ticker(\"INTC\")"
      ],
      "execution_count": 22,
      "outputs": []
    },
    {
      "cell_type": "code",
      "metadata": {
        "colab": {
          "base_uri": "https://localhost:8080/"
        },
        "id": "BccXEzaNI7s3",
        "outputId": "eeb3b94c-fffb-4a5c-950b-6f25ed804b08"
      },
      "source": [
        "intel_info = intel.info\n",
        "intel_info"
      ],
      "execution_count": 23,
      "outputs": [
        {
          "output_type": "execute_result",
          "data": {
            "text/plain": [
              "{'52WeekChange': 0.07830536,\n",
              " 'SandP52WeekChange': 0.45042264,\n",
              " 'address1': '2200 Mission College Boulevard',\n",
              " 'algorithm': None,\n",
              " 'annualHoldingsTurnover': None,\n",
              " 'annualReportExpenseRatio': None,\n",
              " 'ask': 64.98,\n",
              " 'askSize': 1100,\n",
              " 'averageDailyVolume10Day': 29176316,\n",
              " 'averageVolume': 36127285,\n",
              " 'averageVolume10days': 29176316,\n",
              " 'beta': 0.660231,\n",
              " 'beta3Year': None,\n",
              " 'bid': 64.94,\n",
              " 'bidSize': 1200,\n",
              " 'bookValue': 19.95,\n",
              " 'category': None,\n",
              " 'circulatingSupply': None,\n",
              " 'city': 'Santa Clara',\n",
              " 'companyOfficers': [],\n",
              " 'country': 'United States',\n",
              " 'currency': 'USD',\n",
              " 'dateShortInterest': 1617148800,\n",
              " 'dayHigh': 65.6346,\n",
              " 'dayLow': 64.57,\n",
              " 'dividendRate': 1.39,\n",
              " 'dividendYield': 0.021300001,\n",
              " 'earningsQuarterlyGrowth': -0.152,\n",
              " 'enterpriseToEbitda': 8.04,\n",
              " 'enterpriseToRevenue': 3.729,\n",
              " 'enterpriseValue': 290373369856,\n",
              " 'exDividendDate': 1620259200,\n",
              " 'exchange': 'NMS',\n",
              " 'exchangeTimezoneName': 'America/New_York',\n",
              " 'exchangeTimezoneShortName': 'EDT',\n",
              " 'expireDate': None,\n",
              " 'fiftyDayAverage': 63.31543,\n",
              " 'fiftyTwoWeekHigh': 68.49,\n",
              " 'fiftyTwoWeekLow': 43.61,\n",
              " 'fiveYearAverageReturn': None,\n",
              " 'fiveYearAvgDividendYield': 2.54,\n",
              " 'floatShares': 4059505820,\n",
              " 'forwardEps': 4.72,\n",
              " 'forwardPE': 13.707627,\n",
              " 'fromCurrency': None,\n",
              " 'fullTimeEmployees': 110600,\n",
              " 'fundFamily': None,\n",
              " 'fundInceptionDate': None,\n",
              " 'gmtOffSetMilliseconds': '-14400000',\n",
              " 'heldPercentInsiders': 0.00053,\n",
              " 'heldPercentInstitutions': 0.65473,\n",
              " 'impliedSharesOutstanding': None,\n",
              " 'industry': 'Semiconductors',\n",
              " 'isEsgPopulated': False,\n",
              " 'lastCapGain': None,\n",
              " 'lastDividendDate': 1612396800,\n",
              " 'lastDividendValue': 0.348,\n",
              " 'lastFiscalYearEnd': 1608940800,\n",
              " 'lastMarket': None,\n",
              " 'lastSplitDate': 965001600,\n",
              " 'lastSplitFactor': '2:1',\n",
              " 'legalType': None,\n",
              " 'logo_url': 'https://logo.clearbit.com/intel.com',\n",
              " 'longBusinessSummary': 'Intel Corporation designs, manufactures, and sells essential technologies for the cloud, smart, and connected devices for retail, industrial, and consumer uses worldwide. The company operates through DCG, IOTG, Mobileye, NSG, PSG, CCG, and All Other segments. It offers platform products, such as central processing units and chipsets, and system-on-chip and multichip packages; and non-platform or adjacent products comprising accelerators, boards and systems, connectivity products, and memory and storage products. The company also provides Internet of Things products, including high-performance compute solutions for targeted verticals and embedded applications; and computer vision and machine learning-based sensing, data analysis, localization, mapping, and driving policy technology. It serves original equipment manufacturers, original design manufacturers, and cloud service providers. Intel Corporation was founded in 1968 and is headquartered in Santa Clara, California.',\n",
              " 'longName': 'Intel Corporation',\n",
              " 'market': 'us_market',\n",
              " 'marketCap': 263481032704,\n",
              " 'maxAge': 1,\n",
              " 'maxSupply': None,\n",
              " 'messageBoardId': 'finmb_21127',\n",
              " 'morningStarOverallRating': None,\n",
              " 'morningStarRiskRating': None,\n",
              " 'mostRecentQuarter': 1608940800,\n",
              " 'navPrice': None,\n",
              " 'netIncomeToCommon': 20899000320,\n",
              " 'nextFiscalYearEnd': 1672012800,\n",
              " 'open': 65.61,\n",
              " 'openInterest': None,\n",
              " 'payoutRatio': 0.2672,\n",
              " 'pegRatio': 2.56,\n",
              " 'phone': '408 765 8080',\n",
              " 'previousClose': 65.405,\n",
              " 'priceHint': 2,\n",
              " 'priceToBook': 3.2431076,\n",
              " 'priceToSalesTrailing12Months': 3.3837316,\n",
              " 'profitMargins': 0.26839,\n",
              " 'quoteType': 'EQUITY',\n",
              " 'regularMarketDayHigh': 65.6346,\n",
              " 'regularMarketDayLow': 64.57,\n",
              " 'regularMarketOpen': 65.61,\n",
              " 'regularMarketPreviousClose': 65.405,\n",
              " 'regularMarketPrice': 64.7,\n",
              " 'regularMarketVolume': 6185616,\n",
              " 'revenueQuarterlyGrowth': None,\n",
              " 'sector': 'Technology',\n",
              " 'sharesOutstanding': 4072349952,\n",
              " 'sharesPercentSharesOut': 0.0139999995,\n",
              " 'sharesShort': 56961244,\n",
              " 'sharesShortPreviousMonthDate': 1614297600,\n",
              " 'sharesShortPriorMonth': 60924461,\n",
              " 'shortName': 'Intel Corporation',\n",
              " 'shortPercentOfFloat': 0.0139999995,\n",
              " 'shortRatio': 1.7,\n",
              " 'startDate': None,\n",
              " 'state': 'CA',\n",
              " 'strikePrice': None,\n",
              " 'symbol': 'INTC',\n",
              " 'threeYearAverageReturn': None,\n",
              " 'toCurrency': None,\n",
              " 'totalAssets': None,\n",
              " 'tradeable': False,\n",
              " 'trailingAnnualDividendRate': 1.32,\n",
              " 'trailingAnnualDividendYield': 0.020181945,\n",
              " 'trailingEps': 4.94,\n",
              " 'trailingPE': 13.097165,\n",
              " 'twoHundredDayAverage': 54.62434,\n",
              " 'volume': 6185616,\n",
              " 'volume24Hr': None,\n",
              " 'volumeAllCurrencies': None,\n",
              " 'website': 'http://www.intel.com',\n",
              " 'yield': None,\n",
              " 'ytdReturn': None,\n",
              " 'zip': '95054-1549'}"
            ]
          },
          "metadata": {
            "tags": []
          },
          "execution_count": 23
        }
      ]
    },
    {
      "cell_type": "code",
      "metadata": {
        "colab": {
          "base_uri": "https://localhost:8080/",
          "height": 0
        },
        "id": "HvbQjz8iI7s4",
        "outputId": "a6fc608b-1b4b-4d68-b52b-3fbce0cc72fa"
      },
      "source": [
        "intel_info['country']"
      ],
      "execution_count": 24,
      "outputs": [
        {
          "output_type": "execute_result",
          "data": {
            "application/vnd.google.colaboratory.intrinsic+json": {
              "type": "string"
            },
            "text/plain": [
              "'United States'"
            ]
          },
          "metadata": {
            "tags": []
          },
          "execution_count": 24
        }
      ]
    },
    {
      "cell_type": "code",
      "metadata": {
        "colab": {
          "base_uri": "https://localhost:8080/",
          "height": 0
        },
        "id": "QbJYbGfpI7s5",
        "outputId": "d2d05041-0305-4c86-c7f2-5f31f65d615e"
      },
      "source": [
        "intel_info['sector']"
      ],
      "execution_count": 25,
      "outputs": [
        {
          "output_type": "execute_result",
          "data": {
            "application/vnd.google.colaboratory.intrinsic+json": {
              "type": "string"
            },
            "text/plain": [
              "'Technology'"
            ]
          },
          "metadata": {
            "tags": []
          },
          "execution_count": 25
        }
      ]
    },
    {
      "cell_type": "code",
      "metadata": {
        "id": "ZWb8AoiiI7s5"
      },
      "source": [
        "intel_share_price_data = intel.history(period = 'max')"
      ],
      "execution_count": 26,
      "outputs": []
    },
    {
      "cell_type": "code",
      "metadata": {
        "colab": {
          "base_uri": "https://localhost:8080/",
          "height": 0
        },
        "id": "vGoD4QKgI7s6",
        "outputId": "470fa5b2-5a4d-448a-b75b-ae8126543024"
      },
      "source": [
        "intel_share_price_data.head()"
      ],
      "execution_count": 27,
      "outputs": [
        {
          "output_type": "execute_result",
          "data": {
            "text/html": [
              "<div>\n",
              "<style scoped>\n",
              "    .dataframe tbody tr th:only-of-type {\n",
              "        vertical-align: middle;\n",
              "    }\n",
              "\n",
              "    .dataframe tbody tr th {\n",
              "        vertical-align: top;\n",
              "    }\n",
              "\n",
              "    .dataframe thead th {\n",
              "        text-align: right;\n",
              "    }\n",
              "</style>\n",
              "<table border=\"1\" class=\"dataframe\">\n",
              "  <thead>\n",
              "    <tr style=\"text-align: right;\">\n",
              "      <th></th>\n",
              "      <th>Open</th>\n",
              "      <th>High</th>\n",
              "      <th>Low</th>\n",
              "      <th>Close</th>\n",
              "      <th>Volume</th>\n",
              "      <th>Dividends</th>\n",
              "      <th>Stock Splits</th>\n",
              "    </tr>\n",
              "    <tr>\n",
              "      <th>Date</th>\n",
              "      <th></th>\n",
              "      <th></th>\n",
              "      <th></th>\n",
              "      <th></th>\n",
              "      <th></th>\n",
              "      <th></th>\n",
              "      <th></th>\n",
              "    </tr>\n",
              "  </thead>\n",
              "  <tbody>\n",
              "    <tr>\n",
              "      <th>1980-03-17</th>\n",
              "      <td>0.199557</td>\n",
              "      <td>0.202750</td>\n",
              "      <td>0.199557</td>\n",
              "      <td>0.199557</td>\n",
              "      <td>10924800</td>\n",
              "      <td>0.0</td>\n",
              "      <td>0.0</td>\n",
              "    </tr>\n",
              "    <tr>\n",
              "      <th>1980-03-18</th>\n",
              "      <td>0.199557</td>\n",
              "      <td>0.201154</td>\n",
              "      <td>0.197961</td>\n",
              "      <td>0.197961</td>\n",
              "      <td>17068800</td>\n",
              "      <td>0.0</td>\n",
              "      <td>0.0</td>\n",
              "    </tr>\n",
              "    <tr>\n",
              "      <th>1980-03-19</th>\n",
              "      <td>0.202750</td>\n",
              "      <td>0.205943</td>\n",
              "      <td>0.202750</td>\n",
              "      <td>0.202750</td>\n",
              "      <td>18508800</td>\n",
              "      <td>0.0</td>\n",
              "      <td>0.0</td>\n",
              "    </tr>\n",
              "    <tr>\n",
              "      <th>1980-03-20</th>\n",
              "      <td>0.202750</td>\n",
              "      <td>0.205144</td>\n",
              "      <td>0.201952</td>\n",
              "      <td>0.201952</td>\n",
              "      <td>11174400</td>\n",
              "      <td>0.0</td>\n",
              "      <td>0.0</td>\n",
              "    </tr>\n",
              "    <tr>\n",
              "      <th>1980-03-21</th>\n",
              "      <td>0.197961</td>\n",
              "      <td>0.197961</td>\n",
              "      <td>0.194767</td>\n",
              "      <td>0.194767</td>\n",
              "      <td>12172800</td>\n",
              "      <td>0.0</td>\n",
              "      <td>0.0</td>\n",
              "    </tr>\n",
              "  </tbody>\n",
              "</table>\n",
              "</div>"
            ],
            "text/plain": [
              "                Open      High       Low  ...    Volume  Dividends  Stock Splits\n",
              "Date                                      ...                                   \n",
              "1980-03-17  0.199557  0.202750  0.199557  ...  10924800        0.0           0.0\n",
              "1980-03-18  0.199557  0.201154  0.197961  ...  17068800        0.0           0.0\n",
              "1980-03-19  0.202750  0.205943  0.202750  ...  18508800        0.0           0.0\n",
              "1980-03-20  0.202750  0.205144  0.201952  ...  11174400        0.0           0.0\n",
              "1980-03-21  0.197961  0.197961  0.194767  ...  12172800        0.0           0.0\n",
              "\n",
              "[5 rows x 7 columns]"
            ]
          },
          "metadata": {
            "tags": []
          },
          "execution_count": 27
        }
      ]
    },
    {
      "cell_type": "code",
      "metadata": {
        "id": "M6ZNBcdEI7s6"
      },
      "source": [
        "intel_share_price_data.reset_index(inplace= True)"
      ],
      "execution_count": 28,
      "outputs": []
    },
    {
      "cell_type": "code",
      "metadata": {
        "colab": {
          "base_uri": "https://localhost:8080/",
          "height": 0
        },
        "id": "3FLu8Hq_I7s6",
        "outputId": "943416f1-f801-40d7-dccc-70131d3ac569"
      },
      "source": [
        "intel_share_price_data"
      ],
      "execution_count": 29,
      "outputs": [
        {
          "output_type": "execute_result",
          "data": {
            "text/html": [
              "<div>\n",
              "<style scoped>\n",
              "    .dataframe tbody tr th:only-of-type {\n",
              "        vertical-align: middle;\n",
              "    }\n",
              "\n",
              "    .dataframe tbody tr th {\n",
              "        vertical-align: top;\n",
              "    }\n",
              "\n",
              "    .dataframe thead th {\n",
              "        text-align: right;\n",
              "    }\n",
              "</style>\n",
              "<table border=\"1\" class=\"dataframe\">\n",
              "  <thead>\n",
              "    <tr style=\"text-align: right;\">\n",
              "      <th></th>\n",
              "      <th>Date</th>\n",
              "      <th>Open</th>\n",
              "      <th>High</th>\n",
              "      <th>Low</th>\n",
              "      <th>Close</th>\n",
              "      <th>Volume</th>\n",
              "      <th>Dividends</th>\n",
              "      <th>Stock Splits</th>\n",
              "    </tr>\n",
              "  </thead>\n",
              "  <tbody>\n",
              "    <tr>\n",
              "      <th>0</th>\n",
              "      <td>1980-03-17</td>\n",
              "      <td>0.199557</td>\n",
              "      <td>0.202750</td>\n",
              "      <td>0.199557</td>\n",
              "      <td>0.199557</td>\n",
              "      <td>10924800</td>\n",
              "      <td>0.0</td>\n",
              "      <td>0.0</td>\n",
              "    </tr>\n",
              "    <tr>\n",
              "      <th>1</th>\n",
              "      <td>1980-03-18</td>\n",
              "      <td>0.199557</td>\n",
              "      <td>0.201154</td>\n",
              "      <td>0.197961</td>\n",
              "      <td>0.197961</td>\n",
              "      <td>17068800</td>\n",
              "      <td>0.0</td>\n",
              "      <td>0.0</td>\n",
              "    </tr>\n",
              "    <tr>\n",
              "      <th>2</th>\n",
              "      <td>1980-03-19</td>\n",
              "      <td>0.202750</td>\n",
              "      <td>0.205943</td>\n",
              "      <td>0.202750</td>\n",
              "      <td>0.202750</td>\n",
              "      <td>18508800</td>\n",
              "      <td>0.0</td>\n",
              "      <td>0.0</td>\n",
              "    </tr>\n",
              "    <tr>\n",
              "      <th>3</th>\n",
              "      <td>1980-03-20</td>\n",
              "      <td>0.202750</td>\n",
              "      <td>0.205144</td>\n",
              "      <td>0.201952</td>\n",
              "      <td>0.201952</td>\n",
              "      <td>11174400</td>\n",
              "      <td>0.0</td>\n",
              "      <td>0.0</td>\n",
              "    </tr>\n",
              "    <tr>\n",
              "      <th>4</th>\n",
              "      <td>1980-03-21</td>\n",
              "      <td>0.197961</td>\n",
              "      <td>0.197961</td>\n",
              "      <td>0.194767</td>\n",
              "      <td>0.194767</td>\n",
              "      <td>12172800</td>\n",
              "      <td>0.0</td>\n",
              "      <td>0.0</td>\n",
              "    </tr>\n",
              "    <tr>\n",
              "      <th>...</th>\n",
              "      <td>...</td>\n",
              "      <td>...</td>\n",
              "      <td>...</td>\n",
              "      <td>...</td>\n",
              "      <td>...</td>\n",
              "      <td>...</td>\n",
              "      <td>...</td>\n",
              "      <td>...</td>\n",
              "    </tr>\n",
              "    <tr>\n",
              "      <th>10352</th>\n",
              "      <td>2021-04-07</td>\n",
              "      <td>65.669998</td>\n",
              "      <td>66.570000</td>\n",
              "      <td>65.360001</td>\n",
              "      <td>66.250000</td>\n",
              "      <td>17793300</td>\n",
              "      <td>0.0</td>\n",
              "      <td>0.0</td>\n",
              "    </tr>\n",
              "    <tr>\n",
              "      <th>10353</th>\n",
              "      <td>2021-04-08</td>\n",
              "      <td>66.970001</td>\n",
              "      <td>67.290001</td>\n",
              "      <td>66.360001</td>\n",
              "      <td>67.050003</td>\n",
              "      <td>22224200</td>\n",
              "      <td>0.0</td>\n",
              "      <td>0.0</td>\n",
              "    </tr>\n",
              "    <tr>\n",
              "      <th>10354</th>\n",
              "      <td>2021-04-09</td>\n",
              "      <td>66.800003</td>\n",
              "      <td>68.400002</td>\n",
              "      <td>66.629997</td>\n",
              "      <td>68.260002</td>\n",
              "      <td>27106300</td>\n",
              "      <td>0.0</td>\n",
              "      <td>0.0</td>\n",
              "    </tr>\n",
              "    <tr>\n",
              "      <th>10355</th>\n",
              "      <td>2021-04-12</td>\n",
              "      <td>68.199997</td>\n",
              "      <td>68.489998</td>\n",
              "      <td>64.709999</td>\n",
              "      <td>65.410004</td>\n",
              "      <td>51215200</td>\n",
              "      <td>0.0</td>\n",
              "      <td>0.0</td>\n",
              "    </tr>\n",
              "    <tr>\n",
              "      <th>10356</th>\n",
              "      <td>2021-04-13</td>\n",
              "      <td>65.610001</td>\n",
              "      <td>65.634598</td>\n",
              "      <td>64.570000</td>\n",
              "      <td>64.699997</td>\n",
              "      <td>6186557</td>\n",
              "      <td>0.0</td>\n",
              "      <td>0.0</td>\n",
              "    </tr>\n",
              "  </tbody>\n",
              "</table>\n",
              "<p>10357 rows × 8 columns</p>\n",
              "</div>"
            ],
            "text/plain": [
              "            Date       Open       High  ...    Volume  Dividends  Stock Splits\n",
              "0     1980-03-17   0.199557   0.202750  ...  10924800        0.0           0.0\n",
              "1     1980-03-18   0.199557   0.201154  ...  17068800        0.0           0.0\n",
              "2     1980-03-19   0.202750   0.205943  ...  18508800        0.0           0.0\n",
              "3     1980-03-20   0.202750   0.205144  ...  11174400        0.0           0.0\n",
              "4     1980-03-21   0.197961   0.197961  ...  12172800        0.0           0.0\n",
              "...          ...        ...        ...  ...       ...        ...           ...\n",
              "10352 2021-04-07  65.669998  66.570000  ...  17793300        0.0           0.0\n",
              "10353 2021-04-08  66.970001  67.290001  ...  22224200        0.0           0.0\n",
              "10354 2021-04-09  66.800003  68.400002  ...  27106300        0.0           0.0\n",
              "10355 2021-04-12  68.199997  68.489998  ...  51215200        0.0           0.0\n",
              "10356 2021-04-13  65.610001  65.634598  ...   6186557        0.0           0.0\n",
              "\n",
              "[10357 rows x 8 columns]"
            ]
          },
          "metadata": {
            "tags": []
          },
          "execution_count": 29
        }
      ]
    },
    {
      "cell_type": "code",
      "metadata": {
        "id": "Qse-yfqBI7s7"
      },
      "source": [
        "max_volume = max(intel_share_price_data[\"Volume\"])"
      ],
      "execution_count": 30,
      "outputs": []
    },
    {
      "cell_type": "code",
      "metadata": {
        "colab": {
          "base_uri": "https://localhost:8080/"
        },
        "id": "ClfAeG7ZI7s7",
        "outputId": "16ef96d3-7266-4ba5-d94b-03ea81253c3e"
      },
      "source": [
        "max_volume"
      ],
      "execution_count": 31,
      "outputs": [
        {
          "output_type": "execute_result",
          "data": {
            "text/plain": [
              "567708800"
            ]
          },
          "metadata": {
            "tags": []
          },
          "execution_count": 31
        }
      ]
    },
    {
      "cell_type": "markdown",
      "metadata": {
        "id": "CHs70_VJLZ1G"
      },
      "source": [
        "#<b>Ploting AMD Vs Intel Stock Price"
      ]
    },
    {
      "cell_type": "code",
      "metadata": {
        "id": "czMFjejJLy4u"
      },
      "source": [
        "import matplotlib.pyplot as plt"
      ],
      "execution_count": 32,
      "outputs": []
    },
    {
      "cell_type": "code",
      "metadata": {
        "colab": {
          "base_uri": "https://localhost:8080/"
        },
        "id": "gNXCCi3VN0vj",
        "outputId": "6cb827e9-a4e5-4747-9f58-79117b248727"
      },
      "source": [
        "type(amd_share_price_data)"
      ],
      "execution_count": 33,
      "outputs": [
        {
          "output_type": "execute_result",
          "data": {
            "text/plain": [
              "pandas.core.frame.DataFrame"
            ]
          },
          "metadata": {
            "tags": []
          },
          "execution_count": 33
        }
      ]
    },
    {
      "cell_type": "code",
      "metadata": {
        "colab": {
          "base_uri": "https://localhost:8080/",
          "height": 195
        },
        "id": "9rGLpMtcPDR9",
        "outputId": "c65d3f03-4e4e-41a9-ed7b-d169844cd31d"
      },
      "source": [
        "amd_share_price_data.head()"
      ],
      "execution_count": 34,
      "outputs": [
        {
          "output_type": "execute_result",
          "data": {
            "text/html": [
              "<div>\n",
              "<style scoped>\n",
              "    .dataframe tbody tr th:only-of-type {\n",
              "        vertical-align: middle;\n",
              "    }\n",
              "\n",
              "    .dataframe tbody tr th {\n",
              "        vertical-align: top;\n",
              "    }\n",
              "\n",
              "    .dataframe thead th {\n",
              "        text-align: right;\n",
              "    }\n",
              "</style>\n",
              "<table border=\"1\" class=\"dataframe\">\n",
              "  <thead>\n",
              "    <tr style=\"text-align: right;\">\n",
              "      <th></th>\n",
              "      <th>Date</th>\n",
              "      <th>Open</th>\n",
              "      <th>High</th>\n",
              "      <th>Low</th>\n",
              "      <th>Close</th>\n",
              "      <th>Volume</th>\n",
              "      <th>Dividends</th>\n",
              "      <th>Stock Splits</th>\n",
              "    </tr>\n",
              "  </thead>\n",
              "  <tbody>\n",
              "    <tr>\n",
              "      <th>0</th>\n",
              "      <td>1980-03-17</td>\n",
              "      <td>0.0</td>\n",
              "      <td>3.302083</td>\n",
              "      <td>3.125000</td>\n",
              "      <td>3.145833</td>\n",
              "      <td>219600</td>\n",
              "      <td>0</td>\n",
              "      <td>0.0</td>\n",
              "    </tr>\n",
              "    <tr>\n",
              "      <th>1</th>\n",
              "      <td>1980-03-18</td>\n",
              "      <td>0.0</td>\n",
              "      <td>3.125000</td>\n",
              "      <td>2.937500</td>\n",
              "      <td>3.031250</td>\n",
              "      <td>727200</td>\n",
              "      <td>0</td>\n",
              "      <td>0.0</td>\n",
              "    </tr>\n",
              "    <tr>\n",
              "      <th>2</th>\n",
              "      <td>1980-03-19</td>\n",
              "      <td>0.0</td>\n",
              "      <td>3.083333</td>\n",
              "      <td>3.020833</td>\n",
              "      <td>3.041667</td>\n",
              "      <td>295200</td>\n",
              "      <td>0</td>\n",
              "      <td>0.0</td>\n",
              "    </tr>\n",
              "    <tr>\n",
              "      <th>3</th>\n",
              "      <td>1980-03-20</td>\n",
              "      <td>0.0</td>\n",
              "      <td>3.062500</td>\n",
              "      <td>3.010417</td>\n",
              "      <td>3.010417</td>\n",
              "      <td>159600</td>\n",
              "      <td>0</td>\n",
              "      <td>0.0</td>\n",
              "    </tr>\n",
              "    <tr>\n",
              "      <th>4</th>\n",
              "      <td>1980-03-21</td>\n",
              "      <td>0.0</td>\n",
              "      <td>3.020833</td>\n",
              "      <td>2.906250</td>\n",
              "      <td>2.916667</td>\n",
              "      <td>130800</td>\n",
              "      <td>0</td>\n",
              "      <td>0.0</td>\n",
              "    </tr>\n",
              "  </tbody>\n",
              "</table>\n",
              "</div>"
            ],
            "text/plain": [
              "        Date  Open      High  ...  Volume  Dividends  Stock Splits\n",
              "0 1980-03-17   0.0  3.302083  ...  219600          0           0.0\n",
              "1 1980-03-18   0.0  3.125000  ...  727200          0           0.0\n",
              "2 1980-03-19   0.0  3.083333  ...  295200          0           0.0\n",
              "3 1980-03-20   0.0  3.062500  ...  159600          0           0.0\n",
              "4 1980-03-21   0.0  3.020833  ...  130800          0           0.0\n",
              "\n",
              "[5 rows x 8 columns]"
            ]
          },
          "metadata": {
            "tags": []
          },
          "execution_count": 34
        }
      ]
    },
    {
      "cell_type": "code",
      "metadata": {
        "colab": {
          "base_uri": "https://localhost:8080/",
          "height": 286
        },
        "id": "p5f7RRjSI7s8",
        "outputId": "757ee81f-c1f5-4d68-c4f5-883c8d9293dd"
      },
      "source": [
        "\n",
        "amd_share_price_data.plot(x = \"Date\", y = \"Open\")\n"
      ],
      "execution_count": 36,
      "outputs": [
        {
          "output_type": "execute_result",
          "data": {
            "text/plain": [
              "<matplotlib.axes._subplots.AxesSubplot at 0x7f08e87b2110>"
            ]
          },
          "metadata": {
            "tags": []
          },
          "execution_count": 36
        },
        {
          "output_type": "display_data",
          "data": {
            "image/png": "[encoded data removed]",
            "text/plain": [
              "<Figure size 432x288 with 1 Axes>"
            ]
          },
          "metadata": {
            "tags": [],
            "needs_background": "light"
          }
        }
      ]
    },
    {
      "cell_type": "code",
      "metadata": {
        "colab": {
          "base_uri": "https://localhost:8080/",
          "height": 286
        },
        "id": "8y8PViG3rGR2",
        "outputId": "eb6ad6b4-bd8f-43c5-fdaa-e5c167a1970b"
      },
      "source": [
        "intel_share_price_data.plot(x = \"Date\", y = \"Open\")"
      ],
      "execution_count": 37,
      "outputs": [
        {
          "output_type": "execute_result",
          "data": {
            "text/plain": [
              "<matplotlib.axes._subplots.AxesSubplot at 0x7f08e81487d0>"
            ]
          },
          "metadata": {
            "tags": []
          },
          "execution_count": 37
        },
        {
          "output_type": "display_data",
          "data": {
            "image/png": "[encoded data removed]",
            "text/plain": [
              "<Figure size 432x288 with 1 Axes>"
            ]
          },
          "metadata": {
            "tags": [],
            "needs_background": "light"
          }
        }
      ]
    },
    {
      "cell_type": "markdown",
      "metadata": {
        "id": "eLzYe6p4IEEN"
      },
      "source": [
        "#<B>END"
      ]
    },
    {
      "cell_type": "code",
      "metadata": {
        "id": "YDNyFV5CISCM"
      },
      "source": [
        ""
      ],
      "execution_count": 35,
      "outputs": []
    }
  ]
}
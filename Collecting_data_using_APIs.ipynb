{
  "nbformat": 4,
  "nbformat_minor": 0,
  "metadata": {
    "colab": {
      "name": "Collecting data using APIs",
      "provenance": [],
      "authorship_tag": "ABX9TyOjPQFp4KiU/oQoob/UfCSA",
      "include_colab_link": true
    },
    "kernelspec": {
      "name": "python3",
      "display_name": "Python 3"
    }
  },
  "cells": [
    {
      "cell_type": "markdown",
      "metadata": {
        "id": "view-in-github",
        "colab_type": "text"
      },
      "source": [
        "<a href=\"https://colab.research.google.com/github/Muhliscm/Course-era-captone/blob/master/Collecting_data_using_APIs.ipynb\" target=\"_parent\"><img src=\"https://colab.research.google.com/assets/colab-badge.svg\" alt=\"Open In Colab\"/></a>"
      ]
    },
    {
      "cell_type": "code",
      "metadata": {
        "id": "5ufaEv9-9plE"
      },
      "source": [
        "import requests"
      ],
      "execution_count": 1,
      "outputs": []
    },
    {
      "cell_type": "code",
      "metadata": {
        "id": "SCV5urXC__nb"
      },
      "source": [
        "#finding no of people on international space station\r\n",
        "api_url = \"http://api.open-notify.org/astros.json\""
      ],
      "execution_count": 2,
      "outputs": []
    },
    {
      "cell_type": "code",
      "metadata": {
        "id": "6EJ4roDYAEQl"
      },
      "source": [
        "response = requests.get(api_url)"
      ],
      "execution_count": 3,
      "outputs": []
    },
    {
      "cell_type": "code",
      "metadata": {
        "id": "S1zG-Ua-AK4y"
      },
      "source": [
        "if response.ok:\r\n",
        "  data = response.json()"
      ],
      "execution_count": 4,
      "outputs": []
    },
    {
      "cell_type": "code",
      "metadata": {
        "colab": {
          "base_uri": "https://localhost:8080/"
        },
        "id": "mEaSlPjVAcnT",
        "outputId": "a4800162-a108-4737-96b0-bff59eaf4a0b"
      },
      "source": [
        "print(data)"
      ],
      "execution_count": 5,
      "outputs": [
        {
          "output_type": "stream",
          "text": [
            "{'message': 'success', 'number': 7, 'people': [{'craft': 'ISS', 'name': 'Sergey Ryzhikov'}, {'craft': 'ISS', 'name': 'Kate Rubins'}, {'craft': 'ISS', 'name': 'Sergey Kud-Sverchkov'}, {'craft': 'ISS', 'name': 'Mike Hopkins'}, {'craft': 'ISS', 'name': 'Victor Glover'}, {'craft': 'ISS', 'name': 'Shannon Walker'}, {'craft': 'ISS', 'name': 'Soichi Noguchi'}]}\n"
          ],
          "name": "stdout"
        }
      ]
    },
    {
      "cell_type": "code",
      "metadata": {
        "colab": {
          "base_uri": "https://localhost:8080/"
        },
        "id": "yqUgpm3hAevB",
        "outputId": "65884069-bbae-467e-f027-946c46db086e"
      },
      "source": [
        "print(data.get('number'))"
      ],
      "execution_count": 6,
      "outputs": [
        {
          "output_type": "stream",
          "text": [
            "7\n"
          ],
          "name": "stdout"
        }
      ]
    },
    {
      "cell_type": "code",
      "metadata": {
        "id": "ekFFRc3FA6RI",
        "colab": {
          "base_uri": "https://localhost:8080/"
        },
        "outputId": "d9e52f56-234c-48b6-8854-9086a0baf458"
      },
      "source": [
        "astronauts = data.get('people')\r\n",
        "print(\"There are {} astronauts on ISS\".format(len(astronauts)))\r\n",
        "print(\"And Their names are: \")\r\n",
        "for astronaut in astronauts:\r\n",
        "  print(astronaut.get('name'))"
      ],
      "execution_count": 7,
      "outputs": [
        {
          "output_type": "stream",
          "text": [
            "There are 7 astronauts on ISS\n",
            "And Their names are: \n",
            "Sergey Ryzhikov\n",
            "Kate Rubins\n",
            "Sergey Kud-Sverchkov\n",
            "Mike Hopkins\n",
            "Victor Glover\n",
            "Shannon Walker\n",
            "Soichi Noguchi\n"
          ],
          "name": "stdout"
        }
      ]
    },
    {
      "cell_type": "markdown",
      "metadata": {
        "id": "xWICgklg2gZI"
      },
      "source": [
        "###**Collecting job Data using gitHub jobs API**"
      ]
    },
    {
      "cell_type": "code",
      "metadata": {
        "id": "T4j-nBGL8QGR"
      },
      "source": [
        "import requests"
      ],
      "execution_count": 8,
      "outputs": []
    },
    {
      "cell_type": "code",
      "metadata": {
        "id": "kphYKkh6Fxxc"
      },
      "source": [
        ""
      ],
      "execution_count": 8,
      "outputs": []
    },
    {
      "cell_type": "code",
      "metadata": {
        "id": "dlkh1nTU3NKA"
      },
      "source": [
        "baseurl = \"http://jobs.github.com/positions.json\""
      ],
      "execution_count": 9,
      "outputs": []
    },
    {
      "cell_type": "code",
      "metadata": {
        "id": "kw0pStwt-EDB"
      },
      "source": [
        "response.headers"
      ],
      "execution_count": null,
      "outputs": []
    },
    {
      "cell_type": "code",
      "metadata": {
        "id": "YKL9-hK5HFR9"
      },
      "source": [
        "response = requests.get(new)"
      ],
      "execution_count": null,
      "outputs": []
    },
    {
      "cell_type": "code",
      "metadata": {
        "id": "yi7Ecdzp8hfs"
      },
      "source": [
        "if response.ok:\r\n",
        "  data = response.json()"
      ],
      "execution_count": null,
      "outputs": []
    },
    {
      "cell_type": "code",
      "metadata": {
        "id": "7AFuOZYvBzBz"
      },
      "source": [
        "print(len(data))"
      ],
      "execution_count": null,
      "outputs": []
    },
    {
      "cell_type": "code",
      "metadata": {
        "id": "Bt-K3_QgDKPZ"
      },
      "source": [
        "response = requests.get(baseurl)\r\n",
        "  "
      ],
      "execution_count": null,
      "outputs": []
    },
    {
      "cell_type": "code",
      "metadata": {
        "id": "gLPqhVCJ6qsh"
      },
      "source": [
        "def get_number_of_jobs(technology):\r\n",
        "  \r\n",
        "  number_of_jobs = 0\r\n",
        "  page_number = 0\r\n",
        "  l = 0\r\n",
        "  #your code goes here\r\n",
        "  url = f\"{baseurl}?description={technology}\"\r\n",
        "\r\n",
        "  response = requests.get(url)\r\n",
        "  \r\n",
        "  if response.ok:\r\n",
        "    data = response.json()\r\n",
        "  \r\n",
        "  l = len(data)\r\n",
        "\r\n",
        "  while l >= 50:\r\n",
        "    number_of_jobs +=l\r\n",
        "    page_number += 1\r\n",
        "    url = f\"{url}&page={page_number}\"\r\n",
        "    response = requests.get(url)\r\n",
        "    data = response.json()\r\n",
        "    l = len(data)\r\n",
        "  \r\n",
        "  else:\r\n",
        "    number_of_jobs += l\r\n",
        "\r\n",
        "  return technology, number_of_jobs"
      ],
      "execution_count": 75,
      "outputs": []
    },
    {
      "cell_type": "code",
      "metadata": {
        "colab": {
          "base_uri": "https://localhost:8080/"
        },
        "id": "xq492p7E7ffi",
        "outputId": "ab39dee9-a8bf-49b7-8308-c2c60fe48224"
      },
      "source": [
        "print(get_number_of_jobs('java'))"
      ],
      "execution_count": 76,
      "outputs": [
        {
          "output_type": "stream",
          "text": [
            "('java', 116)\n"
          ],
          "name": "stdout"
        }
      ]
    },
    {
      "cell_type": "code",
      "metadata": {
        "id": "0Y53R9KiS0ar"
      },
      "source": [
        "list = []\r\n",
        "list.append(get_number_of_jobs('java'))"
      ],
      "execution_count": 86,
      "outputs": []
    },
    {
      "cell_type": "code",
      "metadata": {
        "colab": {
          "base_uri": "https://localhost:8080/"
        },
        "id": "gZ6c4PQ6S8sO",
        "outputId": "69387989-cabf-4fec-adfd-376b8edbeb3d"
      },
      "source": [
        "print(type(list[0]))"
      ],
      "execution_count": 89,
      "outputs": [
        {
          "output_type": "stream",
          "text": [
            "<class 'tuple'>\n"
          ],
          "name": "stdout"
        }
      ]
    },
    {
      "cell_type": "code",
      "metadata": {
        "id": "ooJidE7h70vR"
      },
      "source": [
        "from openpyxl import Workbook\r\n",
        "\r\n",
        "wb = Workbook()\r\n",
        "ws = wb.active\r\n",
        "ws.append(['Countery', 'Continent'])\r\n",
        "ws.append(['Eygpt', 'Africa'])\r\n",
        "ws.append(['India', 'Asia'])\r\n",
        "ws.append(['France', 'Europe'])\r\n",
        "wb.save('Countries.xlsx')"
      ],
      "execution_count": 70,
      "outputs": []
    },
    {
      "cell_type": "code",
      "metadata": {
        "colab": {
          "base_uri": "https://localhost:8080/"
        },
        "id": "V5sg8umvK0BN",
        "outputId": "7b081222-6fd5-4f82-86e6-530392d5b4c5"
      },
      "source": [
        "!ls"
      ],
      "execution_count": 71,
      "outputs": [
        {
          "output_type": "stream",
          "text": [
            "Countries.xlsx\tsample_data\n"
          ],
          "name": "stdout"
        }
      ]
    },
    {
      "cell_type": "code",
      "metadata": {
        "id": "wApmnFOXLNEa"
      },
      "source": [
        "import pandas as pd\r\n",
        "x = pd.read_excel('Countries.xlsx')"
      ],
      "execution_count": 73,
      "outputs": []
    },
    {
      "cell_type": "code",
      "metadata": {
        "colab": {
          "base_uri": "https://localhost:8080/",
          "height": 136
        },
        "id": "XToIbwAnOg2h",
        "outputId": "cb907623-4582-4c96-8ff3-3c5449473544"
      },
      "source": [
        "x"
      ],
      "execution_count": 74,
      "outputs": [
        {
          "output_type": "execute_result",
          "data": {
            "text/html": [
              "<div>\n",
              "<style scoped>\n",
              "    .dataframe tbody tr th:only-of-type {\n",
              "        vertical-align: middle;\n",
              "    }\n",
              "\n",
              "    .dataframe tbody tr th {\n",
              "        vertical-align: top;\n",
              "    }\n",
              "\n",
              "    .dataframe thead th {\n",
              "        text-align: right;\n",
              "    }\n",
              "</style>\n",
              "<table border=\"1\" class=\"dataframe\">\n",
              "  <thead>\n",
              "    <tr style=\"text-align: right;\">\n",
              "      <th></th>\n",
              "      <th>Countery</th>\n",
              "      <th>Continent</th>\n",
              "    </tr>\n",
              "  </thead>\n",
              "  <tbody>\n",
              "    <tr>\n",
              "      <th>0</th>\n",
              "      <td>Eygpt</td>\n",
              "      <td>Africa</td>\n",
              "    </tr>\n",
              "    <tr>\n",
              "      <th>1</th>\n",
              "      <td>India</td>\n",
              "      <td>Asia</td>\n",
              "    </tr>\n",
              "    <tr>\n",
              "      <th>2</th>\n",
              "      <td>France</td>\n",
              "      <td>Europe</td>\n",
              "    </tr>\n",
              "  </tbody>\n",
              "</table>\n",
              "</div>"
            ],
            "text/plain": [
              "  Countery Continent\n",
              "0    Eygpt    Africa\n",
              "1    India      Asia\n",
              "2   France    Europe"
            ]
          },
          "metadata": {
            "tags": []
          },
          "execution_count": 74
        }
      ]
    },
    {
      "cell_type": "code",
      "metadata": {
        "id": "aVTNX3GXOpS4"
      },
      "source": [
        "technologies = [\"C\", \"C#\", \"C++\", \"Java\", \"JavaScript\", \"Python\", \"Scala\", \"Oracle\", \"SQL Server\", \"MySQL Server\", \"PostgreSQL\",  \r\n",
        "                \"MongoDB\"]"
      ],
      "execution_count": 82,
      "outputs": []
    },
    {
      "cell_type": "code",
      "metadata": {
        "colab": {
          "base_uri": "https://localhost:8080/"
        },
        "id": "Q8M6eGGCR-1M",
        "outputId": "571e4026-33a0-411e-9762-5cb36ad34eea"
      },
      "source": [
        "for tech in technologies:\r\n",
        "  "
      ],
      "execution_count": 85,
      "outputs": [
        {
          "output_type": "stream",
          "text": [
            "<class 'str'>\n",
            "C\n",
            "<class 'str'>\n",
            "C#\n",
            "<class 'str'>\n",
            "C++\n",
            "<class 'str'>\n",
            "Java\n",
            "<class 'str'>\n",
            "JavaScript\n",
            "<class 'str'>\n",
            "Python\n",
            "<class 'str'>\n",
            "Scala\n",
            "<class 'str'>\n",
            "Oracle\n",
            "<class 'str'>\n",
            "SQL Server\n",
            "<class 'str'>\n",
            "MySQL Server\n",
            "<class 'str'>\n",
            "PostgreSQL\n",
            "<class 'str'>\n",
            "MongoDB\n"
          ],
          "name": "stdout"
        }
      ]
    },
    {
      "cell_type": "code",
      "metadata": {
        "id": "-INysIssSXF3"
      },
      "source": [
        ""
      ],
      "execution_count": null,
      "outputs": []
    }
  ]
}
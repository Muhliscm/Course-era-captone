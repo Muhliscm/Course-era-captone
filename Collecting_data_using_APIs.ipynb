{
  "nbformat": 4,
  "nbformat_minor": 0,
  "metadata": {
    "colab": {
      "name": "Collecting data using APIs",
      "provenance": [],
      "authorship_tag": "ABX9TyN2wQkj+iKSwd6qZORA0zSf",
      "include_colab_link": true
    },
    "kernelspec": {
      "name": "python3",
      "display_name": "Python 3"
    }
  },
  "cells": [
    {
      "cell_type": "markdown",
      "metadata": {
        "id": "view-in-github",
        "colab_type": "text"
      },
      "source": [
        "<a href=\"https://colab.research.google.com/github/Muhliscm/Course-era-captone/blob/master/Collecting_data_using_APIs.ipynb\" target=\"_parent\"><img src=\"https://colab.research.google.com/assets/colab-badge.svg\" alt=\"Open In Colab\"/></a>"
      ]
    },
    {
      "cell_type": "code",
      "metadata": {
        "id": "5ufaEv9-9plE"
      },
      "source": [
        "import requests"
      ],
      "execution_count": 3,
      "outputs": []
    },
    {
      "cell_type": "code",
      "metadata": {
        "id": "SCV5urXC__nb"
      },
      "source": [
        "#finding no of people on international space station\r\n",
        "api_url = \"http://api.open-notify.org/astros.json\""
      ],
      "execution_count": 4,
      "outputs": []
    },
    {
      "cell_type": "code",
      "metadata": {
        "id": "6EJ4roDYAEQl"
      },
      "source": [
        "response = requests.get(api_url)"
      ],
      "execution_count": 5,
      "outputs": []
    },
    {
      "cell_type": "code",
      "metadata": {
        "id": "S1zG-Ua-AK4y"
      },
      "source": [
        "if response.ok:\r\n",
        "  data = response.json()"
      ],
      "execution_count": 6,
      "outputs": []
    },
    {
      "cell_type": "code",
      "metadata": {
        "colab": {
          "base_uri": "https://localhost:8080/"
        },
        "id": "mEaSlPjVAcnT",
        "outputId": "ab58d292-6240-4c3e-f702-2f4bd016eb4f"
      },
      "source": [
        "print(data)"
      ],
      "execution_count": 7,
      "outputs": [
        {
          "output_type": "stream",
          "text": [
            "{'message': 'success', 'number': 7, 'people': [{'craft': 'ISS', 'name': 'Sergey Ryzhikov'}, {'craft': 'ISS', 'name': 'Kate Rubins'}, {'craft': 'ISS', 'name': 'Sergey Kud-Sverchkov'}, {'craft': 'ISS', 'name': 'Mike Hopkins'}, {'craft': 'ISS', 'name': 'Victor Glover'}, {'craft': 'ISS', 'name': 'Shannon Walker'}, {'craft': 'ISS', 'name': 'Soichi Noguchi'}]}\n"
          ],
          "name": "stdout"
        }
      ]
    },
    {
      "cell_type": "code",
      "metadata": {
        "colab": {
          "base_uri": "https://localhost:8080/"
        },
        "id": "yqUgpm3hAevB",
        "outputId": "7b5612a5-6a24-4450-d6a7-d26a9a41d098"
      },
      "source": [
        "print(data.get('number'))"
      ],
      "execution_count": 8,
      "outputs": [
        {
          "output_type": "stream",
          "text": [
            "7\n"
          ],
          "name": "stdout"
        }
      ]
    },
    {
      "cell_type": "code",
      "metadata": {
        "id": "ekFFRc3FA6RI",
        "colab": {
          "base_uri": "https://localhost:8080/"
        },
        "outputId": "14851677-f789-4a69-a61a-41cfbc30bc9a"
      },
      "source": [
        "astronauts = data.get('people')\r\n",
        "print(\"There are {} astronauts on ISS\".format(len(astronauts)))\r\n",
        "print(\"And Their names are: \")\r\n",
        "for astronaut in astronauts:\r\n",
        "  print(astronaut.get('name'))"
      ],
      "execution_count": 9,
      "outputs": [
        {
          "output_type": "stream",
          "text": [
            "There are 7 astronauts on ISS\n",
            "And Their names are: \n",
            "Sergey Ryzhikov\n",
            "Kate Rubins\n",
            "Sergey Kud-Sverchkov\n",
            "Mike Hopkins\n",
            "Victor Glover\n",
            "Shannon Walker\n",
            "Soichi Noguchi\n"
          ],
          "name": "stdout"
        }
      ]
    },
    {
      "cell_type": "markdown",
      "metadata": {
        "id": "xWICgklg2gZI"
      },
      "source": [
        "###**Collecting job Data using gitHub jobs API**"
      ]
    },
    {
      "cell_type": "code",
      "metadata": {
        "id": "T4j-nBGL8QGR"
      },
      "source": [
        "import requests"
      ],
      "execution_count": 10,
      "outputs": []
    },
    {
      "cell_type": "code",
      "metadata": {
        "id": "kphYKkh6Fxxc"
      },
      "source": [
        ""
      ],
      "execution_count": 10,
      "outputs": []
    },
    {
      "cell_type": "code",
      "metadata": {
        "id": "dlkh1nTU3NKA"
      },
      "source": [
        "baseurl = \"http://jobs.github.com/positions.json\""
      ],
      "execution_count": 11,
      "outputs": []
    },
    {
      "cell_type": "code",
      "metadata": {
        "id": "kw0pStwt-EDB",
        "colab": {
          "base_uri": "https://localhost:8080/"
        },
        "outputId": "195b331d-8e46-429d-b1ef-05e43f3224e0"
      },
      "source": [
        "response.headers"
      ],
      "execution_count": 12,
      "outputs": [
        {
          "output_type": "execute_result",
          "data": {
            "text/plain": [
              "{'Server': 'nginx/1.10.3', 'Date': 'Mon, 11 Jan 2021 17:14:55 GMT', 'Content-Type': 'application/json', 'Content-Length': '356', 'Connection': 'keep-alive', 'access-control-allow-origin': '*'}"
            ]
          },
          "metadata": {
            "tags": []
          },
          "execution_count": 12
        }
      ]
    },
    {
      "cell_type": "code",
      "metadata": {
        "id": "yi7Ecdzp8hfs"
      },
      "source": [
        "if response.ok:\r\n",
        "  data = response.json()"
      ],
      "execution_count": 13,
      "outputs": []
    },
    {
      "cell_type": "code",
      "metadata": {
        "id": "7AFuOZYvBzBz",
        "colab": {
          "base_uri": "https://localhost:8080/"
        },
        "outputId": "afa0c1be-75a8-449b-e807-ef7761f0e981"
      },
      "source": [
        "print(len(data))"
      ],
      "execution_count": 14,
      "outputs": [
        {
          "output_type": "stream",
          "text": [
            "3\n"
          ],
          "name": "stdout"
        }
      ]
    },
    {
      "cell_type": "code",
      "metadata": {
        "id": "Bt-K3_QgDKPZ"
      },
      "source": [
        "response = requests.get(baseurl)\r\n",
        "  "
      ],
      "execution_count": 15,
      "outputs": []
    },
    {
      "cell_type": "code",
      "metadata": {
        "id": "gLPqhVCJ6qsh"
      },
      "source": [
        "def get_number_of_jobs(technology):\r\n",
        "  \r\n",
        "  number_of_jobs = 0\r\n",
        "  page_number = 0\r\n",
        "  l = 0\r\n",
        "  #your code goes here\r\n",
        "  url = f\"{baseurl}?description={technology}\"\r\n",
        "\r\n",
        "  response = requests.get(url)\r\n",
        "  \r\n",
        "  if response.ok:\r\n",
        "    data = response.json()\r\n",
        "  \r\n",
        "  l = len(data)\r\n",
        "\r\n",
        "  while l >= 50:\r\n",
        "    number_of_jobs +=l\r\n",
        "    page_number += 1\r\n",
        "    url = f\"{url}&page={page_number}\"\r\n",
        "    response = requests.get(url)\r\n",
        "    data = response.json()\r\n",
        "    l = len(data)\r\n",
        "  \r\n",
        "  else:\r\n",
        "    number_of_jobs += l\r\n",
        "\r\n",
        "  return technology, number_of_jobs"
      ],
      "execution_count": 16,
      "outputs": []
    },
    {
      "cell_type": "code",
      "metadata": {
        "colab": {
          "base_uri": "https://localhost:8080/"
        },
        "id": "xq492p7E7ffi",
        "outputId": "04bd8075-f732-47cd-8170-6be02f3cf133"
      },
      "source": [
        "print(get_number_of_jobs('java'))"
      ],
      "execution_count": 17,
      "outputs": [
        {
          "output_type": "stream",
          "text": [
            "('java', 112)\n"
          ],
          "name": "stdout"
        }
      ]
    },
    {
      "cell_type": "code",
      "metadata": {
        "id": "0Y53R9KiS0ar"
      },
      "source": [
        ""
      ],
      "execution_count": 17,
      "outputs": []
    },
    {
      "cell_type": "code",
      "metadata": {
        "id": "gZ6c4PQ6S8sO"
      },
      "source": [
        ""
      ],
      "execution_count": 17,
      "outputs": []
    },
    {
      "cell_type": "code",
      "metadata": {
        "id": "ooJidE7h70vR"
      },
      "source": [
        "from openpyxl import Workbook\r\n",
        "\r\n",
        "wb = Workbook()\r\n",
        "ws = wb.active\r\n",
        "ws.append(['Countery', 'Continent'])\r\n",
        "ws.append(['Eygpt', 'Africa'])\r\n",
        "ws.append(['India', 'Asia'])\r\n",
        "ws.append(['France', 'Europe'])\r\n",
        "wb.save('Countries.xlsx')"
      ],
      "execution_count": 18,
      "outputs": []
    },
    {
      "cell_type": "code",
      "metadata": {
        "colab": {
          "base_uri": "https://localhost:8080/"
        },
        "id": "V5sg8umvK0BN",
        "outputId": "065542a8-99fe-4e6e-ed4a-b0fa8a61d71f"
      },
      "source": [
        "!ls"
      ],
      "execution_count": 19,
      "outputs": [
        {
          "output_type": "stream",
          "text": [
            "Countries.xlsx\tsample_data\n"
          ],
          "name": "stdout"
        }
      ]
    },
    {
      "cell_type": "code",
      "metadata": {
        "id": "wApmnFOXLNEa"
      },
      "source": [
        "import pandas as pd\r\n",
        "x = pd.read_excel('Countries.xlsx')"
      ],
      "execution_count": 20,
      "outputs": []
    },
    {
      "cell_type": "code",
      "metadata": {
        "colab": {
          "base_uri": "https://localhost:8080/",
          "height": 136
        },
        "id": "XToIbwAnOg2h",
        "outputId": "4ee143eb-aca0-4448-930d-d475b9612d91"
      },
      "source": [
        "x"
      ],
      "execution_count": 21,
      "outputs": [
        {
          "output_type": "execute_result",
          "data": {
            "text/html": [
              "<div>\n",
              "<style scoped>\n",
              "    .dataframe tbody tr th:only-of-type {\n",
              "        vertical-align: middle;\n",
              "    }\n",
              "\n",
              "    .dataframe tbody tr th {\n",
              "        vertical-align: top;\n",
              "    }\n",
              "\n",
              "    .dataframe thead th {\n",
              "        text-align: right;\n",
              "    }\n",
              "</style>\n",
              "<table border=\"1\" class=\"dataframe\">\n",
              "  <thead>\n",
              "    <tr style=\"text-align: right;\">\n",
              "      <th></th>\n",
              "      <th>Countery</th>\n",
              "      <th>Continent</th>\n",
              "    </tr>\n",
              "  </thead>\n",
              "  <tbody>\n",
              "    <tr>\n",
              "      <th>0</th>\n",
              "      <td>Eygpt</td>\n",
              "      <td>Africa</td>\n",
              "    </tr>\n",
              "    <tr>\n",
              "      <th>1</th>\n",
              "      <td>India</td>\n",
              "      <td>Asia</td>\n",
              "    </tr>\n",
              "    <tr>\n",
              "      <th>2</th>\n",
              "      <td>France</td>\n",
              "      <td>Europe</td>\n",
              "    </tr>\n",
              "  </tbody>\n",
              "</table>\n",
              "</div>"
            ],
            "text/plain": [
              "  Countery Continent\n",
              "0    Eygpt    Africa\n",
              "1    India      Asia\n",
              "2   France    Europe"
            ]
          },
          "metadata": {
            "tags": []
          },
          "execution_count": 21
        }
      ]
    },
    {
      "cell_type": "code",
      "metadata": {
        "id": "aVTNX3GXOpS4"
      },
      "source": [
        "technologies = [\"C\", \"C%23\", \"C++\", \"Java\", \"JavaScript\", \"Python\", \"Scala\", \"Oracle\", \"SQL Server\", \"MySQL Server\", \"PostgreSQL\",  \r\n",
        "                \"MongoDB\"]"
      ],
      "execution_count": 79,
      "outputs": []
    },
    {
      "cell_type": "code",
      "metadata": {
        "colab": {
          "base_uri": "https://localhost:8080/"
        },
        "id": "yeRiev4JjFdC",
        "outputId": "b9e95a41-8440-4fa8-e71b-53afa3394a5f"
      },
      "source": [
        "technologies"
      ],
      "execution_count": 80,
      "outputs": [
        {
          "output_type": "execute_result",
          "data": {
            "text/plain": [
              "['C',\n",
              " 'C%23',\n",
              " 'C++',\n",
              " 'Java',\n",
              " 'JavaScript',\n",
              " 'Python',\n",
              " 'Scala',\n",
              " 'Oracle',\n",
              " 'SQL Server',\n",
              " 'MySQL Server',\n",
              " 'PostgreSQL',\n",
              " 'MongoDB']"
            ]
          },
          "metadata": {
            "tags": []
          },
          "execution_count": 80
        }
      ]
    },
    {
      "cell_type": "code",
      "metadata": {
        "id": "Q8M6eGGCR-1M"
      },
      "source": [
        "from openpyxl import Workbook\r\n"
      ],
      "execution_count": 23,
      "outputs": []
    },
    {
      "cell_type": "code",
      "metadata": {
        "id": "iwLJ_-lmV8aH"
      },
      "source": [
        "new_wb = Workbook()\r\n",
        "ws = new_wb.active\r\n",
        "ws.append(['Technologies', 'Jobs'])\r\n"
      ],
      "execution_count": 84,
      "outputs": []
    },
    {
      "cell_type": "code",
      "metadata": {
        "colab": {
          "base_uri": "https://localhost:8080/"
        },
        "id": "vzK-myDyjJhH",
        "outputId": "5c4b2651-b4ec-4a9e-f42a-da856e6389de"
      },
      "source": [
        "for tech in technologies:\r\n",
        "  s = get_number_of_jobs(tech)\r\n",
        "  ws.append(s)\r\n",
        "new_wb.save(\"github-job-postings.xlsx\")\r\n",
        "print(\"Task completed\")"
      ],
      "execution_count": 91,
      "outputs": [
        {
          "output_type": "stream",
          "text": [
            "Task completed\n"
          ],
          "name": "stdout"
        }
      ]
    },
    {
      "cell_type": "code",
      "metadata": {
        "colab": {
          "base_uri": "https://localhost:8080/"
        },
        "id": "tu97uwMtkSKF",
        "outputId": "50ed7656-d371-4338-bcc8-bbfb3b651f14"
      },
      "source": [
        "!ls"
      ],
      "execution_count": 92,
      "outputs": [
        {
          "output_type": "stream",
          "text": [
            "Countries.xlsx\tdemo.xlsx  github-job-postings.xlsx  Jobs.xlsx\tsample_data\n"
          ],
          "name": "stdout"
        }
      ]
    },
    {
      "cell_type": "code",
      "metadata": {
        "id": "yRXxoDqwkT8s"
      },
      "source": [
        "df = pd.read_excel('github-job-postings.xlsx')"
      ],
      "execution_count": 93,
      "outputs": []
    },
    {
      "cell_type": "code",
      "metadata": {
        "colab": {
          "base_uri": "https://localhost:8080/"
        },
        "id": "-7WMOwFAkbJZ",
        "outputId": "486c813d-1d2f-4259-947e-9c6909a8d576"
      },
      "source": [
        "df['Technologies'][1] = 'C#'"
      ],
      "execution_count": 102,
      "outputs": [
        {
          "output_type": "stream",
          "text": [
            "/usr/local/lib/python3.6/dist-packages/ipykernel_launcher.py:1: SettingWithCopyWarning: \n",
            "A value is trying to be set on a copy of a slice from a DataFrame\n",
            "\n",
            "See the caveats in the documentation: https://pandas.pydata.org/pandas-docs/stable/user_guide/indexing.html#returning-a-view-versus-a-copy\n",
            "  \"\"\"Entry point for launching an IPython kernel.\n"
          ],
          "name": "stderr"
        }
      ]
    },
    {
      "cell_type": "code",
      "metadata": {
        "colab": {
          "base_uri": "https://localhost:8080/",
          "height": 402
        },
        "id": "KugrzZyfl6fr",
        "outputId": "bba03744-aae9-40e7-b586-ff6e2edfe0ad"
      },
      "source": [
        "df"
      ],
      "execution_count": 103,
      "outputs": [
        {
          "output_type": "execute_result",
          "data": {
            "text/html": [
              "<div>\n",
              "<style scoped>\n",
              "    .dataframe tbody tr th:only-of-type {\n",
              "        vertical-align: middle;\n",
              "    }\n",
              "\n",
              "    .dataframe tbody tr th {\n",
              "        vertical-align: top;\n",
              "    }\n",
              "\n",
              "    .dataframe thead th {\n",
              "        text-align: right;\n",
              "    }\n",
              "</style>\n",
              "<table border=\"1\" class=\"dataframe\">\n",
              "  <thead>\n",
              "    <tr style=\"text-align: right;\">\n",
              "      <th></th>\n",
              "      <th>Technologies</th>\n",
              "      <th>Jobs</th>\n",
              "    </tr>\n",
              "  </thead>\n",
              "  <tbody>\n",
              "    <tr>\n",
              "      <th>0</th>\n",
              "      <td>C</td>\n",
              "      <td>184</td>\n",
              "    </tr>\n",
              "    <tr>\n",
              "      <th>1</th>\n",
              "      <td>C#</td>\n",
              "      <td>12</td>\n",
              "    </tr>\n",
              "    <tr>\n",
              "      <th>2</th>\n",
              "      <td>C++</td>\n",
              "      <td>184</td>\n",
              "    </tr>\n",
              "    <tr>\n",
              "      <th>3</th>\n",
              "      <td>Java</td>\n",
              "      <td>112</td>\n",
              "    </tr>\n",
              "    <tr>\n",
              "      <th>4</th>\n",
              "      <td>JavaScript</td>\n",
              "      <td>42</td>\n",
              "    </tr>\n",
              "    <tr>\n",
              "      <th>5</th>\n",
              "      <td>Python</td>\n",
              "      <td>31</td>\n",
              "    </tr>\n",
              "    <tr>\n",
              "      <th>6</th>\n",
              "      <td>Scala</td>\n",
              "      <td>32</td>\n",
              "    </tr>\n",
              "    <tr>\n",
              "      <th>7</th>\n",
              "      <td>Oracle</td>\n",
              "      <td>2</td>\n",
              "    </tr>\n",
              "    <tr>\n",
              "      <th>8</th>\n",
              "      <td>SQL Server</td>\n",
              "      <td>12</td>\n",
              "    </tr>\n",
              "    <tr>\n",
              "      <th>9</th>\n",
              "      <td>MySQL Server</td>\n",
              "      <td>3</td>\n",
              "    </tr>\n",
              "    <tr>\n",
              "      <th>10</th>\n",
              "      <td>PostgreSQL</td>\n",
              "      <td>12</td>\n",
              "    </tr>\n",
              "    <tr>\n",
              "      <th>11</th>\n",
              "      <td>MongoDB</td>\n",
              "      <td>8</td>\n",
              "    </tr>\n",
              "  </tbody>\n",
              "</table>\n",
              "</div>"
            ],
            "text/plain": [
              "    Technologies  Jobs\n",
              "0              C   184\n",
              "1             C#    12\n",
              "2            C++   184\n",
              "3           Java   112\n",
              "4     JavaScript    42\n",
              "5         Python    31\n",
              "6          Scala    32\n",
              "7         Oracle     2\n",
              "8     SQL Server    12\n",
              "9   MySQL Server     3\n",
              "10    PostgreSQL    12\n",
              "11       MongoDB     8"
            ]
          },
          "metadata": {
            "tags": []
          },
          "execution_count": 103
        }
      ]
    },
    {
      "cell_type": "code",
      "metadata": {
        "id": "jHF7xd2pmBeD"
      },
      "source": [
        ""
      ],
      "execution_count": null,
      "outputs": []
    }
  ]
}
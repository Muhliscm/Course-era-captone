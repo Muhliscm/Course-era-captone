{
  "nbformat": 4,
  "nbformat_minor": 0,
  "metadata": {
    "colab": {
      "name": "Collecting data using APIs",
      "provenance": [],
      "authorship_tag": "ABX9TyMrX8pBiFoUGghsg0c4uAxY",
      "include_colab_link": true
    },
    "kernelspec": {
      "name": "python3",
      "display_name": "Python 3"
    }
  },
  "cells": [
    {
      "cell_type": "markdown",
      "metadata": {
        "id": "view-in-github",
        "colab_type": "text"
      },
      "source": [
        "<a href=\"https://colab.research.google.com/github/Muhliscm/Course-era-captone/blob/master/Collecting_data_using_APIs.ipynb\" target=\"_parent\"><img src=\"https://colab.research.google.com/assets/colab-badge.svg\" alt=\"Open In Colab\"/></a>"
      ]
    },
    {
      "cell_type": "code",
      "metadata": {
        "id": "5ufaEv9-9plE"
      },
      "source": [
        "import requests"
      ],
      "execution_count": null,
      "outputs": []
    },
    {
      "cell_type": "code",
      "metadata": {
        "id": "SCV5urXC__nb"
      },
      "source": [
        "#finding no of people on international space station\r\n",
        "api_url = \"http://api.open-notify.org/astros.json\""
      ],
      "execution_count": null,
      "outputs": []
    },
    {
      "cell_type": "code",
      "metadata": {
        "id": "6EJ4roDYAEQl"
      },
      "source": [
        "response = requests.get(api_url)"
      ],
      "execution_count": null,
      "outputs": []
    },
    {
      "cell_type": "code",
      "metadata": {
        "id": "S1zG-Ua-AK4y"
      },
      "source": [
        "if response.ok:\r\n",
        "  data = response.json()"
      ],
      "execution_count": null,
      "outputs": []
    },
    {
      "cell_type": "code",
      "metadata": {
        "colab": {
          "base_uri": "https://localhost:8080/"
        },
        "id": "mEaSlPjVAcnT",
        "outputId": "970bfa0f-1396-45a5-9aa9-0d574a4bf909"
      },
      "source": [
        "print(data)"
      ],
      "execution_count": null,
      "outputs": [
        {
          "output_type": "stream",
          "text": [
            "{'message': 'success', 'number': 7, 'people': [{'craft': 'ISS', 'name': 'Sergey Ryzhikov'}, {'craft': 'ISS', 'name': 'Kate Rubins'}, {'craft': 'ISS', 'name': 'Sergey Kud-Sverchkov'}, {'craft': 'ISS', 'name': 'Mike Hopkins'}, {'craft': 'ISS', 'name': 'Victor Glover'}, {'craft': 'ISS', 'name': 'Shannon Walker'}, {'craft': 'ISS', 'name': 'Soichi Noguchi'}]}\n"
          ],
          "name": "stdout"
        }
      ]
    },
    {
      "cell_type": "code",
      "metadata": {
        "colab": {
          "base_uri": "https://localhost:8080/"
        },
        "id": "yqUgpm3hAevB",
        "outputId": "5b401514-25d2-469f-98eb-19a2338a3799"
      },
      "source": [
        "print(data.get('number'))"
      ],
      "execution_count": null,
      "outputs": [
        {
          "output_type": "stream",
          "text": [
            "7\n"
          ],
          "name": "stdout"
        }
      ]
    },
    {
      "cell_type": "code",
      "metadata": {
        "id": "ekFFRc3FA6RI",
        "colab": {
          "base_uri": "https://localhost:8080/"
        },
        "outputId": "e21c6e77-2d5a-4f5d-ffbc-b2e4439f9418"
      },
      "source": [
        "astronauts = data.get('people')\r\n",
        "print(\"There are {} astronauts on ISS\".format(len(astronauts)))\r\n",
        "print(\"And Their names are: \")\r\n",
        "for astronaut in astronauts:\r\n",
        "  print(astronaut.get('name'))"
      ],
      "execution_count": null,
      "outputs": [
        {
          "output_type": "stream",
          "text": [
            "There are 7 astronauts on ISS\n",
            "And Their names are: \n",
            "Sergey Ryzhikov\n",
            "Kate Rubins\n",
            "Sergey Kud-Sverchkov\n",
            "Mike Hopkins\n",
            "Victor Glover\n",
            "Shannon Walker\n",
            "Soichi Noguchi\n"
          ],
          "name": "stdout"
        }
      ]
    },
    {
      "cell_type": "markdown",
      "metadata": {
        "id": "xWICgklg2gZI"
      },
      "source": [
        "###**Collecting job Data using gitHub jobs API**"
      ]
    },
    {
      "cell_type": "code",
      "metadata": {
        "id": "T4j-nBGL8QGR"
      },
      "source": [
        "import requests"
      ],
      "execution_count": null,
      "outputs": []
    },
    {
      "cell_type": "code",
      "metadata": {
        "id": "kphYKkh6Fxxc"
      },
      "source": [
        ""
      ],
      "execution_count": null,
      "outputs": []
    },
    {
      "cell_type": "code",
      "metadata": {
        "id": "dlkh1nTU3NKA"
      },
      "source": [
        "baseurl = \"http://jobs.github.com/positions.json\""
      ],
      "execution_count": 72,
      "outputs": []
    },
    {
      "cell_type": "code",
      "metadata": {
        "id": "eX5Oa8s58Yrl"
      },
      "source": [
        "new = baseurl+\"?description=\"+technology"
      ],
      "execution_count": 75,
      "outputs": []
    },
    {
      "cell_type": "code",
      "metadata": {
        "colab": {
          "base_uri": "https://localhost:8080/",
          "height": 35
        },
        "id": "rqZ2TJzoG4Mz",
        "outputId": "8f1676c0-3ca1-4f3c-dee1-b801110963d0"
      },
      "source": [
        "new"
      ],
      "execution_count": 76,
      "outputs": [
        {
          "output_type": "execute_result",
          "data": {
            "application/vnd.google.colaboratory.intrinsic+json": {
              "type": "string"
            },
            "text/plain": [
              "'http://jobs.github.com/positions.json?description=python'"
            ]
          },
          "metadata": {
            "tags": []
          },
          "execution_count": 76
        }
      ]
    },
    {
      "cell_type": "code",
      "metadata": {
        "colab": {
          "base_uri": "https://localhost:8080/"
        },
        "id": "kw0pStwt-EDB",
        "outputId": "ca338e35-2ee8-4fb9-d79b-a0b74b09930e"
      },
      "source": [
        "response.headers"
      ],
      "execution_count": 29,
      "outputs": [
        {
          "output_type": "execute_result",
          "data": {
            "text/plain": [
              "{'Server': 'nginx/1.15.12', 'Date': 'Fri, 08 Jan 2021 17:03:33 GMT', 'Content-Type': 'application/json; charset=utf-8', 'Transfer-Encoding': 'chunked', 'X-Frame-Options': 'SAMEORIGIN', 'X-XSS-Protection': '1; mode=block', 'X-Content-Type-Options': 'nosniff', 'X-Download-Options': 'noopen', 'X-Permitted-Cross-Domain-Policies': 'none', 'Referrer-Policy': 'strict-origin-when-cross-origin', 'ETag': 'W/\"b7d4448499615ac31be4588c9eae8e1e\"', 'Cache-Control': 'max-age=0, private, must-revalidate', 'X-Request-Id': '64607c2d-c432-4452-bfd0-6ac3726fa4cc', 'X-Runtime': '0.477717', 'Strict-Transport-Security': 'max-age=31536000', 'X-GitHub-Backend': 'Kubernetes', 'X-GitHub-Request-Id': 'AF6C:641A:F5CE:1D99F:5FF89064'}"
            ]
          },
          "metadata": {
            "tags": []
          },
          "execution_count": 29
        }
      ]
    },
    {
      "cell_type": "code",
      "metadata": {
        "id": "YKL9-hK5HFR9"
      },
      "source": [
        "response = requests.get(new)"
      ],
      "execution_count": 77,
      "outputs": []
    },
    {
      "cell_type": "code",
      "metadata": {
        "id": "yi7Ecdzp8hfs"
      },
      "source": [
        "if response.ok:\r\n",
        "  data = response.json()"
      ],
      "execution_count": 78,
      "outputs": []
    },
    {
      "cell_type": "code",
      "metadata": {
        "colab": {
          "base_uri": "https://localhost:8080/"
        },
        "id": "7AFuOZYvBzBz",
        "outputId": "885123d8-c20f-4792-d480-e76fc045ad6c"
      },
      "source": [
        "print(len(data))"
      ],
      "execution_count": 79,
      "outputs": [
        {
          "output_type": "stream",
          "text": [
            "34\n"
          ],
          "name": "stdout"
        }
      ]
    },
    {
      "cell_type": "code",
      "metadata": {
        "id": "Bt-K3_QgDKPZ"
      },
      "source": [
        "response = requests.get(baseurl)\r\n",
        "  "
      ],
      "execution_count": 63,
      "outputs": []
    },
    {
      "cell_type": "code",
      "metadata": {
        "id": "gLPqhVCJ6qsh"
      },
      "source": [
        "def get_number_of_jobs(technology):\r\n",
        "  \r\n",
        "  number_of_jobs = 0\r\n",
        "  #your code goes here\r\n",
        "  #url = f\"{baseurl}?description={technology}\"\r\n",
        "  url = baseurl+\"?description=\"+technology\r\n",
        "  response = requests.get(url)\r\n",
        "  \r\n",
        "  if response.ok:\r\n",
        "    data = response.json()\r\n",
        "    number_of_jobs += len(data)\r\n",
        "\r\n",
        "  return technology, number_of_jobs"
      ],
      "execution_count": 85,
      "outputs": []
    },
    {
      "cell_type": "code",
      "metadata": {
        "colab": {
          "base_uri": "https://localhost:8080/"
        },
        "id": "xq492p7E7ffi",
        "outputId": "5c8670aa-5a97-491c-fcf0-7bf00ccdb1b1"
      },
      "source": [
        "print(get_number_of_jobs('python'))"
      ],
      "execution_count": 86,
      "outputs": [
        {
          "output_type": "stream",
          "text": [
            "('python', 34)\n"
          ],
          "name": "stdout"
        }
      ]
    },
    {
      "cell_type": "code",
      "metadata": {
        "id": "ooJidE7h70vR"
      },
      "source": [
        "|"
      ],
      "execution_count": null,
      "outputs": []
    }
  ]
}
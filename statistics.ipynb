{
  "nbformat": 4,
  "nbformat_minor": 0,
  "metadata": {
    "colab": {
      "name": "statistics",
      "provenance": [],
      "authorship_tag": "ABX9TyPOyxvsS82Ala4T4U8nmd5x",
      "include_colab_link": true
    },
    "kernelspec": {
      "name": "python3",
      "display_name": "Python 3"
    }
  },
  "cells": [
    {
      "cell_type": "markdown",
      "metadata": {
        "id": "view-in-github",
        "colab_type": "text"
      },
      "source": [
        "<a href=\"https://colab.research.google.com/github/Muhliscm/Course-era-captone/blob/master/statistics.ipynb\" target=\"_parent\"><img src=\"https://colab.research.google.com/assets/colab-badge.svg\" alt=\"Open In Colab\"/></a>"
      ]
    },
    {
      "cell_type": "code",
      "metadata": {
        "id": "6wILkLqaz1Zi"
      },
      "source": [
        "import pandas as pd\r\n",
        "import numpy as np\r\n",
        "import matplotlib.pyplot as plt"
      ],
      "execution_count": 1,
      "outputs": []
    },
    {
      "cell_type": "code",
      "metadata": {
        "id": "OyD3xRVK0Fws"
      },
      "source": [
        "ratings_url = 'https://cf-courses-data.s3.us.cloud-object-storage.appdomain.cloud/IBMDeveloperSkillsNetwork-ST0151EN-SkillsNetwork/labs/teachingratings.csv'\r\n",
        "ratings_df=pd.read_csv(ratings_url)"
      ],
      "execution_count": 2,
      "outputs": []
    },
    {
      "cell_type": "code",
      "metadata": {
        "colab": {
          "base_uri": "https://localhost:8080/",
          "height": 215
        },
        "id": "qV8Q8qu40I9A",
        "outputId": "39f631a6-0c4a-4152-b3d3-5dadd7dde310"
      },
      "source": [
        "ratings_df.head()"
      ],
      "execution_count": 3,
      "outputs": [
        {
          "output_type": "execute_result",
          "data": {
            "text/html": [
              "<div>\n",
              "<style scoped>\n",
              "    .dataframe tbody tr th:only-of-type {\n",
              "        vertical-align: middle;\n",
              "    }\n",
              "\n",
              "    .dataframe tbody tr th {\n",
              "        vertical-align: top;\n",
              "    }\n",
              "\n",
              "    .dataframe thead th {\n",
              "        text-align: right;\n",
              "    }\n",
              "</style>\n",
              "<table border=\"1\" class=\"dataframe\">\n",
              "  <thead>\n",
              "    <tr style=\"text-align: right;\">\n",
              "      <th></th>\n",
              "      <th>minority</th>\n",
              "      <th>age</th>\n",
              "      <th>gender</th>\n",
              "      <th>credits</th>\n",
              "      <th>beauty</th>\n",
              "      <th>eval</th>\n",
              "      <th>division</th>\n",
              "      <th>native</th>\n",
              "      <th>tenure</th>\n",
              "      <th>students</th>\n",
              "      <th>allstudents</th>\n",
              "      <th>prof</th>\n",
              "      <th>PrimaryLast</th>\n",
              "      <th>vismin</th>\n",
              "      <th>female</th>\n",
              "      <th>single_credit</th>\n",
              "      <th>upper_division</th>\n",
              "      <th>English_speaker</th>\n",
              "      <th>tenured_prof</th>\n",
              "    </tr>\n",
              "  </thead>\n",
              "  <tbody>\n",
              "    <tr>\n",
              "      <th>0</th>\n",
              "      <td>yes</td>\n",
              "      <td>36</td>\n",
              "      <td>female</td>\n",
              "      <td>more</td>\n",
              "      <td>0.289916</td>\n",
              "      <td>4.3</td>\n",
              "      <td>upper</td>\n",
              "      <td>yes</td>\n",
              "      <td>yes</td>\n",
              "      <td>24</td>\n",
              "      <td>43</td>\n",
              "      <td>1</td>\n",
              "      <td>0</td>\n",
              "      <td>1</td>\n",
              "      <td>1</td>\n",
              "      <td>0</td>\n",
              "      <td>1</td>\n",
              "      <td>1</td>\n",
              "      <td>1</td>\n",
              "    </tr>\n",
              "    <tr>\n",
              "      <th>1</th>\n",
              "      <td>yes</td>\n",
              "      <td>36</td>\n",
              "      <td>female</td>\n",
              "      <td>more</td>\n",
              "      <td>0.289916</td>\n",
              "      <td>3.7</td>\n",
              "      <td>upper</td>\n",
              "      <td>yes</td>\n",
              "      <td>yes</td>\n",
              "      <td>86</td>\n",
              "      <td>125</td>\n",
              "      <td>1</td>\n",
              "      <td>0</td>\n",
              "      <td>1</td>\n",
              "      <td>1</td>\n",
              "      <td>0</td>\n",
              "      <td>1</td>\n",
              "      <td>1</td>\n",
              "      <td>1</td>\n",
              "    </tr>\n",
              "    <tr>\n",
              "      <th>2</th>\n",
              "      <td>yes</td>\n",
              "      <td>36</td>\n",
              "      <td>female</td>\n",
              "      <td>more</td>\n",
              "      <td>0.289916</td>\n",
              "      <td>3.6</td>\n",
              "      <td>upper</td>\n",
              "      <td>yes</td>\n",
              "      <td>yes</td>\n",
              "      <td>76</td>\n",
              "      <td>125</td>\n",
              "      <td>1</td>\n",
              "      <td>0</td>\n",
              "      <td>1</td>\n",
              "      <td>1</td>\n",
              "      <td>0</td>\n",
              "      <td>1</td>\n",
              "      <td>1</td>\n",
              "      <td>1</td>\n",
              "    </tr>\n",
              "    <tr>\n",
              "      <th>3</th>\n",
              "      <td>yes</td>\n",
              "      <td>36</td>\n",
              "      <td>female</td>\n",
              "      <td>more</td>\n",
              "      <td>0.289916</td>\n",
              "      <td>4.4</td>\n",
              "      <td>upper</td>\n",
              "      <td>yes</td>\n",
              "      <td>yes</td>\n",
              "      <td>77</td>\n",
              "      <td>123</td>\n",
              "      <td>1</td>\n",
              "      <td>1</td>\n",
              "      <td>1</td>\n",
              "      <td>1</td>\n",
              "      <td>0</td>\n",
              "      <td>1</td>\n",
              "      <td>1</td>\n",
              "      <td>1</td>\n",
              "    </tr>\n",
              "    <tr>\n",
              "      <th>4</th>\n",
              "      <td>no</td>\n",
              "      <td>59</td>\n",
              "      <td>male</td>\n",
              "      <td>more</td>\n",
              "      <td>-0.737732</td>\n",
              "      <td>4.5</td>\n",
              "      <td>upper</td>\n",
              "      <td>yes</td>\n",
              "      <td>yes</td>\n",
              "      <td>17</td>\n",
              "      <td>20</td>\n",
              "      <td>2</td>\n",
              "      <td>0</td>\n",
              "      <td>0</td>\n",
              "      <td>0</td>\n",
              "      <td>0</td>\n",
              "      <td>1</td>\n",
              "      <td>1</td>\n",
              "      <td>1</td>\n",
              "    </tr>\n",
              "  </tbody>\n",
              "</table>\n",
              "</div>"
            ],
            "text/plain": [
              "  minority  age  gender  ... upper_division  English_speaker  tenured_prof\n",
              "0      yes   36  female  ...              1                1             1\n",
              "1      yes   36  female  ...              1                1             1\n",
              "2      yes   36  female  ...              1                1             1\n",
              "3      yes   36  female  ...              1                1             1\n",
              "4       no   59    male  ...              1                1             1\n",
              "\n",
              "[5 rows x 19 columns]"
            ]
          },
          "metadata": {
            "tags": []
          },
          "execution_count": 3
        }
      ]
    },
    {
      "cell_type": "code",
      "metadata": {
        "colab": {
          "base_uri": "https://localhost:8080/"
        },
        "id": "Ix_IKkIB0Vi4",
        "outputId": "99a75820-1ccc-431d-e0c6-ed75cc37c9eb"
      },
      "source": [
        "ratings_df.info()"
      ],
      "execution_count": 4,
      "outputs": [
        {
          "output_type": "stream",
          "text": [
            "<class 'pandas.core.frame.DataFrame'>\n",
            "RangeIndex: 463 entries, 0 to 462\n",
            "Data columns (total 19 columns):\n",
            " #   Column           Non-Null Count  Dtype  \n",
            "---  ------           --------------  -----  \n",
            " 0   minority         463 non-null    object \n",
            " 1   age              463 non-null    int64  \n",
            " 2   gender           463 non-null    object \n",
            " 3   credits          463 non-null    object \n",
            " 4   beauty           463 non-null    float64\n",
            " 5   eval             463 non-null    float64\n",
            " 6   division         463 non-null    object \n",
            " 7   native           463 non-null    object \n",
            " 8   tenure           463 non-null    object \n",
            " 9   students         463 non-null    int64  \n",
            " 10  allstudents      463 non-null    int64  \n",
            " 11  prof             463 non-null    int64  \n",
            " 12  PrimaryLast      463 non-null    int64  \n",
            " 13  vismin           463 non-null    int64  \n",
            " 14  female           463 non-null    int64  \n",
            " 15  single_credit    463 non-null    int64  \n",
            " 16  upper_division   463 non-null    int64  \n",
            " 17  English_speaker  463 non-null    int64  \n",
            " 18  tenured_prof     463 non-null    int64  \n",
            "dtypes: float64(2), int64(11), object(6)\n",
            "memory usage: 68.9+ KB\n"
          ],
          "name": "stdout"
        }
      ]
    },
    {
      "cell_type": "code",
      "metadata": {
        "colab": {
          "base_uri": "https://localhost:8080/"
        },
        "id": "b5lMLdLW0Zd4",
        "outputId": "97e39b56-cc9c-461f-95f8-a3f614f687e9"
      },
      "source": [
        "ratings_df.shape"
      ],
      "execution_count": 5,
      "outputs": [
        {
          "output_type": "execute_result",
          "data": {
            "text/plain": [
              "(463, 19)"
            ]
          },
          "metadata": {
            "tags": []
          },
          "execution_count": 5
        }
      ]
    },
    {
      "cell_type": "code",
      "metadata": {
        "colab": {
          "base_uri": "https://localhost:8080/"
        },
        "id": "i4QmUGeI0eLr",
        "outputId": "30c21954-425a-403a-96e5-7f867ba5ec62"
      },
      "source": [
        "ratings_df['students'].mean()"
      ],
      "execution_count": 6,
      "outputs": [
        {
          "output_type": "execute_result",
          "data": {
            "text/plain": [
              "36.62419006479482"
            ]
          },
          "metadata": {
            "tags": []
          },
          "execution_count": 6
        }
      ]
    },
    {
      "cell_type": "code",
      "metadata": {
        "colab": {
          "base_uri": "https://localhost:8080/"
        },
        "id": "GgU9d5xF0xOb",
        "outputId": "6c68ed40-b894-4dc5-f47b-0ee7b984017c"
      },
      "source": [
        "ratings_df['students'].median()"
      ],
      "execution_count": 7,
      "outputs": [
        {
          "output_type": "execute_result",
          "data": {
            "text/plain": [
              "23.0"
            ]
          },
          "metadata": {
            "tags": []
          },
          "execution_count": 7
        }
      ]
    },
    {
      "cell_type": "code",
      "metadata": {
        "colab": {
          "base_uri": "https://localhost:8080/"
        },
        "id": "EQIsFpl505Yt",
        "outputId": "3cdaa4a9-23e8-4e9e-82fb-5fa26429ecff"
      },
      "source": [
        "ratings_df['students'].min()"
      ],
      "execution_count": 8,
      "outputs": [
        {
          "output_type": "execute_result",
          "data": {
            "text/plain": [
              "5"
            ]
          },
          "metadata": {
            "tags": []
          },
          "execution_count": 8
        }
      ]
    },
    {
      "cell_type": "code",
      "metadata": {
        "colab": {
          "base_uri": "https://localhost:8080/"
        },
        "id": "0X1xWqWb0__L",
        "outputId": "cfbf10c9-f6fd-429d-b1c4-7337e5e9fd89"
      },
      "source": [
        "ratings_df['students'].max()"
      ],
      "execution_count": 9,
      "outputs": [
        {
          "output_type": "execute_result",
          "data": {
            "text/plain": [
              "380"
            ]
          },
          "metadata": {
            "tags": []
          },
          "execution_count": 9
        }
      ]
    },
    {
      "cell_type": "code",
      "metadata": {
        "colab": {
          "base_uri": "https://localhost:8080/",
          "height": 393
        },
        "id": "-VlKE2ss1DjK",
        "outputId": "36aa6315-7870-4bdb-c9d5-ea076c093536"
      },
      "source": [
        "ratings_df.describe(include='all')"
      ],
      "execution_count": 10,
      "outputs": [
        {
          "output_type": "execute_result",
          "data": {
            "text/html": [
              "<div>\n",
              "<style scoped>\n",
              "    .dataframe tbody tr th:only-of-type {\n",
              "        vertical-align: middle;\n",
              "    }\n",
              "\n",
              "    .dataframe tbody tr th {\n",
              "        vertical-align: top;\n",
              "    }\n",
              "\n",
              "    .dataframe thead th {\n",
              "        text-align: right;\n",
              "    }\n",
              "</style>\n",
              "<table border=\"1\" class=\"dataframe\">\n",
              "  <thead>\n",
              "    <tr style=\"text-align: right;\">\n",
              "      <th></th>\n",
              "      <th>minority</th>\n",
              "      <th>age</th>\n",
              "      <th>gender</th>\n",
              "      <th>credits</th>\n",
              "      <th>beauty</th>\n",
              "      <th>eval</th>\n",
              "      <th>division</th>\n",
              "      <th>native</th>\n",
              "      <th>tenure</th>\n",
              "      <th>students</th>\n",
              "      <th>allstudents</th>\n",
              "      <th>prof</th>\n",
              "      <th>PrimaryLast</th>\n",
              "      <th>vismin</th>\n",
              "      <th>female</th>\n",
              "      <th>single_credit</th>\n",
              "      <th>upper_division</th>\n",
              "      <th>English_speaker</th>\n",
              "      <th>tenured_prof</th>\n",
              "    </tr>\n",
              "  </thead>\n",
              "  <tbody>\n",
              "    <tr>\n",
              "      <th>count</th>\n",
              "      <td>463</td>\n",
              "      <td>463.000000</td>\n",
              "      <td>463</td>\n",
              "      <td>463</td>\n",
              "      <td>4.630000e+02</td>\n",
              "      <td>463.000000</td>\n",
              "      <td>463</td>\n",
              "      <td>463</td>\n",
              "      <td>463</td>\n",
              "      <td>463.000000</td>\n",
              "      <td>463.000000</td>\n",
              "      <td>463.000000</td>\n",
              "      <td>463.000000</td>\n",
              "      <td>463.000000</td>\n",
              "      <td>463.000000</td>\n",
              "      <td>463.000000</td>\n",
              "      <td>463.000000</td>\n",
              "      <td>463.000000</td>\n",
              "      <td>463.000000</td>\n",
              "    </tr>\n",
              "    <tr>\n",
              "      <th>unique</th>\n",
              "      <td>2</td>\n",
              "      <td>NaN</td>\n",
              "      <td>2</td>\n",
              "      <td>2</td>\n",
              "      <td>NaN</td>\n",
              "      <td>NaN</td>\n",
              "      <td>2</td>\n",
              "      <td>2</td>\n",
              "      <td>2</td>\n",
              "      <td>NaN</td>\n",
              "      <td>NaN</td>\n",
              "      <td>NaN</td>\n",
              "      <td>NaN</td>\n",
              "      <td>NaN</td>\n",
              "      <td>NaN</td>\n",
              "      <td>NaN</td>\n",
              "      <td>NaN</td>\n",
              "      <td>NaN</td>\n",
              "      <td>NaN</td>\n",
              "    </tr>\n",
              "    <tr>\n",
              "      <th>top</th>\n",
              "      <td>no</td>\n",
              "      <td>NaN</td>\n",
              "      <td>male</td>\n",
              "      <td>more</td>\n",
              "      <td>NaN</td>\n",
              "      <td>NaN</td>\n",
              "      <td>upper</td>\n",
              "      <td>yes</td>\n",
              "      <td>yes</td>\n",
              "      <td>NaN</td>\n",
              "      <td>NaN</td>\n",
              "      <td>NaN</td>\n",
              "      <td>NaN</td>\n",
              "      <td>NaN</td>\n",
              "      <td>NaN</td>\n",
              "      <td>NaN</td>\n",
              "      <td>NaN</td>\n",
              "      <td>NaN</td>\n",
              "      <td>NaN</td>\n",
              "    </tr>\n",
              "    <tr>\n",
              "      <th>freq</th>\n",
              "      <td>399</td>\n",
              "      <td>NaN</td>\n",
              "      <td>268</td>\n",
              "      <td>436</td>\n",
              "      <td>NaN</td>\n",
              "      <td>NaN</td>\n",
              "      <td>306</td>\n",
              "      <td>435</td>\n",
              "      <td>361</td>\n",
              "      <td>NaN</td>\n",
              "      <td>NaN</td>\n",
              "      <td>NaN</td>\n",
              "      <td>NaN</td>\n",
              "      <td>NaN</td>\n",
              "      <td>NaN</td>\n",
              "      <td>NaN</td>\n",
              "      <td>NaN</td>\n",
              "      <td>NaN</td>\n",
              "      <td>NaN</td>\n",
              "    </tr>\n",
              "    <tr>\n",
              "      <th>mean</th>\n",
              "      <td>NaN</td>\n",
              "      <td>48.365011</td>\n",
              "      <td>NaN</td>\n",
              "      <td>NaN</td>\n",
              "      <td>6.271140e-08</td>\n",
              "      <td>3.998272</td>\n",
              "      <td>NaN</td>\n",
              "      <td>NaN</td>\n",
              "      <td>NaN</td>\n",
              "      <td>36.624190</td>\n",
              "      <td>55.177106</td>\n",
              "      <td>45.434125</td>\n",
              "      <td>0.203024</td>\n",
              "      <td>0.138229</td>\n",
              "      <td>0.421166</td>\n",
              "      <td>0.058315</td>\n",
              "      <td>0.660907</td>\n",
              "      <td>0.939525</td>\n",
              "      <td>0.779698</td>\n",
              "    </tr>\n",
              "    <tr>\n",
              "      <th>std</th>\n",
              "      <td>NaN</td>\n",
              "      <td>9.802742</td>\n",
              "      <td>NaN</td>\n",
              "      <td>NaN</td>\n",
              "      <td>7.886477e-01</td>\n",
              "      <td>0.554866</td>\n",
              "      <td>NaN</td>\n",
              "      <td>NaN</td>\n",
              "      <td>NaN</td>\n",
              "      <td>45.018481</td>\n",
              "      <td>75.072800</td>\n",
              "      <td>27.508902</td>\n",
              "      <td>0.402685</td>\n",
              "      <td>0.345513</td>\n",
              "      <td>0.494280</td>\n",
              "      <td>0.234592</td>\n",
              "      <td>0.473913</td>\n",
              "      <td>0.238623</td>\n",
              "      <td>0.414899</td>\n",
              "    </tr>\n",
              "    <tr>\n",
              "      <th>min</th>\n",
              "      <td>NaN</td>\n",
              "      <td>29.000000</td>\n",
              "      <td>NaN</td>\n",
              "      <td>NaN</td>\n",
              "      <td>-1.450494e+00</td>\n",
              "      <td>2.100000</td>\n",
              "      <td>NaN</td>\n",
              "      <td>NaN</td>\n",
              "      <td>NaN</td>\n",
              "      <td>5.000000</td>\n",
              "      <td>8.000000</td>\n",
              "      <td>1.000000</td>\n",
              "      <td>0.000000</td>\n",
              "      <td>0.000000</td>\n",
              "      <td>0.000000</td>\n",
              "      <td>0.000000</td>\n",
              "      <td>0.000000</td>\n",
              "      <td>0.000000</td>\n",
              "      <td>0.000000</td>\n",
              "    </tr>\n",
              "    <tr>\n",
              "      <th>25%</th>\n",
              "      <td>NaN</td>\n",
              "      <td>42.000000</td>\n",
              "      <td>NaN</td>\n",
              "      <td>NaN</td>\n",
              "      <td>-6.562689e-01</td>\n",
              "      <td>3.600000</td>\n",
              "      <td>NaN</td>\n",
              "      <td>NaN</td>\n",
              "      <td>NaN</td>\n",
              "      <td>15.000000</td>\n",
              "      <td>19.000000</td>\n",
              "      <td>20.000000</td>\n",
              "      <td>0.000000</td>\n",
              "      <td>0.000000</td>\n",
              "      <td>0.000000</td>\n",
              "      <td>0.000000</td>\n",
              "      <td>0.000000</td>\n",
              "      <td>1.000000</td>\n",
              "      <td>1.000000</td>\n",
              "    </tr>\n",
              "    <tr>\n",
              "      <th>50%</th>\n",
              "      <td>NaN</td>\n",
              "      <td>48.000000</td>\n",
              "      <td>NaN</td>\n",
              "      <td>NaN</td>\n",
              "      <td>-6.801430e-02</td>\n",
              "      <td>4.000000</td>\n",
              "      <td>NaN</td>\n",
              "      <td>NaN</td>\n",
              "      <td>NaN</td>\n",
              "      <td>23.000000</td>\n",
              "      <td>29.000000</td>\n",
              "      <td>44.000000</td>\n",
              "      <td>0.000000</td>\n",
              "      <td>0.000000</td>\n",
              "      <td>0.000000</td>\n",
              "      <td>0.000000</td>\n",
              "      <td>1.000000</td>\n",
              "      <td>1.000000</td>\n",
              "      <td>1.000000</td>\n",
              "    </tr>\n",
              "    <tr>\n",
              "      <th>75%</th>\n",
              "      <td>NaN</td>\n",
              "      <td>57.000000</td>\n",
              "      <td>NaN</td>\n",
              "      <td>NaN</td>\n",
              "      <td>5.456024e-01</td>\n",
              "      <td>4.400000</td>\n",
              "      <td>NaN</td>\n",
              "      <td>NaN</td>\n",
              "      <td>NaN</td>\n",
              "      <td>40.000000</td>\n",
              "      <td>60.000000</td>\n",
              "      <td>70.500000</td>\n",
              "      <td>0.000000</td>\n",
              "      <td>0.000000</td>\n",
              "      <td>1.000000</td>\n",
              "      <td>0.000000</td>\n",
              "      <td>1.000000</td>\n",
              "      <td>1.000000</td>\n",
              "      <td>1.000000</td>\n",
              "    </tr>\n",
              "    <tr>\n",
              "      <th>max</th>\n",
              "      <td>NaN</td>\n",
              "      <td>73.000000</td>\n",
              "      <td>NaN</td>\n",
              "      <td>NaN</td>\n",
              "      <td>1.970023e+00</td>\n",
              "      <td>5.000000</td>\n",
              "      <td>NaN</td>\n",
              "      <td>NaN</td>\n",
              "      <td>NaN</td>\n",
              "      <td>380.000000</td>\n",
              "      <td>581.000000</td>\n",
              "      <td>94.000000</td>\n",
              "      <td>1.000000</td>\n",
              "      <td>1.000000</td>\n",
              "      <td>1.000000</td>\n",
              "      <td>1.000000</td>\n",
              "      <td>1.000000</td>\n",
              "      <td>1.000000</td>\n",
              "      <td>1.000000</td>\n",
              "    </tr>\n",
              "  </tbody>\n",
              "</table>\n",
              "</div>"
            ],
            "text/plain": [
              "       minority         age  ... English_speaker tenured_prof\n",
              "count       463  463.000000  ...      463.000000   463.000000\n",
              "unique        2         NaN  ...             NaN          NaN\n",
              "top          no         NaN  ...             NaN          NaN\n",
              "freq        399         NaN  ...             NaN          NaN\n",
              "mean        NaN   48.365011  ...        0.939525     0.779698\n",
              "std         NaN    9.802742  ...        0.238623     0.414899\n",
              "min         NaN   29.000000  ...        0.000000     0.000000\n",
              "25%         NaN   42.000000  ...        1.000000     1.000000\n",
              "50%         NaN   48.000000  ...        1.000000     1.000000\n",
              "75%         NaN   57.000000  ...        1.000000     1.000000\n",
              "max         NaN   73.000000  ...        1.000000     1.000000\n",
              "\n",
              "[11 rows x 19 columns]"
            ]
          },
          "metadata": {
            "tags": []
          },
          "execution_count": 10
        }
      ]
    },
    {
      "cell_type": "code",
      "metadata": {
        "colab": {
          "base_uri": "https://localhost:8080/",
          "height": 265
        },
        "id": "ZeK_CIBW1Hsw",
        "outputId": "119c7b5a-ee90-48fc-a86e-517118c2a9cf"
      },
      "source": [
        "plt.hist(ratings_df['beauty'])\r\n",
        "plt.show()"
      ],
      "execution_count": 11,
      "outputs": [
        {
          "output_type": "display_data",
          "data": {
            "image/png": "[encoded data removed]",
            "text/plain": [
              "<Figure size 432x288 with 1 Axes>"
            ]
          },
          "metadata": {
            "tags": [],
            "needs_background": "light"
          }
        }
      ]
    },
    {
      "cell_type": "code",
      "metadata": {
        "colab": {
          "base_uri": "https://localhost:8080/",
          "height": 136
        },
        "id": "LBvu8CZU1VNr",
        "outputId": "44654c48-9fd8-41d8-fa82-241d853b9967"
      },
      "source": [
        "ratings_df.groupby('gender').agg({'beauty':['mean', 'std', 'var']}).reset_index()"
      ],
      "execution_count": 12,
      "outputs": [
        {
          "output_type": "execute_result",
          "data": {
            "text/html": [
              "<div>\n",
              "<style scoped>\n",
              "    .dataframe tbody tr th:only-of-type {\n",
              "        vertical-align: middle;\n",
              "    }\n",
              "\n",
              "    .dataframe tbody tr th {\n",
              "        vertical-align: top;\n",
              "    }\n",
              "\n",
              "    .dataframe thead tr th {\n",
              "        text-align: left;\n",
              "    }\n",
              "</style>\n",
              "<table border=\"1\" class=\"dataframe\">\n",
              "  <thead>\n",
              "    <tr>\n",
              "      <th></th>\n",
              "      <th>gender</th>\n",
              "      <th colspan=\"3\" halign=\"left\">beauty</th>\n",
              "    </tr>\n",
              "    <tr>\n",
              "      <th></th>\n",
              "      <th></th>\n",
              "      <th>mean</th>\n",
              "      <th>std</th>\n",
              "      <th>var</th>\n",
              "    </tr>\n",
              "  </thead>\n",
              "  <tbody>\n",
              "    <tr>\n",
              "      <th>0</th>\n",
              "      <td>female</td>\n",
              "      <td>0.116109</td>\n",
              "      <td>0.81781</td>\n",
              "      <td>0.668813</td>\n",
              "    </tr>\n",
              "    <tr>\n",
              "      <th>1</th>\n",
              "      <td>male</td>\n",
              "      <td>-0.084482</td>\n",
              "      <td>0.75713</td>\n",
              "      <td>0.573246</td>\n",
              "    </tr>\n",
              "  </tbody>\n",
              "</table>\n",
              "</div>"
            ],
            "text/plain": [
              "   gender    beauty                   \n",
              "               mean      std       var\n",
              "0  female  0.116109  0.81781  0.668813\n",
              "1    male -0.084482  0.75713  0.573246"
            ]
          },
          "metadata": {
            "tags": []
          },
          "execution_count": 12
        }
      ]
    },
    {
      "cell_type": "code",
      "metadata": {
        "id": "iq1xGmnr1wL8"
      },
      "source": [
        "tenure_count = ratings_df.groupby('gender').agg({'tenure':'count'}).reset_index()"
      ],
      "execution_count": 13,
      "outputs": []
    },
    {
      "cell_type": "code",
      "metadata": {
        "id": "dy-LOnbA2OeA"
      },
      "source": [
        "tenure_count['percentage'] = 100 * tenure_count.tenure/ tenure_count.tenure.sum()"
      ],
      "execution_count": 14,
      "outputs": []
    },
    {
      "cell_type": "code",
      "metadata": {
        "colab": {
          "base_uri": "https://localhost:8080/",
          "height": 106
        },
        "id": "tnNUTTXz2Sfs",
        "outputId": "bd7cc379-e831-4d5d-b279-718d3b709288"
      },
      "source": [
        "tenure_count"
      ],
      "execution_count": 15,
      "outputs": [
        {
          "output_type": "execute_result",
          "data": {
            "text/html": [
              "<div>\n",
              "<style scoped>\n",
              "    .dataframe tbody tr th:only-of-type {\n",
              "        vertical-align: middle;\n",
              "    }\n",
              "\n",
              "    .dataframe tbody tr th {\n",
              "        vertical-align: top;\n",
              "    }\n",
              "\n",
              "    .dataframe thead th {\n",
              "        text-align: right;\n",
              "    }\n",
              "</style>\n",
              "<table border=\"1\" class=\"dataframe\">\n",
              "  <thead>\n",
              "    <tr style=\"text-align: right;\">\n",
              "      <th></th>\n",
              "      <th>gender</th>\n",
              "      <th>tenure</th>\n",
              "      <th>percentage</th>\n",
              "    </tr>\n",
              "  </thead>\n",
              "  <tbody>\n",
              "    <tr>\n",
              "      <th>0</th>\n",
              "      <td>female</td>\n",
              "      <td>195</td>\n",
              "      <td>42.116631</td>\n",
              "    </tr>\n",
              "    <tr>\n",
              "      <th>1</th>\n",
              "      <td>male</td>\n",
              "      <td>268</td>\n",
              "      <td>57.883369</td>\n",
              "    </tr>\n",
              "  </tbody>\n",
              "</table>\n",
              "</div>"
            ],
            "text/plain": [
              "   gender  tenure  percentage\n",
              "0  female     195   42.116631\n",
              "1    male     268   57.883369"
            ]
          },
          "metadata": {
            "tags": []
          },
          "execution_count": 15
        }
      ]
    },
    {
      "cell_type": "code",
      "metadata": {
        "id": "JBYknBuG2jQl"
      },
      "source": [
        "minorites = ratings_df.groupby('gender').agg({'minority':'count'}).reset_index()"
      ],
      "execution_count": 16,
      "outputs": []
    },
    {
      "cell_type": "code",
      "metadata": {
        "id": "wxpW-VKZIyJ4"
      },
      "source": [
        "minorites['percentage'] = 100 * minorites.minority / minorites.minority.sum()"
      ],
      "execution_count": 17,
      "outputs": []
    },
    {
      "cell_type": "code",
      "metadata": {
        "colab": {
          "base_uri": "https://localhost:8080/",
          "height": 106
        },
        "id": "6Dvw8TTxMrbp",
        "outputId": "8a0a85fd-78c5-4a5f-915f-2bee125421fc"
      },
      "source": [
        "minorites"
      ],
      "execution_count": 18,
      "outputs": [
        {
          "output_type": "execute_result",
          "data": {
            "text/html": [
              "<div>\n",
              "<style scoped>\n",
              "    .dataframe tbody tr th:only-of-type {\n",
              "        vertical-align: middle;\n",
              "    }\n",
              "\n",
              "    .dataframe tbody tr th {\n",
              "        vertical-align: top;\n",
              "    }\n",
              "\n",
              "    .dataframe thead th {\n",
              "        text-align: right;\n",
              "    }\n",
              "</style>\n",
              "<table border=\"1\" class=\"dataframe\">\n",
              "  <thead>\n",
              "    <tr style=\"text-align: right;\">\n",
              "      <th></th>\n",
              "      <th>gender</th>\n",
              "      <th>minority</th>\n",
              "      <th>percentage</th>\n",
              "    </tr>\n",
              "  </thead>\n",
              "  <tbody>\n",
              "    <tr>\n",
              "      <th>0</th>\n",
              "      <td>female</td>\n",
              "      <td>195</td>\n",
              "      <td>42.116631</td>\n",
              "    </tr>\n",
              "    <tr>\n",
              "      <th>1</th>\n",
              "      <td>male</td>\n",
              "      <td>268</td>\n",
              "      <td>57.883369</td>\n",
              "    </tr>\n",
              "  </tbody>\n",
              "</table>\n",
              "</div>"
            ],
            "text/plain": [
              "   gender  minority  percentage\n",
              "0  female       195   42.116631\n",
              "1    male       268   57.883369"
            ]
          },
          "metadata": {
            "tags": []
          },
          "execution_count": 18
        }
      ]
    },
    {
      "cell_type": "code",
      "metadata": {
        "id": "qLo22lWrNDOc"
      },
      "source": [
        "tenure_count = ratings_df.groupby('minority').agg({'tenure':'count'}).reset_index()"
      ],
      "execution_count": 19,
      "outputs": []
    },
    {
      "cell_type": "code",
      "metadata": {
        "id": "aEFiSj98NgLq"
      },
      "source": [
        "tenure_count['percentage'] = 100 * tenure_count.tenure / tenure_count.tenure.sum()"
      ],
      "execution_count": 20,
      "outputs": []
    },
    {
      "cell_type": "code",
      "metadata": {
        "colab": {
          "base_uri": "https://localhost:8080/",
          "height": 106
        },
        "id": "TXfDWb3ENz9K",
        "outputId": "aa7cf5fa-4451-4113-842c-dad9bd643765"
      },
      "source": [
        "tenure_count"
      ],
      "execution_count": 21,
      "outputs": [
        {
          "output_type": "execute_result",
          "data": {
            "text/html": [
              "<div>\n",
              "<style scoped>\n",
              "    .dataframe tbody tr th:only-of-type {\n",
              "        vertical-align: middle;\n",
              "    }\n",
              "\n",
              "    .dataframe tbody tr th {\n",
              "        vertical-align: top;\n",
              "    }\n",
              "\n",
              "    .dataframe thead th {\n",
              "        text-align: right;\n",
              "    }\n",
              "</style>\n",
              "<table border=\"1\" class=\"dataframe\">\n",
              "  <thead>\n",
              "    <tr style=\"text-align: right;\">\n",
              "      <th></th>\n",
              "      <th>minority</th>\n",
              "      <th>tenure</th>\n",
              "      <th>percentage</th>\n",
              "    </tr>\n",
              "  </thead>\n",
              "  <tbody>\n",
              "    <tr>\n",
              "      <th>0</th>\n",
              "      <td>no</td>\n",
              "      <td>399</td>\n",
              "      <td>86.177106</td>\n",
              "    </tr>\n",
              "    <tr>\n",
              "      <th>1</th>\n",
              "      <td>yes</td>\n",
              "      <td>64</td>\n",
              "      <td>13.822894</td>\n",
              "    </tr>\n",
              "  </tbody>\n",
              "</table>\n",
              "</div>"
            ],
            "text/plain": [
              "  minority  tenure  percentage\n",
              "0       no     399   86.177106\n",
              "1      yes      64   13.822894"
            ]
          },
          "metadata": {
            "tags": []
          },
          "execution_count": 21
        }
      ]
    },
    {
      "cell_type": "code",
      "metadata": {
        "colab": {
          "base_uri": "https://localhost:8080/",
          "height": 136
        },
        "id": "jctPwh4WN11n",
        "outputId": "73ff8cb4-e5ce-4370-d0ee-eb9fb646b79b"
      },
      "source": [
        "ratings_df.groupby('tenure').agg({'age':['mean', 'std']}).reset_index()"
      ],
      "execution_count": 22,
      "outputs": [
        {
          "output_type": "execute_result",
          "data": {
            "text/html": [
              "<div>\n",
              "<style scoped>\n",
              "    .dataframe tbody tr th:only-of-type {\n",
              "        vertical-align: middle;\n",
              "    }\n",
              "\n",
              "    .dataframe tbody tr th {\n",
              "        vertical-align: top;\n",
              "    }\n",
              "\n",
              "    .dataframe thead tr th {\n",
              "        text-align: left;\n",
              "    }\n",
              "</style>\n",
              "<table border=\"1\" class=\"dataframe\">\n",
              "  <thead>\n",
              "    <tr>\n",
              "      <th></th>\n",
              "      <th>tenure</th>\n",
              "      <th colspan=\"2\" halign=\"left\">age</th>\n",
              "    </tr>\n",
              "    <tr>\n",
              "      <th></th>\n",
              "      <th></th>\n",
              "      <th>mean</th>\n",
              "      <th>std</th>\n",
              "    </tr>\n",
              "  </thead>\n",
              "  <tbody>\n",
              "    <tr>\n",
              "      <th>0</th>\n",
              "      <td>no</td>\n",
              "      <td>50.186275</td>\n",
              "      <td>6.946372</td>\n",
              "    </tr>\n",
              "    <tr>\n",
              "      <th>1</th>\n",
              "      <td>yes</td>\n",
              "      <td>47.850416</td>\n",
              "      <td>10.420056</td>\n",
              "    </tr>\n",
              "  </tbody>\n",
              "</table>\n",
              "</div>"
            ],
            "text/plain": [
              "  tenure        age           \n",
              "               mean        std\n",
              "0     no  50.186275   6.946372\n",
              "1    yes  47.850416  10.420056"
            ]
          },
          "metadata": {
            "tags": []
          },
          "execution_count": 22
        }
      ]
    },
    {
      "cell_type": "code",
      "metadata": {
        "colab": {
          "base_uri": "https://localhost:8080/",
          "height": 315
        },
        "id": "TF9zsjyKObhh",
        "outputId": "e7795c4a-45fd-4786-e4c1-c4c21320bcd4"
      },
      "source": [
        "plt.hist(ratings_df['age'])"
      ],
      "execution_count": 23,
      "outputs": [
        {
          "output_type": "execute_result",
          "data": {
            "text/plain": [
              "(array([41., 37., 58., 48., 75., 74., 53., 69.,  0.,  8.]),\n",
              " array([29. , 33.4, 37.8, 42.2, 46.6, 51. , 55.4, 59.8, 64.2, 68.6, 73. ]),\n",
              " <a list of 10 Patch objects>)"
            ]
          },
          "metadata": {
            "tags": []
          },
          "execution_count": 23
        },
        {
          "output_type": "display_data",
          "data": {
            "image/png": "[encoded data removed]",
            "text/plain": [
              "<Figure size 432x288 with 1 Axes>"
            ]
          },
          "metadata": {
            "tags": [],
            "needs_background": "light"
          }
        }
      ]
    },
    {
      "cell_type": "code",
      "metadata": {
        "colab": {
          "base_uri": "https://localhost:8080/",
          "height": 106
        },
        "id": "XhAqhdk_PaYN",
        "outputId": "9db9330a-bfc2-4184-a2e6-62ea453e6b7d"
      },
      "source": [
        "ratings_df.groupby('tenure').agg({'eval':'median'}).reset_index()"
      ],
      "execution_count": 24,
      "outputs": [
        {
          "output_type": "execute_result",
          "data": {
            "text/html": [
              "<div>\n",
              "<style scoped>\n",
              "    .dataframe tbody tr th:only-of-type {\n",
              "        vertical-align: middle;\n",
              "    }\n",
              "\n",
              "    .dataframe tbody tr th {\n",
              "        vertical-align: top;\n",
              "    }\n",
              "\n",
              "    .dataframe thead th {\n",
              "        text-align: right;\n",
              "    }\n",
              "</style>\n",
              "<table border=\"1\" class=\"dataframe\">\n",
              "  <thead>\n",
              "    <tr style=\"text-align: right;\">\n",
              "      <th></th>\n",
              "      <th>tenure</th>\n",
              "      <th>eval</th>\n",
              "    </tr>\n",
              "  </thead>\n",
              "  <tbody>\n",
              "    <tr>\n",
              "      <th>0</th>\n",
              "      <td>no</td>\n",
              "      <td>4.2</td>\n",
              "    </tr>\n",
              "    <tr>\n",
              "      <th>1</th>\n",
              "      <td>yes</td>\n",
              "      <td>4.0</td>\n",
              "    </tr>\n",
              "  </tbody>\n",
              "</table>\n",
              "</div>"
            ],
            "text/plain": [
              "  tenure  eval\n",
              "0     no   4.2\n",
              "1    yes   4.0"
            ]
          },
          "metadata": {
            "tags": []
          },
          "execution_count": 24
        }
      ]
    },
    {
      "cell_type": "code",
      "metadata": {
        "colab": {
          "base_uri": "https://localhost:8080/"
        },
        "id": "dq8Z0rwfP2av",
        "outputId": "7d1bbbca-c61f-4553-b506-722f07e94473"
      },
      "source": [
        "ratings_df[ratings_df['tenure'] == 'yes']['eval'].median()"
      ],
      "execution_count": 25,
      "outputs": [
        {
          "output_type": "execute_result",
          "data": {
            "text/plain": [
              "4.0"
            ]
          },
          "metadata": {
            "tags": []
          },
          "execution_count": 25
        }
      ]
    },
    {
      "cell_type": "code",
      "metadata": {
        "colab": {
          "base_uri": "https://localhost:8080/"
        },
        "id": "z4YIiTg4QLIY",
        "outputId": "ce78b69e-a63e-4b08-dd27-36eaa4203b4b"
      },
      "source": [
        "ratings_df.prof.unique()"
      ],
      "execution_count": 26,
      "outputs": [
        {
          "output_type": "execute_result",
          "data": {
            "text/plain": [
              "array([ 1,  2,  3,  4,  5,  6,  7,  8,  9, 10, 11, 12, 13, 14, 15, 16, 17,\n",
              "       18, 19, 20, 21, 23, 24, 25, 26, 27, 28, 29, 31, 32, 33, 34, 35, 36,\n",
              "       37, 38, 39, 41, 42, 43, 44, 45, 46, 48, 49, 50, 51, 52, 53, 54, 55,\n",
              "       56, 57, 58, 59, 60, 63, 64, 65, 66, 67, 68, 70, 71, 72, 73, 74, 75,\n",
              "       76, 77, 78, 79, 80, 81, 82, 83, 84, 85, 86, 87, 88, 89, 90, 91, 92,\n",
              "       93, 94, 22, 30, 40, 47, 61, 62, 69])"
            ]
          },
          "metadata": {
            "tags": []
          },
          "execution_count": 26
        }
      ]
    },
    {
      "cell_type": "code",
      "metadata": {
        "colab": {
          "base_uri": "https://localhost:8080/"
        },
        "id": "R5S0ocl1bIOt",
        "outputId": "3631c9d5-6fc7-45be-b845-3c77fdb6fffd"
      },
      "source": [
        "ratings_df.prof.nunique()"
      ],
      "execution_count": 27,
      "outputs": [
        {
          "output_type": "execute_result",
          "data": {
            "text/plain": [
              "94"
            ]
          },
          "metadata": {
            "tags": []
          },
          "execution_count": 27
        }
      ]
    },
    {
      "cell_type": "code",
      "metadata": {
        "colab": {
          "base_uri": "https://localhost:8080/"
        },
        "id": "0PSb-pVDbWf6",
        "outputId": "f1485625-84f9-4792-bf0c-78cd62fcaee4"
      },
      "source": [
        "ratings_df['age'].mean()"
      ],
      "execution_count": 28,
      "outputs": [
        {
          "output_type": "execute_result",
          "data": {
            "text/plain": [
              "48.365010799136066"
            ]
          },
          "metadata": {
            "tags": []
          },
          "execution_count": 28
        }
      ]
    },
    {
      "cell_type": "code",
      "metadata": {
        "colab": {
          "base_uri": "https://localhost:8080/"
        },
        "id": "0d0sedTRbdBr",
        "outputId": "69117511-ad1b-4fc5-b7e1-ac3af79c4a5f"
      },
      "source": [
        "ratings_df.age.std()"
      ],
      "execution_count": 29,
      "outputs": [
        {
          "output_type": "execute_result",
          "data": {
            "text/plain": [
              "9.802742037864821"
            ]
          },
          "metadata": {
            "tags": []
          },
          "execution_count": 29
        }
      ]
    },
    {
      "cell_type": "code",
      "metadata": {
        "colab": {
          "base_uri": "https://localhost:8080/",
          "height": 215
        },
        "id": "fXr3bRCAbhNC",
        "outputId": "1d8f6ed6-74e8-42fc-f34a-ec0642f2abb3"
      },
      "source": [
        "no_duplicates_rating_df = ratings_df.drop_duplicates(subset = ['prof'])\r\n",
        "no_duplicates_rating_df.head()"
      ],
      "execution_count": 30,
      "outputs": [
        {
          "output_type": "execute_result",
          "data": {
            "text/html": [
              "<div>\n",
              "<style scoped>\n",
              "    .dataframe tbody tr th:only-of-type {\n",
              "        vertical-align: middle;\n",
              "    }\n",
              "\n",
              "    .dataframe tbody tr th {\n",
              "        vertical-align: top;\n",
              "    }\n",
              "\n",
              "    .dataframe thead th {\n",
              "        text-align: right;\n",
              "    }\n",
              "</style>\n",
              "<table border=\"1\" class=\"dataframe\">\n",
              "  <thead>\n",
              "    <tr style=\"text-align: right;\">\n",
              "      <th></th>\n",
              "      <th>minority</th>\n",
              "      <th>age</th>\n",
              "      <th>gender</th>\n",
              "      <th>credits</th>\n",
              "      <th>beauty</th>\n",
              "      <th>eval</th>\n",
              "      <th>division</th>\n",
              "      <th>native</th>\n",
              "      <th>tenure</th>\n",
              "      <th>students</th>\n",
              "      <th>allstudents</th>\n",
              "      <th>prof</th>\n",
              "      <th>PrimaryLast</th>\n",
              "      <th>vismin</th>\n",
              "      <th>female</th>\n",
              "      <th>single_credit</th>\n",
              "      <th>upper_division</th>\n",
              "      <th>English_speaker</th>\n",
              "      <th>tenured_prof</th>\n",
              "    </tr>\n",
              "  </thead>\n",
              "  <tbody>\n",
              "    <tr>\n",
              "      <th>0</th>\n",
              "      <td>yes</td>\n",
              "      <td>36</td>\n",
              "      <td>female</td>\n",
              "      <td>more</td>\n",
              "      <td>0.289916</td>\n",
              "      <td>4.3</td>\n",
              "      <td>upper</td>\n",
              "      <td>yes</td>\n",
              "      <td>yes</td>\n",
              "      <td>24</td>\n",
              "      <td>43</td>\n",
              "      <td>1</td>\n",
              "      <td>0</td>\n",
              "      <td>1</td>\n",
              "      <td>1</td>\n",
              "      <td>0</td>\n",
              "      <td>1</td>\n",
              "      <td>1</td>\n",
              "      <td>1</td>\n",
              "    </tr>\n",
              "    <tr>\n",
              "      <th>4</th>\n",
              "      <td>no</td>\n",
              "      <td>59</td>\n",
              "      <td>male</td>\n",
              "      <td>more</td>\n",
              "      <td>-0.737732</td>\n",
              "      <td>4.5</td>\n",
              "      <td>upper</td>\n",
              "      <td>yes</td>\n",
              "      <td>yes</td>\n",
              "      <td>17</td>\n",
              "      <td>20</td>\n",
              "      <td>2</td>\n",
              "      <td>0</td>\n",
              "      <td>0</td>\n",
              "      <td>0</td>\n",
              "      <td>0</td>\n",
              "      <td>1</td>\n",
              "      <td>1</td>\n",
              "      <td>1</td>\n",
              "    </tr>\n",
              "    <tr>\n",
              "      <th>7</th>\n",
              "      <td>no</td>\n",
              "      <td>51</td>\n",
              "      <td>male</td>\n",
              "      <td>more</td>\n",
              "      <td>-0.571984</td>\n",
              "      <td>3.7</td>\n",
              "      <td>upper</td>\n",
              "      <td>yes</td>\n",
              "      <td>yes</td>\n",
              "      <td>55</td>\n",
              "      <td>55</td>\n",
              "      <td>3</td>\n",
              "      <td>0</td>\n",
              "      <td>0</td>\n",
              "      <td>0</td>\n",
              "      <td>0</td>\n",
              "      <td>1</td>\n",
              "      <td>1</td>\n",
              "      <td>1</td>\n",
              "    </tr>\n",
              "    <tr>\n",
              "      <th>9</th>\n",
              "      <td>no</td>\n",
              "      <td>40</td>\n",
              "      <td>female</td>\n",
              "      <td>more</td>\n",
              "      <td>-0.677963</td>\n",
              "      <td>4.3</td>\n",
              "      <td>upper</td>\n",
              "      <td>yes</td>\n",
              "      <td>yes</td>\n",
              "      <td>40</td>\n",
              "      <td>46</td>\n",
              "      <td>4</td>\n",
              "      <td>0</td>\n",
              "      <td>0</td>\n",
              "      <td>1</td>\n",
              "      <td>0</td>\n",
              "      <td>1</td>\n",
              "      <td>1</td>\n",
              "      <td>1</td>\n",
              "    </tr>\n",
              "    <tr>\n",
              "      <th>17</th>\n",
              "      <td>no</td>\n",
              "      <td>31</td>\n",
              "      <td>female</td>\n",
              "      <td>more</td>\n",
              "      <td>1.509794</td>\n",
              "      <td>4.4</td>\n",
              "      <td>upper</td>\n",
              "      <td>yes</td>\n",
              "      <td>yes</td>\n",
              "      <td>42</td>\n",
              "      <td>48</td>\n",
              "      <td>5</td>\n",
              "      <td>0</td>\n",
              "      <td>0</td>\n",
              "      <td>1</td>\n",
              "      <td>0</td>\n",
              "      <td>1</td>\n",
              "      <td>1</td>\n",
              "      <td>1</td>\n",
              "    </tr>\n",
              "  </tbody>\n",
              "</table>\n",
              "</div>"
            ],
            "text/plain": [
              "   minority  age  gender  ... upper_division  English_speaker  tenured_prof\n",
              "0       yes   36  female  ...              1                1             1\n",
              "4        no   59    male  ...              1                1             1\n",
              "7        no   51    male  ...              1                1             1\n",
              "9        no   40  female  ...              1                1             1\n",
              "17       no   31  female  ...              1                1             1\n",
              "\n",
              "[5 rows x 19 columns]"
            ]
          },
          "metadata": {
            "tags": []
          },
          "execution_count": 30
        }
      ]
    },
    {
      "cell_type": "code",
      "metadata": {
        "colab": {
          "base_uri": "https://localhost:8080/"
        },
        "id": "DZQN-H7Bb1fT",
        "outputId": "8f47f041-c58f-496a-a2d5-05dbbd0915c0"
      },
      "source": [
        "no_duplicates_rating_df['age'].mean()"
      ],
      "execution_count": 31,
      "outputs": [
        {
          "output_type": "execute_result",
          "data": {
            "text/plain": [
              "47.5531914893617"
            ]
          },
          "metadata": {
            "tags": []
          },
          "execution_count": 31
        }
      ]
    },
    {
      "cell_type": "code",
      "metadata": {
        "colab": {
          "base_uri": "https://localhost:8080/"
        },
        "id": "FtKNmGMXb_uU",
        "outputId": "f3feb15e-31dc-429e-d64f-ac3d6ee27fcc"
      },
      "source": [
        "no_duplicates_rating_df['age'].std()"
      ],
      "execution_count": 32,
      "outputs": [
        {
          "output_type": "execute_result",
          "data": {
            "text/plain": [
              "10.25651329515495"
            ]
          },
          "metadata": {
            "tags": []
          },
          "execution_count": 32
        }
      ]
    },
    {
      "cell_type": "code",
      "metadata": {
        "colab": {
          "base_uri": "https://localhost:8080/",
          "height": 215
        },
        "id": "kE54U6w2cEEC",
        "outputId": "a8c8a926-99b9-47d8-a4f9-7ba6f6e09f5e"
      },
      "source": [
        "ratings_df.head()"
      ],
      "execution_count": 33,
      "outputs": [
        {
          "output_type": "execute_result",
          "data": {
            "text/html": [
              "<div>\n",
              "<style scoped>\n",
              "    .dataframe tbody tr th:only-of-type {\n",
              "        vertical-align: middle;\n",
              "    }\n",
              "\n",
              "    .dataframe tbody tr th {\n",
              "        vertical-align: top;\n",
              "    }\n",
              "\n",
              "    .dataframe thead th {\n",
              "        text-align: right;\n",
              "    }\n",
              "</style>\n",
              "<table border=\"1\" class=\"dataframe\">\n",
              "  <thead>\n",
              "    <tr style=\"text-align: right;\">\n",
              "      <th></th>\n",
              "      <th>minority</th>\n",
              "      <th>age</th>\n",
              "      <th>gender</th>\n",
              "      <th>credits</th>\n",
              "      <th>beauty</th>\n",
              "      <th>eval</th>\n",
              "      <th>division</th>\n",
              "      <th>native</th>\n",
              "      <th>tenure</th>\n",
              "      <th>students</th>\n",
              "      <th>allstudents</th>\n",
              "      <th>prof</th>\n",
              "      <th>PrimaryLast</th>\n",
              "      <th>vismin</th>\n",
              "      <th>female</th>\n",
              "      <th>single_credit</th>\n",
              "      <th>upper_division</th>\n",
              "      <th>English_speaker</th>\n",
              "      <th>tenured_prof</th>\n",
              "    </tr>\n",
              "  </thead>\n",
              "  <tbody>\n",
              "    <tr>\n",
              "      <th>0</th>\n",
              "      <td>yes</td>\n",
              "      <td>36</td>\n",
              "      <td>female</td>\n",
              "      <td>more</td>\n",
              "      <td>0.289916</td>\n",
              "      <td>4.3</td>\n",
              "      <td>upper</td>\n",
              "      <td>yes</td>\n",
              "      <td>yes</td>\n",
              "      <td>24</td>\n",
              "      <td>43</td>\n",
              "      <td>1</td>\n",
              "      <td>0</td>\n",
              "      <td>1</td>\n",
              "      <td>1</td>\n",
              "      <td>0</td>\n",
              "      <td>1</td>\n",
              "      <td>1</td>\n",
              "      <td>1</td>\n",
              "    </tr>\n",
              "    <tr>\n",
              "      <th>1</th>\n",
              "      <td>yes</td>\n",
              "      <td>36</td>\n",
              "      <td>female</td>\n",
              "      <td>more</td>\n",
              "      <td>0.289916</td>\n",
              "      <td>3.7</td>\n",
              "      <td>upper</td>\n",
              "      <td>yes</td>\n",
              "      <td>yes</td>\n",
              "      <td>86</td>\n",
              "      <td>125</td>\n",
              "      <td>1</td>\n",
              "      <td>0</td>\n",
              "      <td>1</td>\n",
              "      <td>1</td>\n",
              "      <td>0</td>\n",
              "      <td>1</td>\n",
              "      <td>1</td>\n",
              "      <td>1</td>\n",
              "    </tr>\n",
              "    <tr>\n",
              "      <th>2</th>\n",
              "      <td>yes</td>\n",
              "      <td>36</td>\n",
              "      <td>female</td>\n",
              "      <td>more</td>\n",
              "      <td>0.289916</td>\n",
              "      <td>3.6</td>\n",
              "      <td>upper</td>\n",
              "      <td>yes</td>\n",
              "      <td>yes</td>\n",
              "      <td>76</td>\n",
              "      <td>125</td>\n",
              "      <td>1</td>\n",
              "      <td>0</td>\n",
              "      <td>1</td>\n",
              "      <td>1</td>\n",
              "      <td>0</td>\n",
              "      <td>1</td>\n",
              "      <td>1</td>\n",
              "      <td>1</td>\n",
              "    </tr>\n",
              "    <tr>\n",
              "      <th>3</th>\n",
              "      <td>yes</td>\n",
              "      <td>36</td>\n",
              "      <td>female</td>\n",
              "      <td>more</td>\n",
              "      <td>0.289916</td>\n",
              "      <td>4.4</td>\n",
              "      <td>upper</td>\n",
              "      <td>yes</td>\n",
              "      <td>yes</td>\n",
              "      <td>77</td>\n",
              "      <td>123</td>\n",
              "      <td>1</td>\n",
              "      <td>1</td>\n",
              "      <td>1</td>\n",
              "      <td>1</td>\n",
              "      <td>0</td>\n",
              "      <td>1</td>\n",
              "      <td>1</td>\n",
              "      <td>1</td>\n",
              "    </tr>\n",
              "    <tr>\n",
              "      <th>4</th>\n",
              "      <td>no</td>\n",
              "      <td>59</td>\n",
              "      <td>male</td>\n",
              "      <td>more</td>\n",
              "      <td>-0.737732</td>\n",
              "      <td>4.5</td>\n",
              "      <td>upper</td>\n",
              "      <td>yes</td>\n",
              "      <td>yes</td>\n",
              "      <td>17</td>\n",
              "      <td>20</td>\n",
              "      <td>2</td>\n",
              "      <td>0</td>\n",
              "      <td>0</td>\n",
              "      <td>0</td>\n",
              "      <td>0</td>\n",
              "      <td>1</td>\n",
              "      <td>1</td>\n",
              "      <td>1</td>\n",
              "    </tr>\n",
              "  </tbody>\n",
              "</table>\n",
              "</div>"
            ],
            "text/plain": [
              "  minority  age  gender  ... upper_division  English_speaker  tenured_prof\n",
              "0      yes   36  female  ...              1                1             1\n",
              "1      yes   36  female  ...              1                1             1\n",
              "2      yes   36  female  ...              1                1             1\n",
              "3      yes   36  female  ...              1                1             1\n",
              "4       no   59    male  ...              1                1             1\n",
              "\n",
              "[5 rows x 19 columns]"
            ]
          },
          "metadata": {
            "tags": []
          },
          "execution_count": 33
        }
      ]
    },
    {
      "cell_type": "code",
      "metadata": {
        "id": "G3Fwd3VucKf_"
      },
      "source": [
        "division_eval = ratings_df.groupby('division')[['eval']].mean().reset_index()"
      ],
      "execution_count": 34,
      "outputs": []
    },
    {
      "cell_type": "code",
      "metadata": {
        "colab": {
          "base_uri": "https://localhost:8080/",
          "height": 285
        },
        "id": "4V-gfyllchtN",
        "outputId": "d266f4b6-b2ea-4806-e4f7-b054dde713dd"
      },
      "source": [
        "import seaborn as sns\r\n",
        "sns.set(style = \"whitegrid\")\r\n",
        "ax = sns.barplot(x='division', y = 'eval', data = division_eval)"
      ],
      "execution_count": 35,
      "outputs": [
        {
          "output_type": "display_data",
          "data": {
            "image/png": "[encoded data removed]",
            "text/plain": [
              "<Figure size 432x288 with 1 Axes>"
            ]
          },
          "metadata": {
            "tags": []
          }
        }
      ]
    },
    {
      "cell_type": "code",
      "metadata": {
        "colab": {
          "base_uri": "https://localhost:8080/",
          "height": 285
        },
        "id": "LYJ7eIGQcy8H",
        "outputId": "a7471c9b-f61d-446e-b953-a962793610fd"
      },
      "source": [
        "ax = sns.scatterplot(x= 'age', y = 'eval', data = ratings_df)"
      ],
      "execution_count": 36,
      "outputs": [
        {
          "output_type": "display_data",
          "data": {
            "image/png": "[encoded data removed]",
            "text/plain": [
              "<Figure size 432x288 with 1 Axes>"
            ]
          },
          "metadata": {
            "tags": []
          }
        }
      ]
    },
    {
      "cell_type": "code",
      "metadata": {
        "colab": {
          "base_uri": "https://localhost:8080/",
          "height": 285
        },
        "id": "DZitWlrcdIas",
        "outputId": "6078fd76-540e-42fd-ed59-78ce69a36d90"
      },
      "source": [
        "ax = sns.scatterplot(x = 'age', y = 'eval', hue = 'gender', data = ratings_df)"
      ],
      "execution_count": 37,
      "outputs": [
        {
          "output_type": "display_data",
          "data": {
            "image/png": "[encoded data removed]",
            "text/plain": [
              "<Figure size 432x288 with 1 Axes>"
            ]
          },
          "metadata": {
            "tags": []
          }
        }
      ]
    },
    {
      "cell_type": "code",
      "metadata": {
        "colab": {
          "base_uri": "https://localhost:8080/",
          "height": 285
        },
        "id": "a23xcpqBdZjE",
        "outputId": "b7925b77-de04-4508-e1e3-505126a02412"
      },
      "source": [
        "ax = sns.boxplot(x= 'credits', y='beauty', data = ratings_df)"
      ],
      "execution_count": 38,
      "outputs": [
        {
          "output_type": "display_data",
          "data": {
            "image/png": "[encoded data removed]",
            "text/plain": [
              "<Figure size 432x288 with 1 Axes>"
            ]
          },
          "metadata": {
            "tags": []
          }
        }
      ]
    },
    {
      "cell_type": "code",
      "metadata": {
        "colab": {
          "base_uri": "https://localhost:8080/",
          "height": 399
        },
        "id": "khd589NAdwiH",
        "outputId": "f51bed59-8428-4a24-9691-dd3d5c55b428"
      },
      "source": [
        "sns.catplot(x = 'gender', kind = 'count', data= ratings_df)"
      ],
      "execution_count": 39,
      "outputs": [
        {
          "output_type": "execute_result",
          "data": {
            "text/plain": [
              "<seaborn.axisgrid.FacetGrid at 0x7f3ab8ea0320>"
            ]
          },
          "metadata": {
            "tags": []
          },
          "execution_count": 39
        },
        {
          "output_type": "display_data",
          "data": {
            "image/png": "[encoded data removed]",
            "text/plain": [
              "<Figure size 360x360 with 1 Axes>"
            ]
          },
          "metadata": {
            "tags": []
          }
        }
      ]
    },
    {
      "cell_type": "code",
      "metadata": {
        "colab": {
          "base_uri": "https://localhost:8080/",
          "height": 399
        },
        "id": "nOW86CgteGIF",
        "outputId": "9d6c6076-0340-4223-935d-bc5916c1e920"
      },
      "source": [
        "sns.catplot(x= 'gender', hue= 'tenure', kind= 'count', data= ratings_df)"
      ],
      "execution_count": 40,
      "outputs": [
        {
          "output_type": "execute_result",
          "data": {
            "text/plain": [
              "<seaborn.axisgrid.FacetGrid at 0x7f3ac7815ba8>"
            ]
          },
          "metadata": {
            "tags": []
          },
          "execution_count": 40
        },
        {
          "output_type": "display_data",
          "data": {
            "image/png": "[encoded data removed]",
            "text/plain": [
              "<Figure size 418.725x360 with 1 Axes>"
            ]
          },
          "metadata": {
            "tags": []
          }
        }
      ]
    },
    {
      "cell_type": "code",
      "metadata": {
        "colab": {
          "base_uri": "https://localhost:8080/",
          "height": 471
        },
        "id": "_0mT79HreYyz",
        "outputId": "bf228b8a-fe77-440c-bde1-f53ce7b94fd8"
      },
      "source": [
        "sns.catplot(x = 'gender', hue = 'tenure', row = 'division',\r\n",
        "            kind = 'count', data = ratings_df, \r\n",
        "            height = 3, aspect = 2)"
      ],
      "execution_count": 41,
      "outputs": [
        {
          "output_type": "execute_result",
          "data": {
            "text/plain": [
              "<seaborn.axisgrid.FacetGrid at 0x7f3ac7d55b70>"
            ]
          },
          "metadata": {
            "tags": []
          },
          "execution_count": 41
        },
        {
          "output_type": "display_data",
          "data": {
            "image/png": "[encoded data removed]",
            "text/plain": [
              "<Figure size 490.725x432 with 2 Axes>"
            ]
          },
          "metadata": {
            "tags": []
          }
        }
      ]
    },
    {
      "cell_type": "code",
      "metadata": {
        "colab": {
          "base_uri": "https://localhost:8080/",
          "height": 471
        },
        "id": "TFPxbSOtewoQ",
        "outputId": "a4e4aff0-103e-4e1b-8bdf-2badeaf659cf"
      },
      "source": [
        "sns.relplot(x = 'age', y = 'eval', hue = 'gender', \r\n",
        "            row = 'tenure', \r\n",
        "            data = ratings_df, height = 3, aspect = 2)"
      ],
      "execution_count": 42,
      "outputs": [
        {
          "output_type": "execute_result",
          "data": {
            "text/plain": [
              "<seaborn.axisgrid.FacetGrid at 0x7f3ab651c358>"
            ]
          },
          "metadata": {
            "tags": []
          },
          "execution_count": 42
        },
        {
          "output_type": "display_data",
          "data": {
            "image/png": "[encoded data removed]",
            "text/plain": [
              "<Figure size 509.975x432 with 2 Axes>"
            ]
          },
          "metadata": {
            "tags": []
          }
        }
      ]
    },
    {
      "cell_type": "code",
      "metadata": {
        "colab": {
          "base_uri": "https://localhost:8080/",
          "height": 342
        },
        "id": "jwi62GACfYtD",
        "outputId": "d88dc072-b2b0-4802-da63-52b257a07100"
      },
      "source": [
        "ax = sns.distplot(ratings_df['eval'], kde= False)"
      ],
      "execution_count": 43,
      "outputs": [
        {
          "output_type": "stream",
          "text": [
            "/usr/local/lib/python3.6/dist-packages/seaborn/distributions.py:2551: FutureWarning: `distplot` is a deprecated function and will be removed in a future version. Please adapt your code to use either `displot` (a figure-level function with similar flexibility) or `histplot` (an axes-level function for histograms).\n",
            "  warnings.warn(msg, FutureWarning)\n"
          ],
          "name": "stderr"
        },
        {
          "output_type": "display_data",
          "data": {
            "image/png": "[encoded data removed]",
            "text/plain": [
              "<Figure size 432x288 with 1 Axes>"
            ]
          },
          "metadata": {
            "tags": []
          }
        }
      ]
    },
    {
      "cell_type": "code",
      "metadata": {
        "colab": {
          "base_uri": "https://localhost:8080/",
          "height": 357
        },
        "id": "dgI9ymm4foHK",
        "outputId": "cadb22ee-139d-44ff-d658-572fe8eec117"
      },
      "source": [
        "sns.distplot(ratings_df[ratings_df['gender'] == 'female']['eval'], color = 'green', kde = False)\r\n",
        "sns.distplot(ratings_df[ratings_df['gender'] == 'male']['eval'], color = 'orange', kde = False)\r\n"
      ],
      "execution_count": 44,
      "outputs": [
        {
          "output_type": "stream",
          "text": [
            "/usr/local/lib/python3.6/dist-packages/seaborn/distributions.py:2551: FutureWarning: `distplot` is a deprecated function and will be removed in a future version. Please adapt your code to use either `displot` (a figure-level function with similar flexibility) or `histplot` (an axes-level function for histograms).\n",
            "  warnings.warn(msg, FutureWarning)\n"
          ],
          "name": "stderr"
        },
        {
          "output_type": "execute_result",
          "data": {
            "text/plain": [
              "<matplotlib.axes._subplots.AxesSubplot at 0x7f3ab6473d68>"
            ]
          },
          "metadata": {
            "tags": []
          },
          "execution_count": 44
        },
        {
          "output_type": "display_data",
          "data": {
            "image/png": "[encoded data removed]",
            "text/plain": [
              "<Figure size 432x288 with 1 Axes>"
            ]
          },
          "metadata": {
            "tags": []
          }
        }
      ]
    },
    {
      "cell_type": "code",
      "metadata": {
        "colab": {
          "base_uri": "https://localhost:8080/",
          "height": 285
        },
        "id": "tCXQawYhgMzF",
        "outputId": "583ba20e-4d98-4ca0-d482-0c49c6e4a32f"
      },
      "source": [
        "ax = sns.boxplot(x = 'gender', y = 'age', data = ratings_df)"
      ],
      "execution_count": 45,
      "outputs": [
        {
          "output_type": "display_data",
          "data": {
            "image/png": "[encoded data removed]",
            "text/plain": [
              "<Figure size 432x288 with 1 Axes>"
            ]
          },
          "metadata": {
            "tags": []
          }
        }
      ]
    },
    {
      "cell_type": "code",
      "metadata": {
        "colab": {
          "base_uri": "https://localhost:8080/",
          "height": 285
        },
        "id": "oDWAMIy6gbTu",
        "outputId": "7b566b27-74d0-4045-d882-f4e41c540726"
      },
      "source": [
        "ax = sns.boxplot(x = 'tenure', y = 'age', hue = 'gender',\r\n",
        "                 data = ratings_df)"
      ],
      "execution_count": 46,
      "outputs": [
        {
          "output_type": "display_data",
          "data": {
            "image/png": "[encoded data removed]",
            "text/plain": [
              "<Figure size 432x288 with 1 Axes>"
            ]
          },
          "metadata": {
            "tags": []
          }
        }
      ]
    },
    {
      "cell_type": "code",
      "metadata": {
        "colab": {
          "base_uri": "https://localhost:8080/",
          "height": 338
        },
        "id": "jAnulTskgmcW",
        "outputId": "2d372202-706a-481c-f558-e4adfdfdd202"
      },
      "source": [
        "sns.distplot(ratings_df[ratings_df['native'] == 'yes']['beauty'], color = 'orange', kde = False)\r\n",
        "sns.distplot(ratings_df[ratings_df['native'] == 'no']['beauty'], color = 'blue', kde = False)\r\n",
        "plt.show()"
      ],
      "execution_count": 47,
      "outputs": [
        {
          "output_type": "stream",
          "text": [
            "/usr/local/lib/python3.6/dist-packages/seaborn/distributions.py:2551: FutureWarning: `distplot` is a deprecated function and will be removed in a future version. Please adapt your code to use either `displot` (a figure-level function with similar flexibility) or `histplot` (an axes-level function for histograms).\n",
            "  warnings.warn(msg, FutureWarning)\n"
          ],
          "name": "stderr"
        },
        {
          "output_type": "display_data",
          "data": {
            "image/png": "[encoded data removed]",
            "text/plain": [
              "<Figure size 432x288 with 1 Axes>"
            ]
          },
          "metadata": {
            "tags": []
          }
        }
      ]
    },
    {
      "cell_type": "code",
      "metadata": {
        "colab": {
          "base_uri": "https://localhost:8080/",
          "height": 302
        },
        "id": "sJAnjJ40hTJ1",
        "outputId": "b0a87621-0beb-4d8e-d931-9aa87a519b99"
      },
      "source": [
        "sns.boxplot(x = 'age', y = 'minority', data = ratings_df)"
      ],
      "execution_count": 48,
      "outputs": [
        {
          "output_type": "execute_result",
          "data": {
            "text/plain": [
              "<matplotlib.axes._subplots.AxesSubplot at 0x7f3ab64f4748>"
            ]
          },
          "metadata": {
            "tags": []
          },
          "execution_count": 48
        },
        {
          "output_type": "display_data",
          "data": {
            "image/png": "[encoded data removed]",
            "text/plain": [
              "<Figure size 432x288 with 1 Axes>"
            ]
          },
          "metadata": {
            "tags": []
          }
        }
      ]
    },
    {
      "cell_type": "code",
      "metadata": {
        "colab": {
          "base_uri": "https://localhost:8080/",
          "height": 471
        },
        "id": "4eTA5KyoiF1g",
        "outputId": "b70bf141-fbb9-4b8e-ed98-cd453fa45773"
      },
      "source": [
        "sns.catplot(x = 'tenure', hue = 'minority', row = 'gender',\r\n",
        "            kind = 'count', data = ratings_df, \r\n",
        "            height = 3, aspect = 2)"
      ],
      "execution_count": 49,
      "outputs": [
        {
          "output_type": "execute_result",
          "data": {
            "text/plain": [
              "<seaborn.axisgrid.FacetGrid at 0x7f3ab4b632b0>"
            ]
          },
          "metadata": {
            "tags": []
          },
          "execution_count": 49
        },
        {
          "output_type": "display_data",
          "data": {
            "image/png": "[encoded data removed]",
            "text/plain": [
              "<Figure size 491.05x432 with 2 Axes>"
            ]
          },
          "metadata": {
            "tags": []
          }
        }
      ]
    },
    {
      "cell_type": "code",
      "metadata": {
        "colab": {
          "base_uri": "https://localhost:8080/",
          "height": 265
        },
        "id": "E1lSlrQ_imKp",
        "outputId": "ddd31ce6-879a-49b6-f0ad-48952489fe96"
      },
      "source": [
        "sns.boxplot(y= 'age', data = ratings_df)"
      ],
      "execution_count": 50,
      "outputs": [
        {
          "output_type": "execute_result",
          "data": {
            "text/plain": [
              "<matplotlib.axes._subplots.AxesSubplot at 0x7f3ab8d9f828>"
            ]
          },
          "metadata": {
            "tags": []
          },
          "execution_count": 50
        },
        {
          "output_type": "display_data",
          "data": {
            "image/png": "[encoded data removed]",
            "text/plain": [
              "<Figure size 432x288 with 1 Axes>"
            ]
          },
          "metadata": {
            "tags": []
          }
        }
      ]
    },
    {
      "cell_type": "markdown",
      "metadata": {
        "id": "-LwbGygljKjD"
      },
      "source": [
        "###**Probability Distribution**"
      ]
    },
    {
      "cell_type": "code",
      "metadata": {
        "id": "plRFzhmXdYk1"
      },
      "source": [
        "import scipy.stats\r\n",
        "from math import sqrt"
      ],
      "execution_count": 51,
      "outputs": []
    },
    {
      "cell_type": "code",
      "metadata": {
        "colab": {
          "base_uri": "https://localhost:8080/",
          "height": 0
        },
        "id": "bM8HB54pdfBp",
        "outputId": "bab3f901-0214-4ee9-c56a-f6c2a9423ea3"
      },
      "source": [
        "from scipy.stats import norm\r\n",
        "x_axis = np.arange(-4, 4, .1)\r\n",
        "# Mean = 0, sd = 1\r\n",
        "plt.plot(x_axis, norm.pdf(x_axis, 0, 1))\r\n",
        "plt.show()"
      ],
      "execution_count": 52,
      "outputs": [
        {
          "output_type": "display_data",
          "data": {
            "image/png": "[encoded data removed]",
            "text/plain": [
              "<Figure size 432x288 with 1 Axes>"
            ]
          },
          "metadata": {
            "tags": []
          }
        }
      ]
    },
    {
      "cell_type": "code",
      "metadata": {
        "colab": {
          "base_uri": "https://localhost:8080/"
        },
        "id": "L51p-v-Bd-pJ",
        "outputId": "fa338238-d7ef-495b-eb18-d4df3160a10d"
      },
      "source": [
        "eval_mean = round(ratings_df['eval'].mean(), 3)\r\n",
        "eval_sd = round(ratings_df['eval'].std(), 3)\r\n",
        "print(eval_mean, eval_sd)"
      ],
      "execution_count": 53,
      "outputs": [
        {
          "output_type": "stream",
          "text": [
            "3.998 0.555\n"
          ],
          "name": "stdout"
        }
      ]
    },
    {
      "cell_type": "code",
      "metadata": {
        "colab": {
          "base_uri": "https://localhost:8080/"
        },
        "id": "4fP9VBLtebpi",
        "outputId": "99f9cb73-dae1-4db7-9e9d-097432dd3aa2"
      },
      "source": [
        "prob0 = scipy.stats.norm.cdf((4.5 - eval_mean) / eval_sd)\r\n",
        "print(1 - prob0)"
      ],
      "execution_count": 54,
      "outputs": [
        {
          "output_type": "stream",
          "text": [
            "0.1828639734596742\n"
          ],
          "name": "stdout"
        }
      ]
    },
    {
      "cell_type": "code",
      "metadata": {
        "colab": {
          "base_uri": "https://localhost:8080/"
        },
        "id": "ofw06r2SewjT",
        "outputId": "ec786b88-f75f-49c1-8ea4-99577b49ff14"
      },
      "source": [
        "x1 = 3.5\r\n",
        "prob1 = scipy.stats.norm.cdf((x1 - eval_mean)/eval_sd)\r\n",
        "print(prob1)"
      ],
      "execution_count": 55,
      "outputs": [
        {
          "output_type": "stream",
          "text": [
            "0.1847801491443654\n"
          ],
          "name": "stdout"
        }
      ]
    },
    {
      "cell_type": "code",
      "metadata": {
        "colab": {
          "base_uri": "https://localhost:8080/"
        },
        "id": "wuw3Guy6fF1u",
        "outputId": "abcafb17-9d0e-4975-d9ed-18a50fb4f5c5"
      },
      "source": [
        "x2 = 4.2\r\n",
        "z = (x2 - eval_mean) / eval_sd\r\n",
        "prob2 = scipy.stats.norm.cdf(z)\r\n",
        "print(prob2)"
      ],
      "execution_count": 56,
      "outputs": [
        {
          "output_type": "stream",
          "text": [
            "0.642057540461896\n"
          ],
          "name": "stdout"
        }
      ]
    },
    {
      "cell_type": "code",
      "metadata": {
        "colab": {
          "base_uri": "https://localhost:8080/"
        },
        "id": "khor2pYufco8",
        "outputId": "3ca2ea81-7654-40da-f2bb-719f39a1138d"
      },
      "source": [
        "round((prob2 - prob1)* 100, 1)"
      ],
      "execution_count": 57,
      "outputs": [
        {
          "output_type": "execute_result",
          "data": {
            "text/plain": [
              "45.7"
            ]
          },
          "metadata": {
            "tags": []
          },
          "execution_count": 57
        }
      ]
    },
    {
      "cell_type": "code",
      "metadata": {
        "colab": {
          "base_uri": "https://localhost:8080/"
        },
        "id": "Yai98Nkafwg4",
        "outputId": "df14a7b3-e141-49d4-b87f-a33c12971ccf"
      },
      "source": [
        "2*round(scipy.stats.norm.cdf((10.7 - 12)/(5.5/sqrt(36))), 3)"
      ],
      "execution_count": 58,
      "outputs": [
        {
          "output_type": "execute_result",
          "data": {
            "text/plain": [
              "0.156"
            ]
          },
          "metadata": {
            "tags": []
          },
          "execution_count": 58
        }
      ]
    },
    {
      "cell_type": "code",
      "metadata": {
        "colab": {
          "base_uri": "https://localhost:8080/"
        },
        "id": "K1wVowoDhUOs",
        "outputId": "f7199c0d-9785-46be-eb32-a7e023c5fd94"
      },
      "source": [
        "x = 3.3\r\n",
        "z = (x - eval_mean) / eval_sd\r\n",
        "prob_eval_3_3 = scipy.stats.norm.cdf(z) \r\n",
        "\r\n",
        "1 - prob_eval_3_3"
      ],
      "execution_count": 59,
      "outputs": [
        {
          "output_type": "execute_result",
          "data": {
            "text/plain": [
              "0.8957422041794154"
            ]
          },
          "metadata": {
            "tags": []
          },
          "execution_count": 59
        }
      ]
    },
    {
      "cell_type": "code",
      "metadata": {
        "colab": {
          "base_uri": "https://localhost:8080/"
        },
        "id": "AwXau0eriUVF",
        "outputId": "57d2fff3-5db0-4077-f648-f03511f53d24"
      },
      "source": [
        "prob_2 = scipy.stats.norm.cdf((2 - eval_mean) / eval_sd)\r\n",
        "print(prob_2)\r\n",
        "prob_3 = scipy.stats.norm.cdf((3 - eval_mean) / eval_sd)\r\n",
        "print(prob_3)"
      ],
      "execution_count": 60,
      "outputs": [
        {
          "output_type": "stream",
          "text": [
            "0.00015910859015753364\n",
            "0.03607280250262359\n"
          ],
          "name": "stdout"
        }
      ]
    },
    {
      "cell_type": "code",
      "metadata": {
        "colab": {
          "base_uri": "https://localhost:8080/"
        },
        "id": "BWkzrDkfjEPX",
        "outputId": "61bbf17d-7076-4c51-9e26-eeacf4f253d3"
      },
      "source": [
        "round((prob_3 - prob_2)* 100, 1)"
      ],
      "execution_count": 61,
      "outputs": [
        {
          "output_type": "execute_result",
          "data": {
            "text/plain": [
              "3.6"
            ]
          },
          "metadata": {
            "tags": []
          },
          "execution_count": 61
        }
      ]
    },
    {
      "cell_type": "code",
      "metadata": {
        "id": "yLXkC3FLjJAN"
      },
      "source": [
        "result = [116, 111, 101, 120, 99, 94, 106, 115, 107, 101, 110, 92]\r\n",
        "mean = np.mean(result)\r\n",
        "std = np.std(result)"
      ],
      "execution_count": 62,
      "outputs": []
    },
    {
      "cell_type": "code",
      "metadata": {
        "colab": {
          "base_uri": "https://localhost:8080/"
        },
        "id": "mEVDm9eLjwl7",
        "outputId": "7a8b29c8-9128-4672-f6de-23cceb0abb3c"
      },
      "source": [
        "z = (mean - 100) / (std / sqrt(12))\r\n",
        "round(1 - scipy.stats.norm.cdf(z), 3)"
      ],
      "execution_count": 63,
      "outputs": [
        {
          "output_type": "execute_result",
          "data": {
            "text/plain": [
              "0.007"
            ]
          },
          "metadata": {
            "tags": []
          },
          "execution_count": 63
        }
      ]
    },
    {
      "cell_type": "markdown",
      "metadata": {
        "id": "VcTcsa5rlaFM"
      },
      "source": [
        "###**T test**"
      ]
    },
    {
      "cell_type": "code",
      "metadata": {
        "colab": {
          "base_uri": "https://localhost:8080/",
          "height": 0
        },
        "id": "96BS3K4r5YNF",
        "outputId": "f6b57482-8bcc-4ff8-c072-85ff4e1fa739"
      },
      "source": [
        "ax = sns.distplot(ratings_df['eval'],\r\n",
        "                 bins = 20, \r\n",
        "                 kde = True, \r\n",
        "                 color = 'red',\r\n",
        "                 hist_kws = {'linewidth': 15, 'alpha': 1})\r\n",
        "ax.set(xlabel = 'Normal Distribution', ylabel= 'freaqueny')"
      ],
      "execution_count": 64,
      "outputs": [
        {
          "output_type": "stream",
          "text": [
            "/usr/local/lib/python3.6/dist-packages/seaborn/distributions.py:2551: FutureWarning: `distplot` is a deprecated function and will be removed in a future version. Please adapt your code to use either `displot` (a figure-level function with similar flexibility) or `histplot` (an axes-level function for histograms).\n",
            "  warnings.warn(msg, FutureWarning)\n"
          ],
          "name": "stderr"
        },
        {
          "output_type": "execute_result",
          "data": {
            "text/plain": [
              "[Text(0, 0.5, 'freaqueny'), Text(0.5, 0, 'Normal Distribution')]"
            ]
          },
          "metadata": {
            "tags": []
          },
          "execution_count": 64
        },
        {
          "output_type": "display_data",
          "data": {
            "image/png": "[encoded data removed]",
            "text/plain": [
              "<Figure size 432x288 with 1 Axes>"
            ]
          },
          "metadata": {
            "tags": []
          }
        }
      ]
    },
    {
      "cell_type": "code",
      "metadata": {
        "colab": {
          "base_uri": "https://localhost:8080/"
        },
        "id": "lTyXcFR-6BQF",
        "outputId": "ba026cec-327b-454f-8995-a2e626d50fd0"
      },
      "source": [
        "scipy.stats.levene(ratings_df[ratings_df['gender'] == 'female']['eval'],\r\n",
        "                   ratings_df[ratings_df['gender'] == 'male']['eval'], center = 'mean')"
      ],
      "execution_count": 65,
      "outputs": [
        {
          "output_type": "execute_result",
          "data": {
            "text/plain": [
              "LeveneResult(statistic=0.1903292243529225, pvalue=0.6628469836244741)"
            ]
          },
          "metadata": {
            "tags": []
          },
          "execution_count": 65
        }
      ]
    },
    {
      "cell_type": "code",
      "metadata": {
        "colab": {
          "base_uri": "https://localhost:8080/"
        },
        "id": "bCmte8Zi6q5u",
        "outputId": "9a6fda29-d0f0-45e5-d9a5-17db58a4fdd2"
      },
      "source": [
        "scipy.stats.ttest_ind(ratings_df[ratings_df['gender'] == 'female']['eval'],\r\n",
        "                      ratings_df[ratings_df['gender'] == 'male']['eval'], equal_var = True)"
      ],
      "execution_count": 66,
      "outputs": [
        {
          "output_type": "execute_result",
          "data": {
            "text/plain": [
              "Ttest_indResult(statistic=-3.249937943510772, pvalue=0.0012387609449522217)"
            ]
          },
          "metadata": {
            "tags": []
          },
          "execution_count": 66
        }
      ]
    },
    {
      "cell_type": "markdown",
      "metadata": {
        "id": "cnruzy2g7UjQ"
      },
      "source": [
        "###**ANOVA**"
      ]
    },
    {
      "cell_type": "code",
      "metadata": {
        "id": "yrZ05J-z7fO_"
      },
      "source": [
        "ratings_df.loc[(ratings_df['age'] <= 40), 'age_group'] = '40 years and younger'\r\n",
        "ratings_df.loc[(ratings_df['age'] > 40)&(ratings_df['age'] < 57), 'age_group'] = 'between 40 and 57 years'\r\n",
        "ratings_df.loc[(ratings_df['age'] >= 57), 'age_group'] = '57 years and older'"
      ],
      "execution_count": 67,
      "outputs": []
    },
    {
      "cell_type": "code",
      "metadata": {
        "colab": {
          "base_uri": "https://localhost:8080/"
        },
        "id": "IS2x9d0_BfPX",
        "outputId": "d374b6de-ebc1-4742-8e42-280ccc31f019"
      },
      "source": [
        "scipy.stats.levene(ratings_df[ratings_df['age_group'] == '40 years and younger']['beauty'],\r\n",
        "                   ratings_df[ratings_df['age_group'] == 'between 40 and 57 years']['beauty'], \r\n",
        "                   ratings_df[ratings_df['age_group'] == '57 years and older']['beauty'], \r\n",
        "                   center='mean')"
      ],
      "execution_count": 68,
      "outputs": [
        {
          "output_type": "execute_result",
          "data": {
            "text/plain": [
              "LeveneResult(statistic=8.60005668392585, pvalue=0.0002153661809934714)"
            ]
          },
          "metadata": {
            "tags": []
          },
          "execution_count": 68
        }
      ]
    },
    {
      "cell_type": "code",
      "metadata": {
        "id": "EQFfeU7GDwxv"
      },
      "source": [
        "sample1 = 9, 11, 10,11,10,12, 9,11,12, 9, 10\r\n",
        "sample2 = 10, 13, 10, 13, 12, 9, 11, 12, 12, 12, 13"
      ],
      "execution_count": 69,
      "outputs": []
    },
    {
      "cell_type": "code",
      "metadata": {
        "colab": {
          "base_uri": "https://localhost:8080/"
        },
        "id": "X71NQxVtufOS",
        "outputId": "9ce5e74b-adba-4597-dbab-de78c7b54cae"
      },
      "source": [
        "import statsmodels.api as sm"
      ],
      "execution_count": 70,
      "outputs": [
        {
          "output_type": "stream",
          "text": [
            "/usr/local/lib/python3.6/dist-packages/statsmodels/tools/_testing.py:19: FutureWarning: pandas.util.testing is deprecated. Use the functions in the public API at pandas.testing instead.\n",
            "  import pandas.util.testing as tm\n"
          ],
          "name": "stderr"
        }
      ]
    },
    {
      "cell_type": "code",
      "metadata": {
        "colab": {
          "base_uri": "https://localhost:8080/",
          "height": 426
        },
        "id": "PtOjRmpLxPCD",
        "outputId": "75063c6a-167a-45f1-a21b-d90c92900cd3"
      },
      "source": [
        "x = ratings_df['female']\r\n",
        "y = ratings_df['eval']\r\n",
        "x = sm.add_constant(x)\r\n",
        "\r\n",
        "model = sm.OLS(y, x).fit()\r\n",
        "predictions = model.predict(x)\r\n",
        "\r\n",
        "model.summary()"
      ],
      "execution_count": 71,
      "outputs": [
        {
          "output_type": "execute_result",
          "data": {
            "text/html": [
              "<table class=\"simpletable\">\n",
              "<caption>OLS Regression Results</caption>\n",
              "<tr>\n",
              "  <th>Dep. Variable:</th>          <td>eval</td>       <th>  R-squared:         </th> <td>   0.022</td>\n",
              "</tr>\n",
              "<tr>\n",
              "  <th>Model:</th>                   <td>OLS</td>       <th>  Adj. R-squared:    </th> <td>   0.020</td>\n",
              "</tr>\n",
              "<tr>\n",
              "  <th>Method:</th>             <td>Least Squares</td>  <th>  F-statistic:       </th> <td>   10.56</td>\n",
              "</tr>\n",
              "<tr>\n",
              "  <th>Date:</th>             <td>Mon, 28 Dec 2020</td> <th>  Prob (F-statistic):</th>  <td>0.00124</td>\n",
              "</tr>\n",
              "<tr>\n",
              "  <th>Time:</th>                 <td>11:57:29</td>     <th>  Log-Likelihood:    </th> <td> -378.50</td>\n",
              "</tr>\n",
              "<tr>\n",
              "  <th>No. Observations:</th>      <td>   463</td>      <th>  AIC:               </th> <td>   761.0</td>\n",
              "</tr>\n",
              "<tr>\n",
              "  <th>Df Residuals:</th>          <td>   461</td>      <th>  BIC:               </th> <td>   769.3</td>\n",
              "</tr>\n",
              "<tr>\n",
              "  <th>Df Model:</th>              <td>     1</td>      <th>                     </th>     <td> </td>   \n",
              "</tr>\n",
              "<tr>\n",
              "  <th>Covariance Type:</th>      <td>nonrobust</td>    <th>                     </th>     <td> </td>   \n",
              "</tr>\n",
              "</table>\n",
              "<table class=\"simpletable\">\n",
              "<tr>\n",
              "     <td></td>       <th>coef</th>     <th>std err</th>      <th>t</th>      <th>P>|t|</th>  <th>[0.025</th>    <th>0.975]</th>  \n",
              "</tr>\n",
              "<tr>\n",
              "  <th>const</th>  <td>    4.0690</td> <td>    0.034</td> <td>  121.288</td> <td> 0.000</td> <td>    4.003</td> <td>    4.135</td>\n",
              "</tr>\n",
              "<tr>\n",
              "  <th>female</th> <td>   -0.1680</td> <td>    0.052</td> <td>   -3.250</td> <td> 0.001</td> <td>   -0.270</td> <td>   -0.066</td>\n",
              "</tr>\n",
              "</table>\n",
              "<table class=\"simpletable\">\n",
              "<tr>\n",
              "  <th>Omnibus:</th>       <td>17.625</td> <th>  Durbin-Watson:     </th> <td>   1.209</td>\n",
              "</tr>\n",
              "<tr>\n",
              "  <th>Prob(Omnibus):</th> <td> 0.000</td> <th>  Jarque-Bera (JB):  </th> <td>  18.970</td>\n",
              "</tr>\n",
              "<tr>\n",
              "  <th>Skew:</th>          <td>-0.496</td> <th>  Prob(JB):          </th> <td>7.60e-05</td>\n",
              "</tr>\n",
              "<tr>\n",
              "  <th>Kurtosis:</th>      <td> 2.981</td> <th>  Cond. No.          </th> <td>    2.47</td>\n",
              "</tr>\n",
              "</table><br/><br/>Warnings:<br/>[1] Standard Errors assume that the covariance matrix of the errors is correctly specified."
            ],
            "text/plain": [
              "<class 'statsmodels.iolib.summary.Summary'>\n",
              "\"\"\"\n",
              "                            OLS Regression Results                            \n",
              "==============================================================================\n",
              "Dep. Variable:                   eval   R-squared:                       0.022\n",
              "Model:                            OLS   Adj. R-squared:                  0.020\n",
              "Method:                 Least Squares   F-statistic:                     10.56\n",
              "Date:                Mon, 28 Dec 2020   Prob (F-statistic):            0.00124\n",
              "Time:                        11:57:29   Log-Likelihood:                -378.50\n",
              "No. Observations:                 463   AIC:                             761.0\n",
              "Df Residuals:                     461   BIC:                             769.3\n",
              "Df Model:                           1                                         \n",
              "Covariance Type:            nonrobust                                         \n",
              "==============================================================================\n",
              "                 coef    std err          t      P>|t|      [0.025      0.975]\n",
              "------------------------------------------------------------------------------\n",
              "const          4.0690      0.034    121.288      0.000       4.003       4.135\n",
              "female        -0.1680      0.052     -3.250      0.001      -0.270      -0.066\n",
              "==============================================================================\n",
              "Omnibus:                       17.625   Durbin-Watson:                   1.209\n",
              "Prob(Omnibus):                  0.000   Jarque-Bera (JB):               18.970\n",
              "Skew:                          -0.496   Prob(JB):                     7.60e-05\n",
              "Kurtosis:                       2.981   Cond. No.                         2.47\n",
              "==============================================================================\n",
              "\n",
              "Warnings:\n",
              "[1] Standard Errors assume that the covariance matrix of the errors is correctly specified.\n",
              "\"\"\""
            ]
          },
          "metadata": {
            "tags": []
          },
          "execution_count": 71
        }
      ]
    },
    {
      "cell_type": "code",
      "metadata": {
        "id": "aYr1xKgexSS8"
      },
      "source": [
        "ratings_df.loc[(ratings_df['age'] <= 40), 'age_group'] = '40 years and younger'\r\n",
        "ratings_df.loc[(ratings_df['age'] > 40) & (ratings_df['age'] < 57), 'age_group'] = 'between 40 and 57 years'\r\n",
        "ratings_df.loc[(ratings_df['age'] >= 57), 'age_group'] = '57 years and older'"
      ],
      "execution_count": 72,
      "outputs": []
    },
    {
      "cell_type": "code",
      "metadata": {
        "colab": {
          "base_uri": "https://localhost:8080/"
        },
        "id": "MqdhbgYdy84o",
        "outputId": "585457f2-74d6-4070-f917-40da9efb79dc"
      },
      "source": [
        "from statsmodels.formula.api import ols\r\n",
        "lm = ols('beauty ~ age_group', data = ratings_df).fit()\r\n",
        "table = sm.stats.anova_lm(lm)\r\n",
        "print(table)"
      ],
      "execution_count": 73,
      "outputs": [
        {
          "output_type": "stream",
          "text": [
            "              df      sum_sq    mean_sq          F        PR(>F)\n",
            "age_group    2.0   20.422744  10.211372  17.597559  4.322549e-08\n",
            "Residual   460.0  266.925153   0.580272        NaN           NaN\n"
          ],
          "name": "stdout"
        }
      ]
    },
    {
      "cell_type": "code",
      "metadata": {
        "id": "YI71jIrhzWnt"
      },
      "source": [
        "X = pd.get_dummies(ratings_df['age_group'])"
      ],
      "execution_count": 74,
      "outputs": []
    },
    {
      "cell_type": "code",
      "metadata": {
        "colab": {
          "base_uri": "https://localhost:8080/",
          "height": 499
        },
        "id": "xrRo1gocznqp",
        "outputId": "e30993a0-9b37-47c8-fac7-1c5753f1e369"
      },
      "source": [
        "y = ratings_df['beauty']\r\n",
        "\r\n",
        "X = sm.add_constant(X)\r\n",
        "\r\n",
        "model = sm.OLS(y, X).fit()\r\n",
        "\r\n",
        "model.summary()"
      ],
      "execution_count": 75,
      "outputs": [
        {
          "output_type": "execute_result",
          "data": {
            "text/html": [
              "<table class=\"simpletable\">\n",
              "<caption>OLS Regression Results</caption>\n",
              "<tr>\n",
              "  <th>Dep. Variable:</th>         <td>beauty</td>      <th>  R-squared:         </th> <td>   0.071</td>\n",
              "</tr>\n",
              "<tr>\n",
              "  <th>Model:</th>                   <td>OLS</td>       <th>  Adj. R-squared:    </th> <td>   0.067</td>\n",
              "</tr>\n",
              "<tr>\n",
              "  <th>Method:</th>             <td>Least Squares</td>  <th>  F-statistic:       </th> <td>   17.60</td>\n",
              "</tr>\n",
              "<tr>\n",
              "  <th>Date:</th>             <td>Mon, 28 Dec 2020</td> <th>  Prob (F-statistic):</th> <td>4.32e-08</td>\n",
              "</tr>\n",
              "<tr>\n",
              "  <th>Time:</th>                 <td>11:57:29</td>     <th>  Log-Likelihood:    </th> <td> -529.47</td>\n",
              "</tr>\n",
              "<tr>\n",
              "  <th>No. Observations:</th>      <td>   463</td>      <th>  AIC:               </th> <td>   1065.</td>\n",
              "</tr>\n",
              "<tr>\n",
              "  <th>Df Residuals:</th>          <td>   460</td>      <th>  BIC:               </th> <td>   1077.</td>\n",
              "</tr>\n",
              "<tr>\n",
              "  <th>Df Model:</th>              <td>     2</td>      <th>                     </th>     <td> </td>   \n",
              "</tr>\n",
              "<tr>\n",
              "  <th>Covariance Type:</th>      <td>nonrobust</td>    <th>                     </th>     <td> </td>   \n",
              "</tr>\n",
              "</table>\n",
              "<table class=\"simpletable\">\n",
              "<tr>\n",
              "             <td></td>                <th>coef</th>     <th>std err</th>      <th>t</th>      <th>P>|t|</th>  <th>[0.025</th>    <th>0.975]</th>  \n",
              "</tr>\n",
              "<tr>\n",
              "  <th>const</th>                   <td>    0.0138</td> <td>    0.028</td> <td>    0.496</td> <td> 0.620</td> <td>   -0.041</td> <td>    0.069</td>\n",
              "</tr>\n",
              "<tr>\n",
              "  <th>40 years and younger</th>    <td>    0.3224</td> <td>    0.058</td> <td>    5.574</td> <td> 0.000</td> <td>    0.209</td> <td>    0.436</td>\n",
              "</tr>\n",
              "<tr>\n",
              "  <th>57 years and older</th>      <td>   -0.2596</td> <td>    0.056</td> <td>   -4.621</td> <td> 0.000</td> <td>   -0.370</td> <td>   -0.149</td>\n",
              "</tr>\n",
              "<tr>\n",
              "  <th>between 40 and 57 years</th> <td>   -0.0489</td> <td>    0.045</td> <td>   -1.081</td> <td> 0.280</td> <td>   -0.138</td> <td>    0.040</td>\n",
              "</tr>\n",
              "</table>\n",
              "<table class=\"simpletable\">\n",
              "<tr>\n",
              "  <th>Omnibus:</th>       <td>11.586</td> <th>  Durbin-Watson:     </th> <td>   0.434</td>\n",
              "</tr>\n",
              "<tr>\n",
              "  <th>Prob(Omnibus):</th> <td> 0.003</td> <th>  Jarque-Bera (JB):  </th> <td>  12.114</td>\n",
              "</tr>\n",
              "<tr>\n",
              "  <th>Skew:</th>          <td> 0.394</td> <th>  Prob(JB):          </th> <td> 0.00234</td>\n",
              "</tr>\n",
              "<tr>\n",
              "  <th>Kurtosis:</th>      <td> 2.913</td> <th>  Cond. No.          </th> <td>5.98e+15</td>\n",
              "</tr>\n",
              "</table><br/><br/>Warnings:<br/>[1] Standard Errors assume that the covariance matrix of the errors is correctly specified.<br/>[2] The smallest eigenvalue is 1.79e-29. This might indicate that there are<br/>strong multicollinearity problems or that the design matrix is singular."
            ],
            "text/plain": [
              "<class 'statsmodels.iolib.summary.Summary'>\n",
              "\"\"\"\n",
              "                            OLS Regression Results                            \n",
              "==============================================================================\n",
              "Dep. Variable:                 beauty   R-squared:                       0.071\n",
              "Model:                            OLS   Adj. R-squared:                  0.067\n",
              "Method:                 Least Squares   F-statistic:                     17.60\n",
              "Date:                Mon, 28 Dec 2020   Prob (F-statistic):           4.32e-08\n",
              "Time:                        11:57:29   Log-Likelihood:                -529.47\n",
              "No. Observations:                 463   AIC:                             1065.\n",
              "Df Residuals:                     460   BIC:                             1077.\n",
              "Df Model:                           2                                         \n",
              "Covariance Type:            nonrobust                                         \n",
              "===========================================================================================\n",
              "                              coef    std err          t      P>|t|      [0.025      0.975]\n",
              "-------------------------------------------------------------------------------------------\n",
              "const                       0.0138      0.028      0.496      0.620      -0.041       0.069\n",
              "40 years and younger        0.3224      0.058      5.574      0.000       0.209       0.436\n",
              "57 years and older         -0.2596      0.056     -4.621      0.000      -0.370      -0.149\n",
              "between 40 and 57 years    -0.0489      0.045     -1.081      0.280      -0.138       0.040\n",
              "==============================================================================\n",
              "Omnibus:                       11.586   Durbin-Watson:                   0.434\n",
              "Prob(Omnibus):                  0.003   Jarque-Bera (JB):               12.114\n",
              "Skew:                           0.394   Prob(JB):                      0.00234\n",
              "Kurtosis:                       2.913   Cond. No.                     5.98e+15\n",
              "==============================================================================\n",
              "\n",
              "Warnings:\n",
              "[1] Standard Errors assume that the covariance matrix of the errors is correctly specified.\n",
              "[2] The smallest eigenvalue is 1.79e-29. This might indicate that there are\n",
              "strong multicollinearity problems or that the design matrix is singular.\n",
              "\"\"\""
            ]
          },
          "metadata": {
            "tags": []
          },
          "execution_count": 75
        }
      ]
    },
    {
      "cell_type": "code",
      "metadata": {
        "colab": {
          "base_uri": "https://localhost:8080/",
          "height": 426
        },
        "id": "dNUgIKz2z4fB",
        "outputId": "2b36e779-094e-48e0-8f1c-7a3d8524a6dc"
      },
      "source": [
        "X = ratings_df['beauty']\r\n",
        "y = ratings_df['eval']\r\n",
        "X = sm.add_constant(X)\r\n",
        "\r\n",
        "model = sm.OLS(y, X).fit()\r\n",
        "predictions = model.predict(X)\r\n",
        "\r\n",
        "model.summary()"
      ],
      "execution_count": 76,
      "outputs": [
        {
          "output_type": "execute_result",
          "data": {
            "text/html": [
              "<table class=\"simpletable\">\n",
              "<caption>OLS Regression Results</caption>\n",
              "<tr>\n",
              "  <th>Dep. Variable:</th>          <td>eval</td>       <th>  R-squared:         </th> <td>   0.036</td>\n",
              "</tr>\n",
              "<tr>\n",
              "  <th>Model:</th>                   <td>OLS</td>       <th>  Adj. R-squared:    </th> <td>   0.034</td>\n",
              "</tr>\n",
              "<tr>\n",
              "  <th>Method:</th>             <td>Least Squares</td>  <th>  F-statistic:       </th> <td>   17.08</td>\n",
              "</tr>\n",
              "<tr>\n",
              "  <th>Date:</th>             <td>Mon, 28 Dec 2020</td> <th>  Prob (F-statistic):</th> <td>4.25e-05</td>\n",
              "</tr>\n",
              "<tr>\n",
              "  <th>Time:</th>                 <td>11:57:29</td>     <th>  Log-Likelihood:    </th> <td> -375.32</td>\n",
              "</tr>\n",
              "<tr>\n",
              "  <th>No. Observations:</th>      <td>   463</td>      <th>  AIC:               </th> <td>   754.6</td>\n",
              "</tr>\n",
              "<tr>\n",
              "  <th>Df Residuals:</th>          <td>   461</td>      <th>  BIC:               </th> <td>   762.9</td>\n",
              "</tr>\n",
              "<tr>\n",
              "  <th>Df Model:</th>              <td>     1</td>      <th>                     </th>     <td> </td>   \n",
              "</tr>\n",
              "<tr>\n",
              "  <th>Covariance Type:</th>      <td>nonrobust</td>    <th>                     </th>     <td> </td>   \n",
              "</tr>\n",
              "</table>\n",
              "<table class=\"simpletable\">\n",
              "<tr>\n",
              "     <td></td>       <th>coef</th>     <th>std err</th>      <th>t</th>      <th>P>|t|</th>  <th>[0.025</th>    <th>0.975]</th>  \n",
              "</tr>\n",
              "<tr>\n",
              "  <th>const</th>  <td>    3.9983</td> <td>    0.025</td> <td>  157.727</td> <td> 0.000</td> <td>    3.948</td> <td>    4.048</td>\n",
              "</tr>\n",
              "<tr>\n",
              "  <th>beauty</th> <td>    0.1330</td> <td>    0.032</td> <td>    4.133</td> <td> 0.000</td> <td>    0.070</td> <td>    0.196</td>\n",
              "</tr>\n",
              "</table>\n",
              "<table class=\"simpletable\">\n",
              "<tr>\n",
              "  <th>Omnibus:</th>       <td>15.399</td> <th>  Durbin-Watson:     </th> <td>   1.238</td>\n",
              "</tr>\n",
              "<tr>\n",
              "  <th>Prob(Omnibus):</th> <td> 0.000</td> <th>  Jarque-Bera (JB):  </th> <td>  16.405</td>\n",
              "</tr>\n",
              "<tr>\n",
              "  <th>Skew:</th>          <td>-0.453</td> <th>  Prob(JB):          </th> <td>0.000274</td>\n",
              "</tr>\n",
              "<tr>\n",
              "  <th>Kurtosis:</th>      <td> 2.831</td> <th>  Cond. No.          </th> <td>    1.27</td>\n",
              "</tr>\n",
              "</table><br/><br/>Warnings:<br/>[1] Standard Errors assume that the covariance matrix of the errors is correctly specified."
            ],
            "text/plain": [
              "<class 'statsmodels.iolib.summary.Summary'>\n",
              "\"\"\"\n",
              "                            OLS Regression Results                            \n",
              "==============================================================================\n",
              "Dep. Variable:                   eval   R-squared:                       0.036\n",
              "Model:                            OLS   Adj. R-squared:                  0.034\n",
              "Method:                 Least Squares   F-statistic:                     17.08\n",
              "Date:                Mon, 28 Dec 2020   Prob (F-statistic):           4.25e-05\n",
              "Time:                        11:57:29   Log-Likelihood:                -375.32\n",
              "No. Observations:                 463   AIC:                             754.6\n",
              "Df Residuals:                     461   BIC:                             762.9\n",
              "Df Model:                           1                                         \n",
              "Covariance Type:            nonrobust                                         \n",
              "==============================================================================\n",
              "                 coef    std err          t      P>|t|      [0.025      0.975]\n",
              "------------------------------------------------------------------------------\n",
              "const          3.9983      0.025    157.727      0.000       3.948       4.048\n",
              "beauty         0.1330      0.032      4.133      0.000       0.070       0.196\n",
              "==============================================================================\n",
              "Omnibus:                       15.399   Durbin-Watson:                   1.238\n",
              "Prob(Omnibus):                  0.000   Jarque-Bera (JB):               16.405\n",
              "Skew:                          -0.453   Prob(JB):                     0.000274\n",
              "Kurtosis:                       2.831   Cond. No.                         1.27\n",
              "==============================================================================\n",
              "\n",
              "Warnings:\n",
              "[1] Standard Errors assume that the covariance matrix of the errors is correctly specified.\n",
              "\"\"\""
            ]
          },
          "metadata": {
            "tags": []
          },
          "execution_count": 76
        }
      ]
    },
    {
      "cell_type": "code",
      "metadata": {
        "id": "uIoVUMH_0VS9"
      },
      "source": [
        "# T test quiz\r\n",
        "Sample1 = 9, 11, 10,11,10,12, 9,11,12, 9, 10\r\n",
        "Sample2 = 10, 13, 10, 13, 12, 9, 11, 12, 12, 12, 13"
      ],
      "execution_count": 77,
      "outputs": []
    },
    {
      "cell_type": "code",
      "metadata": {
        "colab": {
          "base_uri": "https://localhost:8080/"
        },
        "id": "YDP1jMARO_V8",
        "outputId": "64013da9-1007-4ee8-d779-c268c3e7c199"
      },
      "source": [
        "scipy.stats.levene(Sample1,\r\n",
        "                   sample2,\r\n",
        "                   center = 'mean')"
      ],
      "execution_count": 78,
      "outputs": [
        {
          "output_type": "execute_result",
          "data": {
            "text/plain": [
              "LeveneResult(statistic=0.4776944334780897, pvalue=0.49741319152013475)"
            ]
          },
          "metadata": {
            "tags": []
          },
          "execution_count": 78
        }
      ]
    },
    {
      "cell_type": "code",
      "metadata": {
        "colab": {
          "base_uri": "https://localhost:8080/"
        },
        "id": "TVcHkBkrPRbe",
        "outputId": "ff8c6118-e2fd-4961-81ae-934cd3fafa30"
      },
      "source": [
        "scipy.stats.ttest_ind(sample1,\r\n",
        "                      sample2,\r\n",
        "                      equal_var = True)"
      ],
      "execution_count": 79,
      "outputs": [
        {
          "output_type": "execute_result",
          "data": {
            "text/plain": [
              "Ttest_indResult(statistic=-2.2164816032790386, pvalue=0.03841461541539729)"
            ]
          },
          "metadata": {
            "tags": []
          },
          "execution_count": 79
        }
      ]
    },
    {
      "cell_type": "code",
      "metadata": {
        "id": "neIWn3SpPh_E"
      },
      "source": [
        ""
      ],
      "execution_count": 79,
      "outputs": []
    }
  ]
}